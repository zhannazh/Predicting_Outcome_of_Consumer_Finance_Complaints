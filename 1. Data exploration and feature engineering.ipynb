{
 "cells": [
  {
   "cell_type": "markdown",
   "metadata": {},
   "source": [
    "May 2017, revised in 2019\n"
   ]
  },
  {
   "cell_type": "markdown",
   "metadata": {},
   "source": [
    "Zhanna Zhanabekova"
   ]
  },
  {
   "cell_type": "markdown",
   "metadata": {},
   "source": [
    "IPython Notebook #1 of 2: Load and explore data. Transform variables."
   ]
  },
  {
   "cell_type": "markdown",
   "metadata": {},
   "source": [
    "**The goal of this project** is to predict the outcome of credit card-related consumer complaints filed with the Consumer Financial Protection Bureau (CFPB). Here, an outcome could result in monetary relief or be settled otherwise.\n",
    "\n"
   ]
  },
  {
   "cell_type": "code",
   "execution_count": 1,
   "metadata": {},
   "outputs": [],
   "source": [
    "# Import useful packages\n",
    "import pandas as pd\n",
    "import numpy as np\n",
    "import csv\n",
    "import pickle\n",
    "from sklearn import preprocessing\n",
    "from sklearn.tree import DecisionTreeClassifier\n",
    "\n",
    "import matplotlib\n",
    "import matplotlib.pyplot as plt\n",
    "%matplotlib inline"
   ]
  },
  {
   "cell_type": "code",
   "execution_count": 3,
   "metadata": {
    "scrolled": false
   },
   "outputs": [
    {
     "name": "stdout",
     "output_type": "stream",
     "text": [
      "Index(['Date received', 'Product', 'Sub-product', 'Issue', 'Sub-issue',\n",
      "       'Consumer complaint narrative', 'Company public response', 'Company',\n",
      "       'State', 'ZIP code', 'Tags', 'Consumer consent provided?',\n",
      "       'Submitted via', 'Date sent to company', 'Company response to consumer',\n",
      "       'Timely response?', 'Consumer disputed?', 'Complaint ID'],\n",
      "      dtype='object')\n",
      "\n",
      "N =  738832\n",
      "\n"
     ]
    },
    {
     "data": {
      "text/html": [
       "<div>\n",
       "<style scoped>\n",
       "    .dataframe tbody tr th:only-of-type {\n",
       "        vertical-align: middle;\n",
       "    }\n",
       "\n",
       "    .dataframe tbody tr th {\n",
       "        vertical-align: top;\n",
       "    }\n",
       "\n",
       "    .dataframe thead th {\n",
       "        text-align: right;\n",
       "    }\n",
       "</style>\n",
       "<table border=\"1\" class=\"dataframe\">\n",
       "  <thead>\n",
       "    <tr style=\"text-align: right;\">\n",
       "      <th></th>\n",
       "      <th>0</th>\n",
       "      <th>1</th>\n",
       "      <th>2</th>\n",
       "      <th>3</th>\n",
       "      <th>4</th>\n",
       "    </tr>\n",
       "  </thead>\n",
       "  <tbody>\n",
       "    <tr>\n",
       "      <th>Date received</th>\n",
       "      <td>07/29/2013</td>\n",
       "      <td>07/29/2013</td>\n",
       "      <td>07/29/2013</td>\n",
       "      <td>07/29/2013</td>\n",
       "      <td>07/29/2013</td>\n",
       "    </tr>\n",
       "    <tr>\n",
       "      <th>Product</th>\n",
       "      <td>Consumer Loan</td>\n",
       "      <td>Bank account or service</td>\n",
       "      <td>Bank account or service</td>\n",
       "      <td>Bank account or service</td>\n",
       "      <td>Mortgage</td>\n",
       "    </tr>\n",
       "    <tr>\n",
       "      <th>Sub-product</th>\n",
       "      <td>Vehicle loan</td>\n",
       "      <td>Checking account</td>\n",
       "      <td>Checking account</td>\n",
       "      <td>Checking account</td>\n",
       "      <td>Conventional fixed mortgage</td>\n",
       "    </tr>\n",
       "    <tr>\n",
       "      <th>Issue</th>\n",
       "      <td>Managing the loan or lease</td>\n",
       "      <td>Using a debit or ATM card</td>\n",
       "      <td>Account opening, closing, or management</td>\n",
       "      <td>Deposits and withdrawals</td>\n",
       "      <td>Loan servicing, payments, escrow account</td>\n",
       "    </tr>\n",
       "    <tr>\n",
       "      <th>Sub-issue</th>\n",
       "      <td>NaN</td>\n",
       "      <td>NaN</td>\n",
       "      <td>NaN</td>\n",
       "      <td>NaN</td>\n",
       "      <td>NaN</td>\n",
       "    </tr>\n",
       "    <tr>\n",
       "      <th>Consumer complaint narrative</th>\n",
       "      <td>NaN</td>\n",
       "      <td>NaN</td>\n",
       "      <td>NaN</td>\n",
       "      <td>NaN</td>\n",
       "      <td>NaN</td>\n",
       "    </tr>\n",
       "    <tr>\n",
       "      <th>Company public response</th>\n",
       "      <td>NaN</td>\n",
       "      <td>NaN</td>\n",
       "      <td>NaN</td>\n",
       "      <td>NaN</td>\n",
       "      <td>NaN</td>\n",
       "    </tr>\n",
       "    <tr>\n",
       "      <th>Company</th>\n",
       "      <td>Wells Fargo &amp; Company</td>\n",
       "      <td>Wells Fargo &amp; Company</td>\n",
       "      <td>Santander Bank US</td>\n",
       "      <td>Wells Fargo &amp; Company</td>\n",
       "      <td>Franklin Credit Management</td>\n",
       "    </tr>\n",
       "    <tr>\n",
       "      <th>State</th>\n",
       "      <td>VA</td>\n",
       "      <td>CA</td>\n",
       "      <td>NY</td>\n",
       "      <td>GA</td>\n",
       "      <td>CT</td>\n",
       "    </tr>\n",
       "    <tr>\n",
       "      <th>ZIP code</th>\n",
       "      <td>24540</td>\n",
       "      <td>95992</td>\n",
       "      <td>10065</td>\n",
       "      <td>30084</td>\n",
       "      <td>06106</td>\n",
       "    </tr>\n",
       "    <tr>\n",
       "      <th>Tags</th>\n",
       "      <td>NaN</td>\n",
       "      <td>Older American</td>\n",
       "      <td>NaN</td>\n",
       "      <td>NaN</td>\n",
       "      <td>NaN</td>\n",
       "    </tr>\n",
       "    <tr>\n",
       "      <th>Consumer consent provided?</th>\n",
       "      <td>NaN</td>\n",
       "      <td>NaN</td>\n",
       "      <td>NaN</td>\n",
       "      <td>NaN</td>\n",
       "      <td>NaN</td>\n",
       "    </tr>\n",
       "    <tr>\n",
       "      <th>Submitted via</th>\n",
       "      <td>Phone</td>\n",
       "      <td>Web</td>\n",
       "      <td>Fax</td>\n",
       "      <td>Web</td>\n",
       "      <td>Web</td>\n",
       "    </tr>\n",
       "    <tr>\n",
       "      <th>Date sent to company</th>\n",
       "      <td>07/30/2013</td>\n",
       "      <td>07/31/2013</td>\n",
       "      <td>07/31/2013</td>\n",
       "      <td>07/30/2013</td>\n",
       "      <td>07/30/2013</td>\n",
       "    </tr>\n",
       "    <tr>\n",
       "      <th>Company response to consumer</th>\n",
       "      <td>Closed with explanation</td>\n",
       "      <td>Closed with explanation</td>\n",
       "      <td>Closed</td>\n",
       "      <td>Closed with explanation</td>\n",
       "      <td>Closed with explanation</td>\n",
       "    </tr>\n",
       "    <tr>\n",
       "      <th>Timely response?</th>\n",
       "      <td>Yes</td>\n",
       "      <td>Yes</td>\n",
       "      <td>Yes</td>\n",
       "      <td>Yes</td>\n",
       "      <td>Yes</td>\n",
       "    </tr>\n",
       "    <tr>\n",
       "      <th>Consumer disputed?</th>\n",
       "      <td>No</td>\n",
       "      <td>No</td>\n",
       "      <td>No</td>\n",
       "      <td>No</td>\n",
       "      <td>No</td>\n",
       "    </tr>\n",
       "    <tr>\n",
       "      <th>Complaint ID</th>\n",
       "      <td>468882</td>\n",
       "      <td>468889</td>\n",
       "      <td>468879</td>\n",
       "      <td>468949</td>\n",
       "      <td>475823</td>\n",
       "    </tr>\n",
       "  </tbody>\n",
       "</table>\n",
       "</div>"
      ],
      "text/plain": [
       "                                                       0  \\\n",
       "Date received                                 07/29/2013   \n",
       "Product                                    Consumer Loan   \n",
       "Sub-product                                 Vehicle loan   \n",
       "Issue                         Managing the loan or lease   \n",
       "Sub-issue                                            NaN   \n",
       "Consumer complaint narrative                         NaN   \n",
       "Company public response                              NaN   \n",
       "Company                            Wells Fargo & Company   \n",
       "State                                                 VA   \n",
       "ZIP code                                           24540   \n",
       "Tags                                                 NaN   \n",
       "Consumer consent provided?                           NaN   \n",
       "Submitted via                                      Phone   \n",
       "Date sent to company                          07/30/2013   \n",
       "Company response to consumer     Closed with explanation   \n",
       "Timely response?                                     Yes   \n",
       "Consumer disputed?                                    No   \n",
       "Complaint ID                                      468882   \n",
       "\n",
       "                                                      1  \\\n",
       "Date received                                07/29/2013   \n",
       "Product                         Bank account or service   \n",
       "Sub-product                            Checking account   \n",
       "Issue                         Using a debit or ATM card   \n",
       "Sub-issue                                           NaN   \n",
       "Consumer complaint narrative                        NaN   \n",
       "Company public response                             NaN   \n",
       "Company                           Wells Fargo & Company   \n",
       "State                                                CA   \n",
       "ZIP code                                          95992   \n",
       "Tags                                     Older American   \n",
       "Consumer consent provided?                          NaN   \n",
       "Submitted via                                       Web   \n",
       "Date sent to company                         07/31/2013   \n",
       "Company response to consumer    Closed with explanation   \n",
       "Timely response?                                    Yes   \n",
       "Consumer disputed?                                   No   \n",
       "Complaint ID                                     468889   \n",
       "\n",
       "                                                                    2  \\\n",
       "Date received                                              07/29/2013   \n",
       "Product                                       Bank account or service   \n",
       "Sub-product                                          Checking account   \n",
       "Issue                         Account opening, closing, or management   \n",
       "Sub-issue                                                         NaN   \n",
       "Consumer complaint narrative                                      NaN   \n",
       "Company public response                                           NaN   \n",
       "Company                                             Santander Bank US   \n",
       "State                                                              NY   \n",
       "ZIP code                                                        10065   \n",
       "Tags                                                              NaN   \n",
       "Consumer consent provided?                                        NaN   \n",
       "Submitted via                                                     Fax   \n",
       "Date sent to company                                       07/31/2013   \n",
       "Company response to consumer                                   Closed   \n",
       "Timely response?                                                  Yes   \n",
       "Consumer disputed?                                                 No   \n",
       "Complaint ID                                                   468879   \n",
       "\n",
       "                                                     3  \\\n",
       "Date received                               07/29/2013   \n",
       "Product                        Bank account or service   \n",
       "Sub-product                           Checking account   \n",
       "Issue                         Deposits and withdrawals   \n",
       "Sub-issue                                          NaN   \n",
       "Consumer complaint narrative                       NaN   \n",
       "Company public response                            NaN   \n",
       "Company                          Wells Fargo & Company   \n",
       "State                                               GA   \n",
       "ZIP code                                         30084   \n",
       "Tags                                               NaN   \n",
       "Consumer consent provided?                         NaN   \n",
       "Submitted via                                      Web   \n",
       "Date sent to company                        07/30/2013   \n",
       "Company response to consumer   Closed with explanation   \n",
       "Timely response?                                   Yes   \n",
       "Consumer disputed?                                  No   \n",
       "Complaint ID                                    468949   \n",
       "\n",
       "                                                                     4  \n",
       "Date received                                               07/29/2013  \n",
       "Product                                                       Mortgage  \n",
       "Sub-product                                Conventional fixed mortgage  \n",
       "Issue                         Loan servicing, payments, escrow account  \n",
       "Sub-issue                                                          NaN  \n",
       "Consumer complaint narrative                                       NaN  \n",
       "Company public response                                            NaN  \n",
       "Company                                     Franklin Credit Management  \n",
       "State                                                               CT  \n",
       "ZIP code                                                         06106  \n",
       "Tags                                                               NaN  \n",
       "Consumer consent provided?                                         NaN  \n",
       "Submitted via                                                      Web  \n",
       "Date sent to company                                        07/30/2013  \n",
       "Company response to consumer                   Closed with explanation  \n",
       "Timely response?                                                   Yes  \n",
       "Consumer disputed?                                                  No  \n",
       "Complaint ID                                                    475823  "
      ]
     },
     "execution_count": 3,
     "metadata": {},
     "output_type": "execute_result"
    }
   ],
   "source": [
    "# Set up directory path and load the CFPB data\n",
    "##directory = '[[enter directory path]]'\n",
    "df =pd.read_csv(directory+ 'Consumer_Complaints_loaded_March20_2017.csv', \\\n",
    "                header = 0, sep = ',', dtype = 'str')\n",
    "# NOTE: This file was too big to save on Github so I posted a smaller version of it with \n",
    "# credit card complaints only - please see below\n",
    "\n",
    "# List column names\n",
    "print(df.columns)\n",
    "print()\n",
    "\n",
    "# Print the number of observations\n",
    "print('N = ', df.shape[0])\n",
    "print()\n",
    "\n",
    "# Examine the first 5 rows of data (transposed)\n",
    "df.head().T"
   ]
  },
  {
   "cell_type": "markdown",
   "metadata": {},
   "source": [
    "## Outcome variable: *Company response to consumer*"
   ]
  },
  {
   "cell_type": "code",
   "execution_count": 5,
   "metadata": {},
   "outputs": [
    {
     "data": {
      "text/plain": [
       "Closed with explanation            549671\n",
       "Closed with non-monetary relief     91580\n",
       "Closed with monetary relief         49392\n",
       "Closed without relief               17863\n",
       "Closed                              17004\n",
       "Closed with relief                   5298\n",
       "Untimely response                    4037\n",
       "In progress                          3987\n",
       "Name: Company response to consumer, dtype: int64"
      ]
     },
     "execution_count": 5,
     "metadata": {},
     "output_type": "execute_result"
    }
   ],
   "source": [
    "# Tabulate outcome variable 'Company response to consumer'\n",
    "df['Company response to consumer'].value_counts()\n"
   ]
  },
  {
   "cell_type": "code",
   "execution_count": 6,
   "metadata": {},
   "outputs": [],
   "source": [
    "# Drop \"In progress\" observations\n",
    "df = df[df['Company response to consumer'] != 'In progress']\n"
   ]
  },
  {
   "cell_type": "code",
   "execution_count": 7,
   "metadata": {},
   "outputs": [],
   "source": [
    "# Generate a binary outcome variable - closed with monetary relief (1) or otherwise (0)\n",
    "df['Y'] = np.where(df['Company response to consumer'] == 'Closed with monetary relief', 1,0)\n"
   ]
  },
  {
   "cell_type": "code",
   "execution_count": 8,
   "metadata": {},
   "outputs": [
    {
     "name": "stdout",
     "output_type": "stream",
     "text": [
      "N =  85835\n"
     ]
    }
   ],
   "source": [
    "#Select only credit card-related complaints\n",
    "df = df[df.Product == 'Credit card']\n",
    "print('N = ', df.shape[0])\n"
   ]
  },
  {
   "cell_type": "code",
   "execution_count": 9,
   "metadata": {},
   "outputs": [
    {
     "name": "stdout",
     "output_type": "stream",
     "text": [
      "0    68036\n",
      "1    17799\n",
      "Name: Y, dtype: int64\n",
      "\n",
      "0    0.792637\n",
      "1    0.207363\n",
      "Name: Y, dtype: float64\n",
      "\n"
     ]
    }
   ],
   "source": [
    "# Tabulate the binary outcome variable (#):\n",
    "print(df.Y.value_counts())\n",
    "print()\n",
    "\n",
    "# Tabulate the binary outcome variable (%):\n",
    "print(df.Y.value_counts()/df.shape[0])\n",
    "print()\n",
    "\n",
    "# Drop 'Company response to consumer' variable\n",
    "del df['Company response to consumer']"
   ]
  },
  {
   "cell_type": "code",
   "execution_count": 10,
   "metadata": {},
   "outputs": [],
   "source": [
    "# Export the smaller version of the CFPB dataset with credit card complaints only to csv and post it on Github\n",
    "#df.to_csv(directory+'Consumer_Complaints_loaded_March20_2017_CREDIT_CARDS.csv')\n"
   ]
  },
  {
   "cell_type": "markdown",
   "metadata": {},
   "source": [
    "## Data clean-up and feature engineering"
   ]
  },
  {
   "cell_type": "code",
   "execution_count": 11,
   "metadata": {},
   "outputs": [
    {
     "name": "stdout",
     "output_type": "stream",
     "text": [
      "VARIABLES WITH MISSING VALUES: \n",
      "\n",
      "Sub-product, 85835, ALL NULLS\n",
      "Sub-issue, 85835, ALL NULLS\n",
      "Consumer complaint narrative, 69040\n",
      "Company public response, 66721\n",
      "State, 715\n",
      "ZIP code, 716\n",
      "Tags, 72860\n",
      "Consumer consent provided?, 57400\n",
      "Consumer disputed?, 3307\n"
     ]
    }
   ],
   "source": [
    "# Identify variables with missing values \n",
    "## Note that 'Sub-product' and 'Sub-issue' have all values missing (drop these below)\n",
    "print('VARIABLES WITH MISSING VALUES: ')\n",
    "print()\n",
    "for i in df.columns:\n",
    "    count_nulls = df[i].isna().sum() \n",
    "    if count_nulls >0 and count_nulls == df.shape[0]:\n",
    "        print('{}, {}, ALL NULLS'.format(i, df[i].isna().sum()))\n",
    "    elif count_nulls>0:\n",
    "        print('{},'.format(i), df[i].isna().sum())\n",
    "        "
   ]
  },
  {
   "cell_type": "code",
   "execution_count": 12,
   "metadata": {},
   "outputs": [
    {
     "name": "stdout",
     "output_type": "stream",
     "text": [
      "True\n"
     ]
    }
   ],
   "source": [
    "# Check that the Complaint ID is unique. Drop it (below).\n",
    "print(df['Complaint ID'].nunique() == df.shape[0])\n"
   ]
  },
  {
   "cell_type": "markdown",
   "metadata": {},
   "source": [
    "### Variable *Issue*"
   ]
  },
  {
   "cell_type": "code",
   "execution_count": 13,
   "metadata": {
    "scrolled": true
   },
   "outputs": [
    {
     "data": {
      "text/plain": [
       "Billing disputes                            0.168474\n",
       "Other                                       0.103268\n",
       "Identity theft / Fraud / Embezzlement       0.094472\n",
       "Closing/Cancelling account                  0.071474\n",
       "APR or interest rate                        0.062841\n",
       "Late fee                                    0.040939\n",
       "Customer service / Customer relations       0.039343\n",
       "Delinquent account                          0.035848\n",
       "Credit determination                        0.034427\n",
       "Advertising and marketing                   0.033110\n",
       "Rewards                                     0.032574\n",
       "Credit card protection / Debt protection    0.030757\n",
       "Transaction issue                           0.030291\n",
       "Billing statement                           0.029615\n",
       "Payoff process                              0.026108\n",
       "Credit line increase/decrease               0.024652\n",
       "Other fee                                   0.024570\n",
       "Unsolicited issuance of credit card         0.020504\n",
       "Credit reporting                            0.019759\n",
       "Balance transfer                            0.012524\n",
       "Collection practices                        0.011662\n",
       "Collection debt dispute                     0.010497\n",
       "Forbearance / Workout plans                 0.006314\n",
       "Application processing delay                0.005965\n",
       "Privacy                                     0.005580\n",
       "Bankruptcy                                  0.005045\n",
       "Arbitration                                 0.003880\n",
       "Sale of account                             0.003880\n",
       "Cash advance                                0.002784\n",
       "Balance transfer fee                        0.002493\n",
       "Overlimit fee                               0.002447\n",
       "Cash advance fee                            0.002237\n",
       "Convenience checks                          0.001666\n",
       "Name: Issue, dtype: float64"
      ]
     },
     "execution_count": 13,
     "metadata": {},
     "output_type": "execute_result"
    }
   ],
   "source": [
    "# Tabulate 'Issue'\n",
    "Issue_labels = df.Issue.value_counts(dropna=False)/df.shape[0]\n",
    "Issue_labels\n"
   ]
  },
  {
   "cell_type": "code",
   "execution_count": 14,
   "metadata": {
    "scrolled": true
   },
   "outputs": [
    {
     "data": {
      "text/plain": [
       "33"
      ]
     },
     "execution_count": 14,
     "metadata": {},
     "output_type": "execute_result"
    }
   ],
   "source": [
    "# Number of Issue categories\n",
    "df.Issue.nunique()\n"
   ]
  },
  {
   "cell_type": "markdown",
   "metadata": {},
   "source": [
    "Variable *Issue* has 33 categories, including \"Other.\" The number of observations in some categories is relatively small (a few hundred observations). Hence, such label/category granularity may introduce too much noise. In addition, since I will have to create indicator/dummy variables for 32 categories, one needs to keep in mind that unbalanced dummy variables may also lead to convergence issues when estimating the logistic regression. That is, an indicator variable with too many zeros may render the variance-covariance matrix to be non-invertibe (singular). Hence, I group Issue categories that encompass less than 2% of credit card complaints (~1,700) into \"Issues - Other groupped\" category and end up with 19 recoded Issue categrories (including \"Other\" and \"Other groupped\").\n"
   ]
  },
  {
   "cell_type": "code",
   "execution_count": 15,
   "metadata": {},
   "outputs": [
    {
     "data": {
      "text/plain": [
       "19"
      ]
     },
     "execution_count": 15,
     "metadata": {},
     "output_type": "execute_result"
    }
   ],
   "source": [
    "# Identify Issue categories that capture less than 2% of all credit card complaints (2% is arbitrary)\n",
    "relabel_issue = []\n",
    "for i in Issue_labels.index:\n",
    "    if df[df.Issue == i].Issue.count()/df.shape[0] < 0.02:\n",
    "        relabel_issue.append(i)\n",
    "\n",
    "# Group the identified categories into \"Issues - Other groupped\"\n",
    "df[\"Issue_recoded\"] = df.Issue\n",
    "for i in relabel_issue:\n",
    "    df.loc[df.Issue == i, 'Issue_recoded'] = \"Issues - Other groupped\"\n",
    "\n",
    "# Number of unique categories in the recoded Issue variable    \n",
    "df.Issue_recoded.nunique()    "
   ]
  },
  {
   "cell_type": "code",
   "execution_count": 16,
   "metadata": {},
   "outputs": [
    {
     "data": {
      "text/html": [
       "<div>\n",
       "<style scoped>\n",
       "    .dataframe tbody tr th:only-of-type {\n",
       "        vertical-align: middle;\n",
       "    }\n",
       "\n",
       "    .dataframe tbody tr th {\n",
       "        vertical-align: top;\n",
       "    }\n",
       "\n",
       "    .dataframe thead th {\n",
       "        text-align: right;\n",
       "    }\n",
       "</style>\n",
       "<table border=\"1\" class=\"dataframe\">\n",
       "  <thead>\n",
       "    <tr style=\"text-align: right;\">\n",
       "      <th>Y</th>\n",
       "      <th>0</th>\n",
       "      <th>1</th>\n",
       "    </tr>\n",
       "    <tr>\n",
       "      <th>Issue_recoded</th>\n",
       "      <th></th>\n",
       "      <th></th>\n",
       "    </tr>\n",
       "  </thead>\n",
       "  <tbody>\n",
       "    <tr>\n",
       "      <th>Late fee</th>\n",
       "      <td>0.476665</td>\n",
       "      <td>0.523335</td>\n",
       "    </tr>\n",
       "    <tr>\n",
       "      <th>Other fee</th>\n",
       "      <td>0.550972</td>\n",
       "      <td>0.449028</td>\n",
       "    </tr>\n",
       "    <tr>\n",
       "      <th>Billing disputes</th>\n",
       "      <td>0.686536</td>\n",
       "      <td>0.313464</td>\n",
       "    </tr>\n",
       "    <tr>\n",
       "      <th>Billing statement</th>\n",
       "      <td>0.711644</td>\n",
       "      <td>0.288356</td>\n",
       "    </tr>\n",
       "    <tr>\n",
       "      <th>Transaction issue</th>\n",
       "      <td>0.735769</td>\n",
       "      <td>0.264231</td>\n",
       "    </tr>\n",
       "    <tr>\n",
       "      <th>Credit card protection / Debt protection</th>\n",
       "      <td>0.746212</td>\n",
       "      <td>0.253788</td>\n",
       "    </tr>\n",
       "    <tr>\n",
       "      <th>APR or interest rate</th>\n",
       "      <td>0.761587</td>\n",
       "      <td>0.238413</td>\n",
       "    </tr>\n",
       "    <tr>\n",
       "      <th>Payoff process</th>\n",
       "      <td>0.780009</td>\n",
       "      <td>0.219991</td>\n",
       "    </tr>\n",
       "    <tr>\n",
       "      <th>Customer service / Customer relations</th>\n",
       "      <td>0.821439</td>\n",
       "      <td>0.178561</td>\n",
       "    </tr>\n",
       "    <tr>\n",
       "      <th>Identity theft / Fraud / Embezzlement</th>\n",
       "      <td>0.829449</td>\n",
       "      <td>0.170551</td>\n",
       "    </tr>\n",
       "    <tr>\n",
       "      <th>Rewards</th>\n",
       "      <td>0.835479</td>\n",
       "      <td>0.164521</td>\n",
       "    </tr>\n",
       "    <tr>\n",
       "      <th>Closing/Cancelling account</th>\n",
       "      <td>0.857539</td>\n",
       "      <td>0.142461</td>\n",
       "    </tr>\n",
       "    <tr>\n",
       "      <th>Issues - Other groupped</th>\n",
       "      <td>0.865711</td>\n",
       "      <td>0.134289</td>\n",
       "    </tr>\n",
       "    <tr>\n",
       "      <th>Delinquent account</th>\n",
       "      <td>0.871628</td>\n",
       "      <td>0.128372</td>\n",
       "    </tr>\n",
       "    <tr>\n",
       "      <th>Advertising and marketing</th>\n",
       "      <td>0.877199</td>\n",
       "      <td>0.122801</td>\n",
       "    </tr>\n",
       "    <tr>\n",
       "      <th>Other</th>\n",
       "      <td>0.880077</td>\n",
       "      <td>0.119923</td>\n",
       "    </tr>\n",
       "    <tr>\n",
       "      <th>Unsolicited issuance of credit card</th>\n",
       "      <td>0.900568</td>\n",
       "      <td>0.099432</td>\n",
       "    </tr>\n",
       "    <tr>\n",
       "      <th>Credit line increase/decrease</th>\n",
       "      <td>0.941871</td>\n",
       "      <td>0.058129</td>\n",
       "    </tr>\n",
       "    <tr>\n",
       "      <th>Credit determination</th>\n",
       "      <td>0.975973</td>\n",
       "      <td>0.024027</td>\n",
       "    </tr>\n",
       "  </tbody>\n",
       "</table>\n",
       "</div>"
      ],
      "text/plain": [
       "Y                                                0         1\n",
       "Issue_recoded                                               \n",
       "Late fee                                  0.476665  0.523335\n",
       "Other fee                                 0.550972  0.449028\n",
       "Billing disputes                          0.686536  0.313464\n",
       "Billing statement                         0.711644  0.288356\n",
       "Transaction issue                         0.735769  0.264231\n",
       "Credit card protection / Debt protection  0.746212  0.253788\n",
       "APR or interest rate                      0.761587  0.238413\n",
       "Payoff process                            0.780009  0.219991\n",
       "Customer service / Customer relations     0.821439  0.178561\n",
       "Identity theft / Fraud / Embezzlement     0.829449  0.170551\n",
       "Rewards                                   0.835479  0.164521\n",
       "Closing/Cancelling account                0.857539  0.142461\n",
       "Issues - Other groupped                   0.865711  0.134289\n",
       "Delinquent account                        0.871628  0.128372\n",
       "Advertising and marketing                 0.877199  0.122801\n",
       "Other                                     0.880077  0.119923\n",
       "Unsolicited issuance of credit card       0.900568  0.099432\n",
       "Credit line increase/decrease             0.941871  0.058129\n",
       "Credit determination                      0.975973  0.024027"
      ]
     },
     "execution_count": 16,
     "metadata": {},
     "output_type": "execute_result"
    }
   ],
   "source": [
    "# Tabulate recoded 'Issue' by outcome (Y)\n",
    "pd.crosstab(index = df.Issue_recoded, columns = df.Y, \n",
    "            normalize = 'index').sort_values(by=1, ascending=False)\n"
   ]
  },
  {
   "cell_type": "markdown",
   "metadata": {},
   "source": [
    "It appears that monetary compensation is more likely to be granted for fee- and billing-related complaints (~30-50% of the time) than for credit determination or credit line increase/decrease complaints (~2-6%). Overall, 'Issue' appears to be an important factor in predicting monetary resolution. I set 'Other' to be the excluded (baseline) category in regressions.\n"
   ]
  },
  {
   "cell_type": "code",
   "execution_count": 17,
   "metadata": {},
   "outputs": [],
   "source": [
    "# Create indicator / dummy variables for recoded 'Issue' categories \n",
    "# Let 'Other' be the excluded category in regressions (i.e., drop it)\n",
    "df_Issue = pd.get_dummies(df['Issue_recoded']) \n",
    "df_Issue = df_Issue.drop(['Other'], axis=1)\n",
    "df = pd.concat([df, df_Issue], axis=1)\n"
   ]
  },
  {
   "cell_type": "markdown",
   "metadata": {},
   "source": [
    "### Variable *Consumer complaint narrative*"
   ]
  },
  {
   "cell_type": "code",
   "execution_count": 18,
   "metadata": {},
   "outputs": [
    {
     "name": "stdout",
     "output_type": "stream",
     "text": [
      "% of complaints with a narrative:  19.6 %\n"
     ]
    }
   ],
   "source": [
    "# Calculate % of observations when the 'Consumer complaint narrative' is present (i.e., non-Null observations)\n",
    "print('% of complaints with a narrative: ', \n",
    "      format(100*df['Consumer complaint narrative'].notnull().sum()/df.shape[0], '.1f'), '%')\n",
    "\n",
    "\n",
    "# Create an indicator variable for the presense of a complaint narrative \n",
    "df['Is_narrative'] = np.where(df['Consumer complaint narrative'].notnull(), 1, 0)\n"
   ]
  },
  {
   "cell_type": "code",
   "execution_count": 19,
   "metadata": {},
   "outputs": [
    {
     "data": {
      "text/html": [
       "<div>\n",
       "<style scoped>\n",
       "    .dataframe tbody tr th:only-of-type {\n",
       "        vertical-align: middle;\n",
       "    }\n",
       "\n",
       "    .dataframe tbody tr th {\n",
       "        vertical-align: top;\n",
       "    }\n",
       "\n",
       "    .dataframe thead th {\n",
       "        text-align: right;\n",
       "    }\n",
       "</style>\n",
       "<table border=\"1\" class=\"dataframe\">\n",
       "  <thead>\n",
       "    <tr style=\"text-align: right;\">\n",
       "      <th>Y</th>\n",
       "      <th>0</th>\n",
       "      <th>1</th>\n",
       "    </tr>\n",
       "    <tr>\n",
       "      <th>Is_narrative</th>\n",
       "      <th></th>\n",
       "      <th></th>\n",
       "    </tr>\n",
       "  </thead>\n",
       "  <tbody>\n",
       "    <tr>\n",
       "      <th>1</th>\n",
       "      <td>0.767133</td>\n",
       "      <td>0.232867</td>\n",
       "    </tr>\n",
       "    <tr>\n",
       "      <th>0</th>\n",
       "      <td>0.798841</td>\n",
       "      <td>0.201159</td>\n",
       "    </tr>\n",
       "  </tbody>\n",
       "</table>\n",
       "</div>"
      ],
      "text/plain": [
       "Y                    0         1\n",
       "Is_narrative                    \n",
       "1             0.767133  0.232867\n",
       "0             0.798841  0.201159"
      ]
     },
     "execution_count": 19,
     "metadata": {},
     "output_type": "execute_result"
    }
   ],
   "source": [
    "# Tabulate indicator variable for 'Consumer complaint narrative' by outcome (Y)\n",
    "pd.crosstab(index = df.Is_narrative, \n",
    "            columns = df.Y, normalize = 'index').sort_values(by=1, ascending=False)\n"
   ]
  },
  {
   "cell_type": "markdown",
   "metadata": {},
   "source": [
    "Complaints *with a narrative* are slightly more likely to have monetary relief. But the difference in likelihoods does not appear to be as significant as it was for some Issue categories. Hence, this variable is unlikely to contribute much to predicting the outcome of a credit card complaint."
   ]
  },
  {
   "cell_type": "markdown",
   "metadata": {},
   "source": [
    "### Variable *Company*"
   ]
  },
  {
   "cell_type": "code",
   "execution_count": 20,
   "metadata": {
    "scrolled": true
   },
   "outputs": [
    {
     "name": "stdout",
     "output_type": "stream",
     "text": [
      "# of companies:  418\n",
      "\n"
     ]
    },
    {
     "data": {
      "text/plain": [
       "Citibank                             0.189480\n",
       "Capital One                          0.145384\n",
       "JPMorgan Chase & Co.                 0.116666\n",
       "Bank of America                      0.102767\n",
       "Synchrony Financial                  0.098561\n",
       "Amex                                 0.075261\n",
       "Discover                             0.047696\n",
       "Wells Fargo & Company                0.045203\n",
       "Barclays PLC                         0.038679\n",
       "U.S. Bancorp                         0.027565\n",
       "TD Bank US Holding Company           0.014551\n",
       "USAA Savings                         0.010019\n",
       "PayPal Holdings, Inc.                0.007736\n",
       "HSBC North America Holdings Inc.     0.007643\n",
       "First National Bank of Omaha         0.006571\n",
       "PNC Bank N.A.                        0.005476\n",
       "Fifth Third Financial Corporation    0.004497\n",
       "Navy FCU                             0.003961\n",
       "Alliance Data Card Services          0.002691\n",
       "SunTrust Banks, Inc.                 0.002563\n",
       "Name: Company, dtype: float64"
      ]
     },
     "execution_count": 20,
     "metadata": {},
     "output_type": "execute_result"
    }
   ],
   "source": [
    "# Variable 'Company' has 400+ categories\n",
    "# Print the number of distinct companies in the dataset\n",
    "print('# of companies: ', df.Company.nunique())\n",
    "print()\n",
    "\n",
    "#Examine % of complaints for the top 20 companies\n",
    "Company_labels= df.Company.value_counts()/df.shape[0]\n",
    "Company_labels[:20]"
   ]
  },
  {
   "cell_type": "code",
   "execution_count": 21,
   "metadata": {},
   "outputs": [
    {
     "name": "stdout",
     "output_type": "stream",
     "text": [
      "11\n"
     ]
    }
   ],
   "source": [
    "# Identify Companies that capture less than 2% of all credit card complaints\n",
    "relabel_company = []\n",
    "for i in Company_labels.index:\n",
    "    if df[df.Company == i].Company.count()/df.shape[0] < 0.02:\n",
    "        relabel_company.append(i)\n",
    "\n",
    "# Group the identified categories into \"Companies - Other groupped\"\n",
    "df[\"Company_recoded\"] = df.Company\n",
    "for i in relabel_company:\n",
    "    df.loc[df.Company == i, 'Company_recoded'] = \"Companies - Other groupped\"\n",
    "\n",
    "# Number of unique categories in the recoded Company variable    \n",
    "print(df.Company_recoded.nunique())\n"
   ]
  },
  {
   "cell_type": "code",
   "execution_count": 22,
   "metadata": {},
   "outputs": [
    {
     "data": {
      "text/html": [
       "<div>\n",
       "<style scoped>\n",
       "    .dataframe tbody tr th:only-of-type {\n",
       "        vertical-align: middle;\n",
       "    }\n",
       "\n",
       "    .dataframe tbody tr th {\n",
       "        vertical-align: top;\n",
       "    }\n",
       "\n",
       "    .dataframe thead th {\n",
       "        text-align: right;\n",
       "    }\n",
       "</style>\n",
       "<table border=\"1\" class=\"dataframe\">\n",
       "  <thead>\n",
       "    <tr style=\"text-align: right;\">\n",
       "      <th>Y</th>\n",
       "      <th>0</th>\n",
       "      <th>1</th>\n",
       "    </tr>\n",
       "    <tr>\n",
       "      <th>Company_recoded</th>\n",
       "      <th></th>\n",
       "      <th></th>\n",
       "    </tr>\n",
       "  </thead>\n",
       "  <tbody>\n",
       "    <tr>\n",
       "      <th>Citibank</th>\n",
       "      <td>0.685686</td>\n",
       "      <td>0.314314</td>\n",
       "    </tr>\n",
       "    <tr>\n",
       "      <th>Synchrony Financial</th>\n",
       "      <td>0.710520</td>\n",
       "      <td>0.289480</td>\n",
       "    </tr>\n",
       "    <tr>\n",
       "      <th>Barclays PLC</th>\n",
       "      <td>0.719277</td>\n",
       "      <td>0.280723</td>\n",
       "    </tr>\n",
       "    <tr>\n",
       "      <th>Capital One</th>\n",
       "      <td>0.808799</td>\n",
       "      <td>0.191201</td>\n",
       "    </tr>\n",
       "    <tr>\n",
       "      <th>Discover</th>\n",
       "      <td>0.821690</td>\n",
       "      <td>0.178310</td>\n",
       "    </tr>\n",
       "    <tr>\n",
       "      <th>Amex</th>\n",
       "      <td>0.833901</td>\n",
       "      <td>0.166099</td>\n",
       "    </tr>\n",
       "    <tr>\n",
       "      <th>Wells Fargo &amp; Company</th>\n",
       "      <td>0.836856</td>\n",
       "      <td>0.163144</td>\n",
       "    </tr>\n",
       "    <tr>\n",
       "      <th>Companies - Other groupped</th>\n",
       "      <td>0.845820</td>\n",
       "      <td>0.154180</td>\n",
       "    </tr>\n",
       "    <tr>\n",
       "      <th>U.S. Bancorp</th>\n",
       "      <td>0.849958</td>\n",
       "      <td>0.150042</td>\n",
       "    </tr>\n",
       "    <tr>\n",
       "      <th>Bank of America</th>\n",
       "      <td>0.858293</td>\n",
       "      <td>0.141707</td>\n",
       "    </tr>\n",
       "    <tr>\n",
       "      <th>JPMorgan Chase &amp; Co.</th>\n",
       "      <td>0.861494</td>\n",
       "      <td>0.138506</td>\n",
       "    </tr>\n",
       "  </tbody>\n",
       "</table>\n",
       "</div>"
      ],
      "text/plain": [
       "Y                                  0         1\n",
       "Company_recoded                               \n",
       "Citibank                    0.685686  0.314314\n",
       "Synchrony Financial         0.710520  0.289480\n",
       "Barclays PLC                0.719277  0.280723\n",
       "Capital One                 0.808799  0.191201\n",
       "Discover                    0.821690  0.178310\n",
       "Amex                        0.833901  0.166099\n",
       "Wells Fargo & Company       0.836856  0.163144\n",
       "Companies - Other groupped  0.845820  0.154180\n",
       "U.S. Bancorp                0.849958  0.150042\n",
       "Bank of America             0.858293  0.141707\n",
       "JPMorgan Chase & Co.        0.861494  0.138506"
      ]
     },
     "execution_count": 22,
     "metadata": {},
     "output_type": "execute_result"
    }
   ],
   "source": [
    "# Tabulate recoded Company variable by outcome (Y)\n",
    "pd.crosstab(index = df['Company_recoded'], \n",
    "            columns = df.Y, normalize = 'index').sort_values(by=1, ascending=False)\n"
   ]
  },
  {
   "cell_type": "markdown",
   "metadata": {},
   "source": [
    "Some companies seem more likely to offer monetary relief (e.g., *Citibank* in 31% of the cases vs *Bank of America* in only 14% of the cases). Below I check whether this may be related to the nature of the filed complains (using variable 'Issue') but there does not appear to be a signficant difference in the distribution of Issues between the two sampled companies, for example. Regardless, I will control for fixed differences across companies when modeling the outcome using company dummy variables created above."
   ]
  },
  {
   "cell_type": "code",
   "execution_count": 23,
   "metadata": {},
   "outputs": [
    {
     "data": {
      "text/html": [
       "<div>\n",
       "<style scoped>\n",
       "    .dataframe tbody tr th:only-of-type {\n",
       "        vertical-align: middle;\n",
       "    }\n",
       "\n",
       "    .dataframe tbody tr th {\n",
       "        vertical-align: top;\n",
       "    }\n",
       "\n",
       "    .dataframe thead th {\n",
       "        text-align: right;\n",
       "    }\n",
       "</style>\n",
       "<table border=\"1\" class=\"dataframe\">\n",
       "  <thead>\n",
       "    <tr style=\"text-align: right;\">\n",
       "      <th>Company</th>\n",
       "      <th>Bank of America</th>\n",
       "      <th>Citibank</th>\n",
       "    </tr>\n",
       "    <tr>\n",
       "      <th>Issue</th>\n",
       "      <th></th>\n",
       "      <th></th>\n",
       "    </tr>\n",
       "  </thead>\n",
       "  <tbody>\n",
       "    <tr>\n",
       "      <th>APR or interest rate</th>\n",
       "      <td>0.053622</td>\n",
       "      <td>0.061485</td>\n",
       "    </tr>\n",
       "    <tr>\n",
       "      <th>Advertising and marketing</th>\n",
       "      <td>0.020519</td>\n",
       "      <td>0.029575</td>\n",
       "    </tr>\n",
       "    <tr>\n",
       "      <th>Application processing delay</th>\n",
       "      <td>0.003741</td>\n",
       "      <td>0.004857</td>\n",
       "    </tr>\n",
       "    <tr>\n",
       "      <th>Arbitration</th>\n",
       "      <td>0.004308</td>\n",
       "      <td>0.003320</td>\n",
       "    </tr>\n",
       "    <tr>\n",
       "      <th>Balance transfer</th>\n",
       "      <td>0.015191</td>\n",
       "      <td>0.009530</td>\n",
       "    </tr>\n",
       "    <tr>\n",
       "      <th>Balance transfer fee</th>\n",
       "      <td>0.003514</td>\n",
       "      <td>0.001599</td>\n",
       "    </tr>\n",
       "    <tr>\n",
       "      <th>Bankruptcy</th>\n",
       "      <td>0.004761</td>\n",
       "      <td>0.003136</td>\n",
       "    </tr>\n",
       "    <tr>\n",
       "      <th>Billing disputes</th>\n",
       "      <td>0.167555</td>\n",
       "      <td>0.189621</td>\n",
       "    </tr>\n",
       "    <tr>\n",
       "      <th>Billing statement</th>\n",
       "      <td>0.027435</td>\n",
       "      <td>0.042179</td>\n",
       "    </tr>\n",
       "    <tr>\n",
       "      <th>Cash advance</th>\n",
       "      <td>0.004308</td>\n",
       "      <td>0.001168</td>\n",
       "    </tr>\n",
       "    <tr>\n",
       "      <th>Cash advance fee</th>\n",
       "      <td>0.004081</td>\n",
       "      <td>0.001722</td>\n",
       "    </tr>\n",
       "    <tr>\n",
       "      <th>Closing/Cancelling account</th>\n",
       "      <td>0.089786</td>\n",
       "      <td>0.064560</td>\n",
       "    </tr>\n",
       "    <tr>\n",
       "      <th>Collection debt dispute</th>\n",
       "      <td>0.015304</td>\n",
       "      <td>0.010330</td>\n",
       "    </tr>\n",
       "    <tr>\n",
       "      <th>Collection practices</th>\n",
       "      <td>0.010430</td>\n",
       "      <td>0.012359</td>\n",
       "    </tr>\n",
       "    <tr>\n",
       "      <th>Convenience checks</th>\n",
       "      <td>0.002948</td>\n",
       "      <td>0.000984</td>\n",
       "    </tr>\n",
       "    <tr>\n",
       "      <th>Credit card protection / Debt protection</th>\n",
       "      <td>0.034350</td>\n",
       "      <td>0.035293</td>\n",
       "    </tr>\n",
       "    <tr>\n",
       "      <th>Credit determination</th>\n",
       "      <td>0.020973</td>\n",
       "      <td>0.036707</td>\n",
       "    </tr>\n",
       "    <tr>\n",
       "      <th>Credit line increase/decrease</th>\n",
       "      <td>0.027208</td>\n",
       "      <td>0.024594</td>\n",
       "    </tr>\n",
       "    <tr>\n",
       "      <th>Credit reporting</th>\n",
       "      <td>0.030609</td>\n",
       "      <td>0.018692</td>\n",
       "    </tr>\n",
       "    <tr>\n",
       "      <th>Customer service / Customer relations</th>\n",
       "      <td>0.039111</td>\n",
       "      <td>0.044024</td>\n",
       "    </tr>\n",
       "    <tr>\n",
       "      <th>Delinquent account</th>\n",
       "      <td>0.032989</td>\n",
       "      <td>0.035170</td>\n",
       "    </tr>\n",
       "    <tr>\n",
       "      <th>Forbearance / Workout plans</th>\n",
       "      <td>0.006689</td>\n",
       "      <td>0.007317</td>\n",
       "    </tr>\n",
       "    <tr>\n",
       "      <th>Identity theft / Fraud / Embezzlement</th>\n",
       "      <td>0.088652</td>\n",
       "      <td>0.079562</td>\n",
       "    </tr>\n",
       "    <tr>\n",
       "      <th>Late fee</th>\n",
       "      <td>0.035370</td>\n",
       "      <td>0.054415</td>\n",
       "    </tr>\n",
       "    <tr>\n",
       "      <th>Other</th>\n",
       "      <td>0.103956</td>\n",
       "      <td>0.092843</td>\n",
       "    </tr>\n",
       "    <tr>\n",
       "      <th>Other fee</th>\n",
       "      <td>0.038091</td>\n",
       "      <td>0.028775</td>\n",
       "    </tr>\n",
       "    <tr>\n",
       "      <th>Overlimit fee</th>\n",
       "      <td>0.001927</td>\n",
       "      <td>0.001230</td>\n",
       "    </tr>\n",
       "    <tr>\n",
       "      <th>Payoff process</th>\n",
       "      <td>0.023580</td>\n",
       "      <td>0.028468</td>\n",
       "    </tr>\n",
       "    <tr>\n",
       "      <th>Privacy</th>\n",
       "      <td>0.004875</td>\n",
       "      <td>0.004857</td>\n",
       "    </tr>\n",
       "    <tr>\n",
       "      <th>Rewards</th>\n",
       "      <td>0.030949</td>\n",
       "      <td>0.027300</td>\n",
       "    </tr>\n",
       "    <tr>\n",
       "      <th>Sale of account</th>\n",
       "      <td>0.003514</td>\n",
       "      <td>0.003320</td>\n",
       "    </tr>\n",
       "    <tr>\n",
       "      <th>Transaction issue</th>\n",
       "      <td>0.037184</td>\n",
       "      <td>0.025332</td>\n",
       "    </tr>\n",
       "    <tr>\n",
       "      <th>Unsolicited issuance of credit card</th>\n",
       "      <td>0.012470</td>\n",
       "      <td>0.015679</td>\n",
       "    </tr>\n",
       "  </tbody>\n",
       "</table>\n",
       "</div>"
      ],
      "text/plain": [
       "Company                                   Bank of America  Citibank\n",
       "Issue                                                              \n",
       "APR or interest rate                             0.053622  0.061485\n",
       "Advertising and marketing                        0.020519  0.029575\n",
       "Application processing delay                     0.003741  0.004857\n",
       "Arbitration                                      0.004308  0.003320\n",
       "Balance transfer                                 0.015191  0.009530\n",
       "Balance transfer fee                             0.003514  0.001599\n",
       "Bankruptcy                                       0.004761  0.003136\n",
       "Billing disputes                                 0.167555  0.189621\n",
       "Billing statement                                0.027435  0.042179\n",
       "Cash advance                                     0.004308  0.001168\n",
       "Cash advance fee                                 0.004081  0.001722\n",
       "Closing/Cancelling account                       0.089786  0.064560\n",
       "Collection debt dispute                          0.015304  0.010330\n",
       "Collection practices                             0.010430  0.012359\n",
       "Convenience checks                               0.002948  0.000984\n",
       "Credit card protection / Debt protection         0.034350  0.035293\n",
       "Credit determination                             0.020973  0.036707\n",
       "Credit line increase/decrease                    0.027208  0.024594\n",
       "Credit reporting                                 0.030609  0.018692\n",
       "Customer service / Customer relations            0.039111  0.044024\n",
       "Delinquent account                               0.032989  0.035170\n",
       "Forbearance / Workout plans                      0.006689  0.007317\n",
       "Identity theft / Fraud / Embezzlement            0.088652  0.079562\n",
       "Late fee                                         0.035370  0.054415\n",
       "Other                                            0.103956  0.092843\n",
       "Other fee                                        0.038091  0.028775\n",
       "Overlimit fee                                    0.001927  0.001230\n",
       "Payoff process                                   0.023580  0.028468\n",
       "Privacy                                          0.004875  0.004857\n",
       "Rewards                                          0.030949  0.027300\n",
       "Sale of account                                  0.003514  0.003320\n",
       "Transaction issue                                0.037184  0.025332\n",
       "Unsolicited issuance of credit card              0.012470  0.015679"
      ]
     },
     "execution_count": 23,
     "metadata": {},
     "output_type": "execute_result"
    }
   ],
   "source": [
    "# Example: Tabulate this distribution of Issues for 2 companies (for comparison)\n",
    "pd.crosstab(index = df.Issue,\n",
    "            columns = df[df.Company.isin(['Citibank', 'Bank of America'])].Company, \n",
    "            normalize = 'columns')\n"
   ]
  },
  {
   "cell_type": "markdown",
   "metadata": {},
   "source": [
    "### Variable *State*"
   ]
  },
  {
   "cell_type": "code",
   "execution_count": 24,
   "metadata": {
    "scrolled": true
   },
   "outputs": [
    {
     "data": {
      "text/plain": [
       "CA     0.138160\n",
       "NY     0.093284\n",
       "FL     0.084779\n",
       "TX     0.064216\n",
       "NJ     0.043129\n",
       "PA     0.038656\n",
       "IL     0.036757\n",
       "OH     0.034159\n",
       "VA     0.033483\n",
       "GA     0.033250\n",
       "MD     0.029394\n",
       "NC     0.027658\n",
       "MA     0.025677\n",
       "AZ     0.022963\n",
       "MI     0.021786\n",
       "WA     0.019724\n",
       "CO     0.019095\n",
       "CT     0.014726\n",
       "WI     0.014353\n",
       "TN     0.013689\n",
       "MN     0.013433\n",
       "OR     0.012396\n",
       "MO     0.011825\n",
       "NV     0.011312\n",
       "IN     0.010765\n",
       "SC     0.010171\n",
       "AL     0.008388\n",
       "NaN    0.008330\n",
       "LA     0.007375\n",
       "DC     0.007177\n",
       "         ...   \n",
       "UT     0.005918\n",
       "KS     0.005650\n",
       "IA     0.005114\n",
       "NH     0.004718\n",
       "ME     0.004695\n",
       "NM     0.004497\n",
       "AR     0.004113\n",
       "HI     0.003868\n",
       "ID     0.003845\n",
       "NE     0.003786\n",
       "RI     0.003751\n",
       "MS     0.003553\n",
       "PR     0.003355\n",
       "WV     0.002738\n",
       "VT     0.002283\n",
       "MT     0.002050\n",
       "SD     0.001911\n",
       "AK     0.001503\n",
       "WY     0.001049\n",
       "ND     0.000885\n",
       "AE     0.000373\n",
       "VI     0.000361\n",
       "AP     0.000350\n",
       "GU     0.000128\n",
       "FM     0.000105\n",
       "AS     0.000047\n",
       "MH     0.000047\n",
       "MP     0.000035\n",
       "PW     0.000023\n",
       "AA     0.000023\n",
       "Name: State, Length: 63, dtype: float64"
      ]
     },
     "execution_count": 24,
     "metadata": {},
     "output_type": "execute_result"
    }
   ],
   "source": [
    "# Tabulate variable 'State'\n",
    "State_labels = df.State.value_counts(dropna=False)/df.shape[0]\n",
    "State_labels\n"
   ]
  },
  {
   "cell_type": "markdown",
   "metadata": {},
   "source": [
    "Since some states and territories include a very small percentage of complaints, I group these under-represented states / territories (with less than 2% of all observations) into a larger category \"State - Other groupped\" to minimize the amount of noise that they may generate. I also include Nulls into this category. As a result, I end up with 16 categories in the recoded State variable."
   ]
  },
  {
   "cell_type": "code",
   "execution_count": 25,
   "metadata": {},
   "outputs": [
    {
     "data": {
      "text/plain": [
       "16"
      ]
     },
     "execution_count": 25,
     "metadata": {},
     "output_type": "execute_result"
    }
   ],
   "source": [
    "# Identify categories of variable \"State\" that capture less than 2% of all credit card complaints\n",
    "relabel_state = []\n",
    "for i in State_labels.index:\n",
    "    if df[df.State == i].State.count()/df.shape[0] < 0.02:\n",
    "        relabel_state.append(i)\n",
    "\n",
    "# Group the identified categories into \"State - Other groupped\"\n",
    "df[\"State_recoded\"] = df.State\n",
    "for i in relabel_state:\n",
    "    df.loc[df.State == i, 'State_recoded'] = \"State - Other groupped\"\n",
    "\n",
    "# Include nulls into \"State-Other groupped\"\n",
    "df.loc[df.State.isna(), 'State_recoded'] = \"State - Other groupped\"\n",
    "    \n",
    "# Number of unique categories in the recoded Issue variable    \n",
    "df.State_recoded.nunique()    \n"
   ]
  },
  {
   "cell_type": "code",
   "execution_count": 26,
   "metadata": {},
   "outputs": [
    {
     "data": {
      "text/html": [
       "<div>\n",
       "<style scoped>\n",
       "    .dataframe tbody tr th:only-of-type {\n",
       "        vertical-align: middle;\n",
       "    }\n",
       "\n",
       "    .dataframe tbody tr th {\n",
       "        vertical-align: top;\n",
       "    }\n",
       "\n",
       "    .dataframe thead th {\n",
       "        text-align: right;\n",
       "    }\n",
       "</style>\n",
       "<table border=\"1\" class=\"dataframe\">\n",
       "  <thead>\n",
       "    <tr style=\"text-align: right;\">\n",
       "      <th>Y</th>\n",
       "      <th>0</th>\n",
       "      <th>1</th>\n",
       "    </tr>\n",
       "    <tr>\n",
       "      <th>State_recoded</th>\n",
       "      <th></th>\n",
       "      <th></th>\n",
       "    </tr>\n",
       "  </thead>\n",
       "  <tbody>\n",
       "    <tr>\n",
       "      <th>OH</th>\n",
       "      <td>0.777967</td>\n",
       "      <td>0.222033</td>\n",
       "    </tr>\n",
       "    <tr>\n",
       "      <th>MA</th>\n",
       "      <td>0.784936</td>\n",
       "      <td>0.215064</td>\n",
       "    </tr>\n",
       "    <tr>\n",
       "      <th>NJ</th>\n",
       "      <td>0.789303</td>\n",
       "      <td>0.210697</td>\n",
       "    </tr>\n",
       "    <tr>\n",
       "      <th>PA</th>\n",
       "      <td>0.789632</td>\n",
       "      <td>0.210368</td>\n",
       "    </tr>\n",
       "    <tr>\n",
       "      <th>MI</th>\n",
       "      <td>0.790374</td>\n",
       "      <td>0.209626</td>\n",
       "    </tr>\n",
       "    <tr>\n",
       "      <th>VA</th>\n",
       "      <td>0.790536</td>\n",
       "      <td>0.209464</td>\n",
       "    </tr>\n",
       "    <tr>\n",
       "      <th>State - Other groupped</th>\n",
       "      <td>0.790668</td>\n",
       "      <td>0.209332</td>\n",
       "    </tr>\n",
       "    <tr>\n",
       "      <th>NY</th>\n",
       "      <td>0.791308</td>\n",
       "      <td>0.208692</td>\n",
       "    </tr>\n",
       "    <tr>\n",
       "      <th>IL</th>\n",
       "      <td>0.791759</td>\n",
       "      <td>0.208241</td>\n",
       "    </tr>\n",
       "    <tr>\n",
       "      <th>CA</th>\n",
       "      <td>0.792478</td>\n",
       "      <td>0.207522</td>\n",
       "    </tr>\n",
       "    <tr>\n",
       "      <th>MD</th>\n",
       "      <td>0.794293</td>\n",
       "      <td>0.205707</td>\n",
       "    </tr>\n",
       "    <tr>\n",
       "      <th>NC</th>\n",
       "      <td>0.795703</td>\n",
       "      <td>0.204297</td>\n",
       "    </tr>\n",
       "    <tr>\n",
       "      <th>GA</th>\n",
       "      <td>0.796776</td>\n",
       "      <td>0.203224</td>\n",
       "    </tr>\n",
       "    <tr>\n",
       "      <th>FL</th>\n",
       "      <td>0.798269</td>\n",
       "      <td>0.201731</td>\n",
       "    </tr>\n",
       "    <tr>\n",
       "      <th>AZ</th>\n",
       "      <td>0.801116</td>\n",
       "      <td>0.198884</td>\n",
       "    </tr>\n",
       "    <tr>\n",
       "      <th>TX</th>\n",
       "      <td>0.805878</td>\n",
       "      <td>0.194122</td>\n",
       "    </tr>\n",
       "  </tbody>\n",
       "</table>\n",
       "</div>"
      ],
      "text/plain": [
       "Y                              0         1\n",
       "State_recoded                             \n",
       "OH                      0.777967  0.222033\n",
       "MA                      0.784936  0.215064\n",
       "NJ                      0.789303  0.210697\n",
       "PA                      0.789632  0.210368\n",
       "MI                      0.790374  0.209626\n",
       "VA                      0.790536  0.209464\n",
       "State - Other groupped  0.790668  0.209332\n",
       "NY                      0.791308  0.208692\n",
       "IL                      0.791759  0.208241\n",
       "CA                      0.792478  0.207522\n",
       "MD                      0.794293  0.205707\n",
       "NC                      0.795703  0.204297\n",
       "GA                      0.796776  0.203224\n",
       "FL                      0.798269  0.201731\n",
       "AZ                      0.801116  0.198884\n",
       "TX                      0.805878  0.194122"
      ]
     },
     "execution_count": 26,
     "metadata": {},
     "output_type": "execute_result"
    }
   ],
   "source": [
    "# Tabulate recoded State by outcome (Y)\n",
    "tab_state_Y = pd.crosstab(index = df.State_recoded, columns = df.Y, \n",
    "            normalize = 'index').sort_values(by=1, ascending=False)\n",
    "tab_state_Y\n"
   ]
  },
  {
   "cell_type": "markdown",
   "metadata": {},
   "source": [
    "There seems to be little variation in the likelihood of monetary compensation by state as % of positive outcome ranges from 19% to 22%. This implies that state dummies are likely to play a trivial role in the predictive model."
   ]
  },
  {
   "cell_type": "code",
   "execution_count": 27,
   "metadata": {},
   "outputs": [],
   "source": [
    "# Create dummy variables for categories in the recoded State variable\n",
    "# Make \"State - Other groupped\" the excluded (baseline) category in regressions\n",
    "df_States = pd.get_dummies(df['State_recoded']) \n",
    "df_States = df_States.drop('State - Other groupped', axis=1)\n",
    "df = pd.concat([df, df_States], axis=1)\n"
   ]
  },
  {
   "cell_type": "markdown",
   "metadata": {},
   "source": [
    "### Variable *Tags*"
   ]
  },
  {
   "cell_type": "code",
   "execution_count": 28,
   "metadata": {
    "scrolled": true
   },
   "outputs": [
    {
     "name": "stdout",
     "output_type": "stream",
     "text": [
      "NaN                              0.848838\n",
      "Older American                   0.109466\n",
      "Servicemember                    0.031129\n",
      "Older American, Servicemember    0.010567\n",
      "Name: Tags, dtype: float64\n",
      "\n"
     ]
    }
   ],
   "source": [
    "# Tabulate variable 'Tags'\n",
    "print(df.Tags.value_counts(dropna=False)/df.shape[0])\n",
    "print()\n"
   ]
  },
  {
   "cell_type": "code",
   "execution_count": 29,
   "metadata": {},
   "outputs": [
    {
     "data": {
      "text/html": [
       "<div>\n",
       "<style scoped>\n",
       "    .dataframe tbody tr th:only-of-type {\n",
       "        vertical-align: middle;\n",
       "    }\n",
       "\n",
       "    .dataframe tbody tr th {\n",
       "        vertical-align: top;\n",
       "    }\n",
       "\n",
       "    .dataframe thead th {\n",
       "        text-align: right;\n",
       "    }\n",
       "</style>\n",
       "<table border=\"1\" class=\"dataframe\">\n",
       "  <thead>\n",
       "    <tr style=\"text-align: right;\">\n",
       "      <th>Y</th>\n",
       "      <th>0</th>\n",
       "      <th>1</th>\n",
       "    </tr>\n",
       "    <tr>\n",
       "      <th>Tags</th>\n",
       "      <th></th>\n",
       "      <th></th>\n",
       "    </tr>\n",
       "  </thead>\n",
       "  <tbody>\n",
       "    <tr>\n",
       "      <th>Older American</th>\n",
       "      <td>0.765006</td>\n",
       "      <td>0.234994</td>\n",
       "    </tr>\n",
       "    <tr>\n",
       "      <th>Older American, Servicemember</th>\n",
       "      <td>0.801544</td>\n",
       "      <td>0.198456</td>\n",
       "    </tr>\n",
       "    <tr>\n",
       "      <th>Servicemember</th>\n",
       "      <td>0.814746</td>\n",
       "      <td>0.185254</td>\n",
       "    </tr>\n",
       "  </tbody>\n",
       "</table>\n",
       "</div>"
      ],
      "text/plain": [
       "Y                                     0         1\n",
       "Tags                                             \n",
       "Older American                 0.765006  0.234994\n",
       "Older American, Servicemember  0.801544  0.198456\n",
       "Servicemember                  0.814746  0.185254"
      ]
     },
     "execution_count": 29,
     "metadata": {},
     "output_type": "execute_result"
    }
   ],
   "source": [
    "# Tabulate Tags by outcome (Y)\n",
    "pd.crosstab(index = df['Tags'], \n",
    "            columns = df.Y, normalize = 'index').sort_values(by=1, ascending=False)\n"
   ]
  },
  {
   "cell_type": "code",
   "execution_count": 30,
   "metadata": {},
   "outputs": [
    {
     "data": {
      "text/plain": [
       "0.20472138347515784"
      ]
     },
     "execution_count": 30,
     "metadata": {},
     "output_type": "execute_result"
    }
   ],
   "source": [
    "# Tabulate Y for the NULL values of Tags\n",
    "df[df.Tags.isna()].Y.mean()\n"
   ]
  },
  {
   "cell_type": "markdown",
   "metadata": {},
   "source": [
    "Older Non-Service Member Americans (who filed ~11% of complaints in the dataset) are slightly more likely to be offered monetary relief than people in other Tags categories. Note that the percent of positive outcomes is similar for the other 2 Tags categories and Nulls. So I create one dummy variable for the \"Older American\" Tags category only."
   ]
  },
  {
   "cell_type": "code",
   "execution_count": 31,
   "metadata": {},
   "outputs": [],
   "source": [
    "df[\"Older American\"] = np.where(df.Tags == 'Older American', 1, 0)\n"
   ]
  },
  {
   "cell_type": "markdown",
   "metadata": {},
   "source": [
    "### Varibale *Consumer consent provided?*"
   ]
  },
  {
   "cell_type": "code",
   "execution_count": 32,
   "metadata": {},
   "outputs": [
    {
     "name": "stdout",
     "output_type": "stream",
     "text": [
      "NaN                     0.668725\n",
      "Consent provided        0.195666\n",
      "Consent not provided    0.129912\n",
      "Other                   0.005697\n",
      "Name: Consumer consent provided?, dtype: float64\n"
     ]
    }
   ],
   "source": [
    "#Tabulate and recode whether the consumer provided consent to share information\n",
    "print(df['Consumer consent provided?'].value_counts(dropna=False)/df.shape[0])\n"
   ]
  },
  {
   "cell_type": "code",
   "execution_count": 33,
   "metadata": {},
   "outputs": [
    {
     "data": {
      "text/html": [
       "<div>\n",
       "<style scoped>\n",
       "    .dataframe tbody tr th:only-of-type {\n",
       "        vertical-align: middle;\n",
       "    }\n",
       "\n",
       "    .dataframe tbody tr th {\n",
       "        vertical-align: top;\n",
       "    }\n",
       "\n",
       "    .dataframe thead th {\n",
       "        text-align: right;\n",
       "    }\n",
       "</style>\n",
       "<table border=\"1\" class=\"dataframe\">\n",
       "  <thead>\n",
       "    <tr style=\"text-align: right;\">\n",
       "      <th>Y</th>\n",
       "      <th>0</th>\n",
       "      <th>1</th>\n",
       "    </tr>\n",
       "    <tr>\n",
       "      <th>Consumer consent provided?</th>\n",
       "      <th></th>\n",
       "      <th></th>\n",
       "    </tr>\n",
       "  </thead>\n",
       "  <tbody>\n",
       "    <tr>\n",
       "      <th>Consent provided</th>\n",
       "      <td>0.767133</td>\n",
       "      <td>0.232867</td>\n",
       "    </tr>\n",
       "    <tr>\n",
       "      <th>Consent not provided</th>\n",
       "      <td>0.816788</td>\n",
       "      <td>0.183212</td>\n",
       "    </tr>\n",
       "    <tr>\n",
       "      <th>Other</th>\n",
       "      <td>0.850716</td>\n",
       "      <td>0.149284</td>\n",
       "    </tr>\n",
       "  </tbody>\n",
       "</table>\n",
       "</div>"
      ],
      "text/plain": [
       "Y                                  0         1\n",
       "Consumer consent provided?                    \n",
       "Consent provided            0.767133  0.232867\n",
       "Consent not provided        0.816788  0.183212\n",
       "Other                       0.850716  0.149284"
      ]
     },
     "execution_count": 33,
     "metadata": {},
     "output_type": "execute_result"
    }
   ],
   "source": [
    "# Tabulate Consent by outcome (Y)\n",
    "pd.crosstab(index = df['Consumer consent provided?'], \n",
    "            columns = df.Y, normalize = 'index').sort_values(by=1, ascending=False)"
   ]
  },
  {
   "cell_type": "code",
   "execution_count": 34,
   "metadata": {},
   "outputs": [
    {
     "data": {
      "text/plain": [
       "0.20508710801393729"
      ]
     },
     "execution_count": 34,
     "metadata": {},
     "output_type": "execute_result"
    }
   ],
   "source": [
    "# Tabulate Y for the NULL values of 'Consumer consent provided?'\n",
    "df[df['Consumer consent provided?'].isna()].Y.mean()\n"
   ]
  },
  {
   "cell_type": "markdown",
   "metadata": {},
   "source": [
    "Complainants who provided consent to share their data are slightly more likely to have their credit card complaints resolved with monetary relief. So here I create an indicator variable for category 'Consent provided\"."
   ]
  },
  {
   "cell_type": "code",
   "execution_count": 35,
   "metadata": {},
   "outputs": [],
   "source": [
    "df['Consent provided'] = np.where(df['Consumer consent provided?'] == 'Consent provided', 1,0)\n"
   ]
  },
  {
   "cell_type": "markdown",
   "metadata": {},
   "source": [
    "### Variable *Submitted via*"
   ]
  },
  {
   "cell_type": "code",
   "execution_count": 36,
   "metadata": {},
   "outputs": [
    {
     "data": {
      "text/plain": [
       "Web            0.687132\n",
       "Referral       0.166948\n",
       "Phone          0.075505\n",
       "Postal mail    0.059894\n",
       "Fax            0.010019\n",
       "Email          0.000501\n",
       "Name: Submitted via, dtype: float64"
      ]
     },
     "execution_count": 36,
     "metadata": {},
     "output_type": "execute_result"
    }
   ],
   "source": [
    "#Tabulate the way the complaint was delivered to the CFPB\n",
    "df['Submitted via'].value_counts(dropna=False)/df.shape[0]\n"
   ]
  },
  {
   "cell_type": "code",
   "execution_count": 37,
   "metadata": {
    "scrolled": false
   },
   "outputs": [
    {
     "data": {
      "text/html": [
       "<div>\n",
       "<style scoped>\n",
       "    .dataframe tbody tr th:only-of-type {\n",
       "        vertical-align: middle;\n",
       "    }\n",
       "\n",
       "    .dataframe tbody tr th {\n",
       "        vertical-align: top;\n",
       "    }\n",
       "\n",
       "    .dataframe thead th {\n",
       "        text-align: right;\n",
       "    }\n",
       "</style>\n",
       "<table border=\"1\" class=\"dataframe\">\n",
       "  <thead>\n",
       "    <tr style=\"text-align: right;\">\n",
       "      <th>Y</th>\n",
       "      <th>0</th>\n",
       "      <th>1</th>\n",
       "    </tr>\n",
       "    <tr>\n",
       "      <th>Submitted via</th>\n",
       "      <th></th>\n",
       "      <th></th>\n",
       "    </tr>\n",
       "  </thead>\n",
       "  <tbody>\n",
       "    <tr>\n",
       "      <th>Web</th>\n",
       "      <td>0.782469</td>\n",
       "      <td>0.217531</td>\n",
       "    </tr>\n",
       "    <tr>\n",
       "      <th>Fax</th>\n",
       "      <td>0.789535</td>\n",
       "      <td>0.210465</td>\n",
       "    </tr>\n",
       "    <tr>\n",
       "      <th>Phone</th>\n",
       "      <td>0.811140</td>\n",
       "      <td>0.188860</td>\n",
       "    </tr>\n",
       "    <tr>\n",
       "      <th>Referral</th>\n",
       "      <td>0.811165</td>\n",
       "      <td>0.188835</td>\n",
       "    </tr>\n",
       "    <tr>\n",
       "      <th>Postal mail</th>\n",
       "      <td>0.834468</td>\n",
       "      <td>0.165532</td>\n",
       "    </tr>\n",
       "    <tr>\n",
       "      <th>Email</th>\n",
       "      <td>0.837209</td>\n",
       "      <td>0.162791</td>\n",
       "    </tr>\n",
       "  </tbody>\n",
       "</table>\n",
       "</div>"
      ],
      "text/plain": [
       "Y                     0         1\n",
       "Submitted via                    \n",
       "Web            0.782469  0.217531\n",
       "Fax            0.789535  0.210465\n",
       "Phone          0.811140  0.188860\n",
       "Referral       0.811165  0.188835\n",
       "Postal mail    0.834468  0.165532\n",
       "Email          0.837209  0.162791"
      ]
     },
     "execution_count": 37,
     "metadata": {},
     "output_type": "execute_result"
    }
   ],
   "source": [
    "# Tabulate the method of complaint submission by outcome (Y)\n",
    "pd.crosstab(index = df['Submitted via'], \n",
    "            columns = df.Y, normalize = 'index').sort_values(by=1, ascending=False)\n"
   ]
  },
  {
   "cell_type": "markdown",
   "metadata": {},
   "source": [
    "Emailed and mailed credit card complaints have lower rates of resolution with monetary compensation compared with complaints submitted via the CFPB website or fax. Category 'Fax', however, is very small, so I group categories 'Email', 'Fax', and 'Postal mail' into one (baseline) category and create dummies for the other 3 categories."
   ]
  },
  {
   "cell_type": "code",
   "execution_count": 38,
   "metadata": {
    "scrolled": true
   },
   "outputs": [],
   "source": [
    "# Create dummy variables for 3 'Submitted via' categories - Web, Phone, and Referral. Treat the rest \n",
    "# (phone, mail, and fax) as baseline.\n",
    "df['Submitted_Web'] = np.where(df['Submitted via'] == 'Web', 1,0)\n",
    "df['Submitted_Phone'] = np.where(df['Submitted via'] == 'Phone', 1,0)\n",
    "df['Submitted_Referral'] = np.where(df['Submitted via'] == 'Referral', 1,0)\n"
   ]
  },
  {
   "cell_type": "markdown",
   "metadata": {},
   "source": [
    "### Variable *Timely response?*"
   ]
  },
  {
   "cell_type": "code",
   "execution_count": 39,
   "metadata": {},
   "outputs": [
    {
     "name": "stdout",
     "output_type": "stream",
     "text": [
      "Yes    0.989095\n",
      "No     0.010905\n",
      "Name: Timely response?, dtype: float64\n"
     ]
    }
   ],
   "source": [
    "#Tabulate Timely response variable\n",
    "print(df['Timely response?'].value_counts(dropna=False)/df.shape[0])\n"
   ]
  },
  {
   "cell_type": "code",
   "execution_count": 40,
   "metadata": {},
   "outputs": [
    {
     "data": {
      "text/html": [
       "<div>\n",
       "<style scoped>\n",
       "    .dataframe tbody tr th:only-of-type {\n",
       "        vertical-align: middle;\n",
       "    }\n",
       "\n",
       "    .dataframe tbody tr th {\n",
       "        vertical-align: top;\n",
       "    }\n",
       "\n",
       "    .dataframe thead th {\n",
       "        text-align: right;\n",
       "    }\n",
       "</style>\n",
       "<table border=\"1\" class=\"dataframe\">\n",
       "  <thead>\n",
       "    <tr style=\"text-align: right;\">\n",
       "      <th>Y</th>\n",
       "      <th>0</th>\n",
       "      <th>1</th>\n",
       "    </tr>\n",
       "    <tr>\n",
       "      <th>Timely response?</th>\n",
       "      <th></th>\n",
       "      <th></th>\n",
       "    </tr>\n",
       "  </thead>\n",
       "  <tbody>\n",
       "    <tr>\n",
       "      <th>Yes</th>\n",
       "      <td>0.791552</td>\n",
       "      <td>0.208448</td>\n",
       "    </tr>\n",
       "    <tr>\n",
       "      <th>No</th>\n",
       "      <td>0.891026</td>\n",
       "      <td>0.108974</td>\n",
       "    </tr>\n",
       "  </tbody>\n",
       "</table>\n",
       "</div>"
      ],
      "text/plain": [
       "Y                        0         1\n",
       "Timely response?                    \n",
       "Yes               0.791552  0.208448\n",
       "No                0.891026  0.108974"
      ]
     },
     "execution_count": 40,
     "metadata": {},
     "output_type": "execute_result"
    }
   ],
   "source": [
    "# Tabulate  'Timely response?'  by outcome (Y)\n",
    "pd.crosstab(index = df['Timely response?'], \n",
    "            columns = df.Y, normalize = 'index').sort_values(by=1, ascending=False)\n"
   ]
  },
  {
   "cell_type": "markdown",
   "metadata": {},
   "source": [
    "Promptness of company response seems to be an important indicator of whether the credit card complaint would be resolved with monetary compensation - 21% for timely responses vs 11% otherwise. However, delayed responses are so rare that I choose to drop the 'Timely response?' variable because an indicator variable encoding one of its two categories will likely cause convergence issues in estimation."
   ]
  },
  {
   "cell_type": "markdown",
   "metadata": {},
   "source": [
    "### Variable *Year*"
   ]
  },
  {
   "cell_type": "markdown",
   "metadata": {},
   "source": [
    "Note that there are two time variables - Date the consumer complaint was received by the CFPB and the date the CFPB forwarded it to the company. The two variables are very similar, so I keep 'Date received' and drop 'Date sent to company.'\n"
   ]
  },
  {
   "cell_type": "code",
   "execution_count": 41,
   "metadata": {},
   "outputs": [
    {
     "name": "stdout",
     "output_type": "stream",
     "text": [
      "2016    21063\n",
      "2015    17301\n",
      "2012    15355\n",
      "2014    13973\n",
      "2013    13107\n",
      "2017     3776\n",
      "2011     1260\n",
      "Name: Year, dtype: int64\n",
      "\n"
     ]
    },
    {
     "data": {
      "text/plain": [
       "2016    0.245389\n",
       "2015    0.201561\n",
       "2012    0.178890\n",
       "2014    0.162789\n",
       "2013    0.152700\n",
       "2017    0.043991\n",
       "2011    0.014679\n",
       "Name: Year, dtype: float64"
      ]
     },
     "execution_count": 41,
     "metadata": {},
     "output_type": "execute_result"
    }
   ],
   "source": [
    "# Create Year variable from Date received\n",
    "df['Year'] = df['Date received'].str[6:]\n",
    "\n",
    "# Tabulate (#)\n",
    "print(df.Year.value_counts(dropna=False))\n",
    "print()\n",
    "\n",
    "# Tabulate (%)\n",
    "df.Year.value_counts(dropna=False)/df.shape[0]\n"
   ]
  },
  {
   "cell_type": "code",
   "execution_count": 42,
   "metadata": {},
   "outputs": [
    {
     "data": {
      "text/html": [
       "<div>\n",
       "<style scoped>\n",
       "    .dataframe tbody tr th:only-of-type {\n",
       "        vertical-align: middle;\n",
       "    }\n",
       "\n",
       "    .dataframe tbody tr th {\n",
       "        vertical-align: top;\n",
       "    }\n",
       "\n",
       "    .dataframe thead th {\n",
       "        text-align: right;\n",
       "    }\n",
       "</style>\n",
       "<table border=\"1\" class=\"dataframe\">\n",
       "  <thead>\n",
       "    <tr style=\"text-align: right;\">\n",
       "      <th>Y</th>\n",
       "      <th>0</th>\n",
       "      <th>1</th>\n",
       "    </tr>\n",
       "    <tr>\n",
       "      <th>Year</th>\n",
       "      <th></th>\n",
       "      <th></th>\n",
       "    </tr>\n",
       "  </thead>\n",
       "  <tbody>\n",
       "    <tr>\n",
       "      <th>2013</th>\n",
       "      <td>0.754788</td>\n",
       "      <td>0.245212</td>\n",
       "    </tr>\n",
       "    <tr>\n",
       "      <th>2014</th>\n",
       "      <td>0.769770</td>\n",
       "      <td>0.230230</td>\n",
       "    </tr>\n",
       "    <tr>\n",
       "      <th>2016</th>\n",
       "      <td>0.790058</td>\n",
       "      <td>0.209942</td>\n",
       "    </tr>\n",
       "    <tr>\n",
       "      <th>2015</th>\n",
       "      <td>0.799607</td>\n",
       "      <td>0.200393</td>\n",
       "    </tr>\n",
       "    <tr>\n",
       "      <th>2017</th>\n",
       "      <td>0.800053</td>\n",
       "      <td>0.199947</td>\n",
       "    </tr>\n",
       "    <tr>\n",
       "      <th>2012</th>\n",
       "      <td>0.822664</td>\n",
       "      <td>0.177336</td>\n",
       "    </tr>\n",
       "    <tr>\n",
       "      <th>2011</th>\n",
       "      <td>0.999206</td>\n",
       "      <td>0.000794</td>\n",
       "    </tr>\n",
       "  </tbody>\n",
       "</table>\n",
       "</div>"
      ],
      "text/plain": [
       "Y            0         1\n",
       "Year                    \n",
       "2013  0.754788  0.245212\n",
       "2014  0.769770  0.230230\n",
       "2016  0.790058  0.209942\n",
       "2015  0.799607  0.200393\n",
       "2017  0.800053  0.199947\n",
       "2012  0.822664  0.177336\n",
       "2011  0.999206  0.000794"
      ]
     },
     "execution_count": 42,
     "metadata": {},
     "output_type": "execute_result"
    }
   ],
   "source": [
    "# Tabulate  Year  by outcome (Y)\n",
    "pd.crosstab(index = df['Year'], \n",
    "            columns = df.Y, normalize = 'index').sort_values(by=1, ascending=False)\n"
   ]
  },
  {
   "cell_type": "markdown",
   "metadata": {},
   "source": [
    "Years 2013 and 2014 had the highest percentage of monetary resolutions. Note that 2011 seems to be an atypical year because it has few observations and essentially no resolutions with monetary relief. So I drop yar 2011 observations (n=1,260) and set year 2012 as my baseline year in regressions. "
   ]
  },
  {
   "cell_type": "code",
   "execution_count": 43,
   "metadata": {},
   "outputs": [],
   "source": [
    "# Create yearly dummies and make 2012 the excluded category\n",
    "df = df[df.Year != '2011']\n",
    "\n",
    "df_Year = pd.get_dummies(df['Year'])\n",
    "df_Year = df_Year.drop(['2012'], axis =1)\n",
    "df = pd.concat([df, df_Year], axis=1)"
   ]
  },
  {
   "cell_type": "markdown",
   "metadata": {},
   "source": [
    "### Variable *Month*"
   ]
  },
  {
   "cell_type": "code",
   "execution_count": 44,
   "metadata": {},
   "outputs": [
    {
     "data": {
      "text/plain": [
       "02    0.096518\n",
       "01    0.095537\n",
       "03    0.086491\n",
       "08    0.084233\n",
       "10    0.084044\n",
       "07    0.082719\n",
       "09    0.082306\n",
       "06    0.080426\n",
       "04    0.078889\n",
       "05    0.078853\n",
       "12    0.075873\n",
       "11    0.074112\n",
       "Name: Month, dtype: float64"
      ]
     },
     "execution_count": 44,
     "metadata": {},
     "output_type": "execute_result"
    }
   ],
   "source": [
    "# Create Month variable from Date received\n",
    "df['Month'] = df['Date received'].str[:2]\n",
    "\n",
    "# Tabulate Month (%)\n",
    "df.Month.value_counts(dropna=False)/df.shape[0]\n"
   ]
  },
  {
   "cell_type": "code",
   "execution_count": 45,
   "metadata": {
    "scrolled": true
   },
   "outputs": [
    {
     "data": {
      "text/html": [
       "<div>\n",
       "<style scoped>\n",
       "    .dataframe tbody tr th:only-of-type {\n",
       "        vertical-align: middle;\n",
       "    }\n",
       "\n",
       "    .dataframe tbody tr th {\n",
       "        vertical-align: top;\n",
       "    }\n",
       "\n",
       "    .dataframe thead th {\n",
       "        text-align: right;\n",
       "    }\n",
       "</style>\n",
       "<table border=\"1\" class=\"dataframe\">\n",
       "  <thead>\n",
       "    <tr style=\"text-align: right;\">\n",
       "      <th>Y</th>\n",
       "      <th>0</th>\n",
       "      <th>1</th>\n",
       "    </tr>\n",
       "    <tr>\n",
       "      <th>Month</th>\n",
       "      <th></th>\n",
       "      <th></th>\n",
       "    </tr>\n",
       "  </thead>\n",
       "  <tbody>\n",
       "    <tr>\n",
       "      <th>07</th>\n",
       "      <td>0.760577</td>\n",
       "      <td>0.239423</td>\n",
       "    </tr>\n",
       "    <tr>\n",
       "      <th>10</th>\n",
       "      <td>0.764772</td>\n",
       "      <td>0.235228</td>\n",
       "    </tr>\n",
       "    <tr>\n",
       "      <th>08</th>\n",
       "      <td>0.775969</td>\n",
       "      <td>0.224031</td>\n",
       "    </tr>\n",
       "    <tr>\n",
       "      <th>09</th>\n",
       "      <td>0.777618</td>\n",
       "      <td>0.222382</td>\n",
       "    </tr>\n",
       "    <tr>\n",
       "      <th>06</th>\n",
       "      <td>0.777859</td>\n",
       "      <td>0.222141</td>\n",
       "    </tr>\n",
       "    <tr>\n",
       "      <th>12</th>\n",
       "      <td>0.779024</td>\n",
       "      <td>0.220976</td>\n",
       "    </tr>\n",
       "    <tr>\n",
       "      <th>11</th>\n",
       "      <td>0.784780</td>\n",
       "      <td>0.215220</td>\n",
       "    </tr>\n",
       "    <tr>\n",
       "      <th>05</th>\n",
       "      <td>0.805068</td>\n",
       "      <td>0.194932</td>\n",
       "    </tr>\n",
       "    <tr>\n",
       "      <th>01</th>\n",
       "      <td>0.805569</td>\n",
       "      <td>0.194431</td>\n",
       "    </tr>\n",
       "    <tr>\n",
       "      <th>03</th>\n",
       "      <td>0.811347</td>\n",
       "      <td>0.188653</td>\n",
       "    </tr>\n",
       "    <tr>\n",
       "      <th>02</th>\n",
       "      <td>0.811711</td>\n",
       "      <td>0.188289</td>\n",
       "    </tr>\n",
       "    <tr>\n",
       "      <th>04</th>\n",
       "      <td>0.813999</td>\n",
       "      <td>0.186001</td>\n",
       "    </tr>\n",
       "  </tbody>\n",
       "</table>\n",
       "</div>"
      ],
      "text/plain": [
       "Y             0         1\n",
       "Month                    \n",
       "07     0.760577  0.239423\n",
       "10     0.764772  0.235228\n",
       "08     0.775969  0.224031\n",
       "09     0.777618  0.222382\n",
       "06     0.777859  0.222141\n",
       "12     0.779024  0.220976\n",
       "11     0.784780  0.215220\n",
       "05     0.805068  0.194932\n",
       "01     0.805569  0.194431\n",
       "03     0.811347  0.188653\n",
       "02     0.811711  0.188289\n",
       "04     0.813999  0.186001"
      ]
     },
     "execution_count": 45,
     "metadata": {},
     "output_type": "execute_result"
    }
   ],
   "source": [
    "# Tabulate  Month  by outcome (Y)\n",
    "pd.crosstab(index = df['Month'], \n",
    "            columns = df.Y, normalize = 'index').sort_values(by=1, ascending=False)\n"
   ]
  },
  {
   "cell_type": "markdown",
   "metadata": {},
   "source": [
    "Seasonality appears important as we observe some degree of variation in monetary resolution rates by month - July 24% vs April 18.6%."
   ]
  },
  {
   "cell_type": "code",
   "execution_count": 46,
   "metadata": {},
   "outputs": [],
   "source": [
    "# Create monthly dummy variables\n",
    "# Let April be the baseline (excluded) category\n",
    "df_Months = pd.get_dummies(df['Month']) \n",
    "df_Months = df_Months.drop(['04'], axis=1)\n",
    "df = pd.concat([df, df_Months], axis=1)"
   ]
  },
  {
   "cell_type": "markdown",
   "metadata": {},
   "source": [
    "\n",
    "##  Add American Community Survey (Census) Data"
   ]
  },
  {
   "cell_type": "code",
   "execution_count": 47,
   "metadata": {},
   "outputs": [
    {
     "data": {
      "text/plain": [
       "15402"
      ]
     },
     "execution_count": 47,
     "metadata": {},
     "output_type": "execute_result"
    }
   ],
   "source": [
    "# Number of unique zip codes in the dataset\n",
    "df['ZIP code'].nunique()"
   ]
  },
  {
   "cell_type": "markdown",
   "metadata": {},
   "source": [
    "Since there are over 15,000 zip codes, instead of creating that many zip code dummy variables, I add zip code-level socio-economic information from the American Community Survey (ACS) to control for this type of differences across zip codes."
   ]
  },
  {
   "cell_type": "code",
   "execution_count": 48,
   "metadata": {},
   "outputs": [
    {
     "name": "stdout",
     "output_type": "stream",
     "text": [
      "Number of non-alphanumeric characters:  0\n",
      "\n",
      "Alpha characters in the zip code:\n",
      "Series([], Name: 0, dtype: int64)\n",
      "\n",
      "Number of null values:  0\n"
     ]
    }
   ],
   "source": [
    "# Load ACS data\n",
    "socio_econ_data = pd.read_pickle(open(directory+'ACS_census_data.pickle', 'rb'))\n",
    "\n",
    "# Remove empty space from variable ZIP code\n",
    "socio_econ_data[\"ZIP code\"] = socio_econ_data[\"ZIP code\"].str.strip()\n",
    "\n",
    "# Check length of the zip code in ACS data - always 5 digits\n",
    "socio_econ_data[\"ZIP code\"].str.len().value_counts()\n",
    "\n",
    "# Check if any non-alphanumeric characters are present\n",
    "print(\"Number of non-alphanumeric characters: \", \n",
    "      socio_econ_data[socio_econ_data[\"ZIP code\"].str.isalnum()==False].shape[0])\n",
    "print()\n",
    "\n",
    "# Check for non-numeric characters in the zip code\n",
    "print('Alpha characters in the zip code:')\n",
    "print(socio_econ_data[\"ZIP code\"].str.extract('([A-Z])')[0].value_counts())\n",
    "print()\n",
    "\n",
    "# Check if Zip code has null values\n",
    "print('Number of null values: ', socio_econ_data['ZIP code'].isna().sum())"
   ]
  },
  {
   "cell_type": "code",
   "execution_count": 49,
   "metadata": {},
   "outputs": [
    {
     "name": "stdout",
     "output_type": "stream",
     "text": [
      "Length\n",
      "5.0    83860\n",
      "4.0       14\n",
      "Name: ZIP code, dtype: int64\n",
      "\n",
      "Number of non-alphanumeric characters:  19\n",
      "\n",
      "Alpha characters in the zip code:\n",
      "X    17680\n",
      "Name: 0, dtype: int64\n",
      "\n",
      "Number of null values:  701\n"
     ]
    }
   ],
   "source": [
    "# CFPB data\n",
    "# Remove empty space from variable ZIP code\n",
    "df[\"ZIP code\"] = df[\"ZIP code\"].str.strip()\n",
    "\n",
    "# Check length of the zip code in the CFPB data - mostly 5 digits\n",
    "print('Length')\n",
    "print(df[\"ZIP code\"].str.len().value_counts())\n",
    "print()\n",
    "\n",
    "# Check if any non-alphanumeric characters are present\n",
    "print(\"Number of non-alphanumeric characters: \", \n",
    "      df[df[\"ZIP code\"].str.isalnum()==False].shape[0])\n",
    "print()\n",
    "\n",
    "# Check for non-numeric characters in the zip code\n",
    "print('Alpha characters in the zip code:')\n",
    "print(df[\"ZIP code\"].str.extract('([A-Z])')[0].value_counts())\n",
    "print()\n",
    "\n",
    "# Check if Zip code has null values\n",
    "print('Number of null values: ', df['ZIP code'].isna().sum())\n",
    "\n",
    "#ideally want to write a function for the above"
   ]
  },
  {
   "cell_type": "markdown",
   "metadata": {},
   "source": [
    "Note that the ACS (Census) data contains a pretty clean zip code variable that consists of 5 digits. Zip code in the CFPB data, however, has missing values and occasionally contains some non-alphanumeric characters (-) or letter 'X'. This means that I will not be able to add ACS data to some zip codes in the CFPB data. My solution is to fill in missing values with means and create dummy variables that would indicate when the value was missing. Note that the alternative solution of dropping missing values would result in a loss of at least 21% of complaints (=17,680/84,575). "
   ]
  },
  {
   "cell_type": "code",
   "execution_count": 50,
   "metadata": {},
   "outputs": [
    {
     "data": {
      "text/plain": [
       "Index(['ZIP code', 'unemployment_rate', 'Commutes_to_work_drives_alone',\n",
       "       'Commutes_to_work_carpool', 'Commutes_to_work_public_transport',\n",
       "       'Mean_travel_time', 'Median_household_income', 'percent_with_earnings',\n",
       "       'percent_with_social_security', 'percent_with_retirement_income',\n",
       "       'percent_with_supplementary_security_income',\n",
       "       'percent_with_cash_public_assistance', 'percent_with_food_stamps_snap',\n",
       "       'median_earnings_for_worker', 'median_earnings_for_male_worker',\n",
       "       'median_earnings_for_female_worker',\n",
       "       'percent_civil_pop_with_health_ins',\n",
       "       'percent_civil_pop_with_private_health_ins',\n",
       "       'percent_civil_pop_with_public_health_ins',\n",
       "       'percent_civil_pop_without_health_ins',\n",
       "       'percent_below_poverty_families', 'percent_below_poverty_people',\n",
       "       'percent_below_poverty_under18yo', 'percent_below_poverty_ages18_plus',\n",
       "       'percent_below_poverty_ages18_64', 'total_pop', 'age_0_19', 'age_20_29',\n",
       "       'age_30_39', 'age_40_64', 'age_65_plus', 'median_age', 'sex_ratio',\n",
       "       'age_dependency_ratio', 'old_age_dependency_ratio',\n",
       "       'child_age_dependency_ratio'],\n",
       "      dtype='object')"
      ]
     },
     "execution_count": 50,
     "metadata": {},
     "output_type": "execute_result"
    }
   ],
   "source": [
    "# All variables available in the ACS (Census) data\n",
    "socio_econ_data.columns\n"
   ]
  },
  {
   "cell_type": "markdown",
   "metadata": {},
   "source": [
    "Some of the ACS variables listed above are either highly correlated (% of *families* below poverty line and % of *people* below poverty line) or collinear (% of people in various age categories). So below I select only some ACS variables to characterize socio-economic differences across zip codes."
   ]
  },
  {
   "cell_type": "code",
   "execution_count": 51,
   "metadata": {},
   "outputs": [],
   "source": [
    "# Select a subset of ACS variables\n",
    "census_vars = ['ZIP code', 'unemployment_rate', 'Commutes_to_work_drives_alone', \n",
    "               'Mean_travel_time', 'Median_household_income', 'percent_with_earnings',\n",
    "               'percent_civil_pop_without_health_ins', 'percent_below_poverty_families', \n",
    "               'median_age', 'age_0_19', 'age_65_plus']\n",
    "socio_econ_data = socio_econ_data[census_vars]\n"
   ]
  },
  {
   "cell_type": "code",
   "execution_count": 52,
   "metadata": {},
   "outputs": [
    {
     "data": {
      "text/plain": [
       "both          0.755507\n",
       "left_only     0.244493\n",
       "right_only    0.000000\n",
       "Name: _merge, dtype: float64"
      ]
     },
     "execution_count": 52,
     "metadata": {},
     "output_type": "execute_result"
    }
   ],
   "source": [
    "# Add ACS data to the CFPB data\n",
    "df = df.merge(socio_econ_data, on = 'ZIP code', how = 'left', indicator = True)\n",
    "df._merge.value_counts()/df.shape[0] # 25% of observations have no ACS data\n"
   ]
  },
  {
   "cell_type": "code",
   "execution_count": 53,
   "metadata": {},
   "outputs": [],
   "source": [
    "# Replace missing ACS data with means\n",
    "for i in census_vars[1:]:\n",
    "        df[i] = df[i].fillna(df[i].mean())\n",
    "        \n",
    "# Create an indicator variable to mark Zip codes in the CFPB data that could not be matched with ACS data \n",
    "# (missing values)\n",
    "df['ACS_missing'] = np.where(df._merge == 'left_only', 1, 0)\n"
   ]
  },
  {
   "cell_type": "code",
   "execution_count": 54,
   "metadata": {},
   "outputs": [
    {
     "data": {
      "text/html": [
       "<div>\n",
       "<style scoped>\n",
       "    .dataframe tbody tr th:only-of-type {\n",
       "        vertical-align: middle;\n",
       "    }\n",
       "\n",
       "    .dataframe tbody tr th {\n",
       "        vertical-align: top;\n",
       "    }\n",
       "\n",
       "    .dataframe thead th {\n",
       "        text-align: right;\n",
       "    }\n",
       "</style>\n",
       "<table border=\"1\" class=\"dataframe\">\n",
       "  <thead>\n",
       "    <tr style=\"text-align: right;\">\n",
       "      <th>Y</th>\n",
       "      <th>0</th>\n",
       "      <th>1</th>\n",
       "    </tr>\n",
       "  </thead>\n",
       "  <tbody>\n",
       "    <tr>\n",
       "      <th>unemployment_rate</th>\n",
       "      <td>8.0</td>\n",
       "      <td>7.8</td>\n",
       "    </tr>\n",
       "    <tr>\n",
       "      <th>Mean_travel_time</th>\n",
       "      <td>27.1</td>\n",
       "      <td>27.1</td>\n",
       "    </tr>\n",
       "    <tr>\n",
       "      <th>percent_civil_pop_without_health_ins</th>\n",
       "      <td>11.5</td>\n",
       "      <td>11.3</td>\n",
       "    </tr>\n",
       "    <tr>\n",
       "      <th>percent_with_earnings</th>\n",
       "      <td>79.2</td>\n",
       "      <td>79.3</td>\n",
       "    </tr>\n",
       "    <tr>\n",
       "      <th>Median_household_income</th>\n",
       "      <td>66,430.1</td>\n",
       "      <td>67,100.9</td>\n",
       "    </tr>\n",
       "    <tr>\n",
       "      <th>median_age</th>\n",
       "      <td>38.9</td>\n",
       "      <td>39.1</td>\n",
       "    </tr>\n",
       "    <tr>\n",
       "      <th>age_65_plus</th>\n",
       "      <td>14.5</td>\n",
       "      <td>14.6</td>\n",
       "    </tr>\n",
       "    <tr>\n",
       "      <th>Commutes_to_work_drives_alone</th>\n",
       "      <td>73.5</td>\n",
       "      <td>73.5</td>\n",
       "    </tr>\n",
       "    <tr>\n",
       "      <th>age_0_19</th>\n",
       "      <td>24.6</td>\n",
       "      <td>24.5</td>\n",
       "    </tr>\n",
       "    <tr>\n",
       "      <th>percent_below_poverty_families</th>\n",
       "      <td>10.0</td>\n",
       "      <td>9.7</td>\n",
       "    </tr>\n",
       "  </tbody>\n",
       "</table>\n",
       "</div>"
      ],
      "text/plain": [
       "Y                                           0        1\n",
       "unemployment_rate                         8.0      7.8\n",
       "Mean_travel_time                         27.1     27.1\n",
       "percent_civil_pop_without_health_ins     11.5     11.3\n",
       "percent_with_earnings                    79.2     79.3\n",
       "Median_household_income              66,430.1 67,100.9\n",
       "median_age                               38.9     39.1\n",
       "age_65_plus                              14.5     14.6\n",
       "Commutes_to_work_drives_alone            73.5     73.5\n",
       "age_0_19                                 24.6     24.5\n",
       "percent_below_poverty_families           10.0      9.7"
      ]
     },
     "execution_count": 54,
     "metadata": {},
     "output_type": "execute_result"
    }
   ],
   "source": [
    "# Examine averages of ACS (Census) variables by outcome (Y)\n",
    "pd.options.display.float_format = \"{:,.1f}\".format\n",
    "df.groupby(['Y']).agg({'unemployment_rate': 'mean',\n",
    "                      'Commutes_to_work_drives_alone':'mean',\n",
    "                      'Mean_travel_time':'mean',\n",
    "                      'Median_household_income':'mean',\n",
    "                      'percent_with_earnings':'mean',\n",
    "                      'percent_civil_pop_without_health_ins':'mean',\n",
    "                      'percent_below_poverty_families':'mean',\n",
    "                      'median_age':'mean',\n",
    "                      'age_0_19':'mean',\n",
    "                      'age_65_plus':'mean'\n",
    "                      }).T\n",
    "    "
   ]
  },
  {
   "cell_type": "markdown",
   "metadata": {},
   "source": [
    "The averages of ACS variables across the two categories of our outcome variable appear to be very similar. No significant differences really jump out at this point."
   ]
  },
  {
   "cell_type": "code",
   "execution_count": 55,
   "metadata": {},
   "outputs": [
    {
     "data": {
      "text/html": [
       "<div>\n",
       "<style scoped>\n",
       "    .dataframe tbody tr th:only-of-type {\n",
       "        vertical-align: middle;\n",
       "    }\n",
       "\n",
       "    .dataframe tbody tr th {\n",
       "        vertical-align: top;\n",
       "    }\n",
       "\n",
       "    .dataframe thead th {\n",
       "        text-align: right;\n",
       "    }\n",
       "</style>\n",
       "<table border=\"1\" class=\"dataframe\">\n",
       "  <thead>\n",
       "    <tr style=\"text-align: right;\">\n",
       "      <th></th>\n",
       "      <th>count</th>\n",
       "      <th>mean</th>\n",
       "      <th>std</th>\n",
       "      <th>min</th>\n",
       "      <th>25%</th>\n",
       "      <th>50%</th>\n",
       "      <th>75%</th>\n",
       "      <th>max</th>\n",
       "    </tr>\n",
       "  </thead>\n",
       "  <tbody>\n",
       "    <tr>\n",
       "      <th>unemployment_rate</th>\n",
       "      <td>84,575.0</td>\n",
       "      <td>7.9</td>\n",
       "      <td>3.3</td>\n",
       "      <td>0.0</td>\n",
       "      <td>6.0</td>\n",
       "      <td>7.9</td>\n",
       "      <td>8.6</td>\n",
       "      <td>100.0</td>\n",
       "    </tr>\n",
       "    <tr>\n",
       "      <th>Commutes_to_work_drives_alone</th>\n",
       "      <td>84,575.0</td>\n",
       "      <td>73.5</td>\n",
       "      <td>15.2</td>\n",
       "      <td>0.0</td>\n",
       "      <td>73.5</td>\n",
       "      <td>75.4</td>\n",
       "      <td>81.9</td>\n",
       "      <td>100.0</td>\n",
       "    </tr>\n",
       "    <tr>\n",
       "      <th>Mean_travel_time</th>\n",
       "      <td>84,575.0</td>\n",
       "      <td>27.1</td>\n",
       "      <td>5.5</td>\n",
       "      <td>6.3</td>\n",
       "      <td>23.7</td>\n",
       "      <td>27.1</td>\n",
       "      <td>29.4</td>\n",
       "      <td>113.5</td>\n",
       "    </tr>\n",
       "    <tr>\n",
       "      <th>Median_household_income</th>\n",
       "      <td>84,575.0</td>\n",
       "      <td>66,571.2</td>\n",
       "      <td>23,730.8</td>\n",
       "      <td>3,479.0</td>\n",
       "      <td>51,079.0</td>\n",
       "      <td>66,571.2</td>\n",
       "      <td>73,856.0</td>\n",
       "      <td>236,500.0</td>\n",
       "    </tr>\n",
       "    <tr>\n",
       "      <th>percent_with_earnings</th>\n",
       "      <td>84,575.0</td>\n",
       "      <td>79.2</td>\n",
       "      <td>7.4</td>\n",
       "      <td>0.0</td>\n",
       "      <td>77.3</td>\n",
       "      <td>79.2</td>\n",
       "      <td>83.2</td>\n",
       "      <td>100.0</td>\n",
       "    </tr>\n",
       "    <tr>\n",
       "      <th>percent_civil_pop_without_health_ins</th>\n",
       "      <td>84,575.0</td>\n",
       "      <td>11.4</td>\n",
       "      <td>5.7</td>\n",
       "      <td>0.0</td>\n",
       "      <td>7.7</td>\n",
       "      <td>11.4</td>\n",
       "      <td>13.1</td>\n",
       "      <td>100.0</td>\n",
       "    </tr>\n",
       "    <tr>\n",
       "      <th>percent_below_poverty_families</th>\n",
       "      <td>84,575.0</td>\n",
       "      <td>9.9</td>\n",
       "      <td>6.8</td>\n",
       "      <td>0.0</td>\n",
       "      <td>5.3</td>\n",
       "      <td>9.9</td>\n",
       "      <td>11.1</td>\n",
       "      <td>100.0</td>\n",
       "    </tr>\n",
       "    <tr>\n",
       "      <th>median_age</th>\n",
       "      <td>84,575.0</td>\n",
       "      <td>38.9</td>\n",
       "      <td>5.5</td>\n",
       "      <td>15.5</td>\n",
       "      <td>36.0</td>\n",
       "      <td>38.9</td>\n",
       "      <td>41.1</td>\n",
       "      <td>91.8</td>\n",
       "    </tr>\n",
       "    <tr>\n",
       "      <th>age_0_19</th>\n",
       "      <td>84,575.0</td>\n",
       "      <td>24.6</td>\n",
       "      <td>5.0</td>\n",
       "      <td>0.0</td>\n",
       "      <td>23.0</td>\n",
       "      <td>24.6</td>\n",
       "      <td>26.9</td>\n",
       "      <td>91.9</td>\n",
       "    </tr>\n",
       "    <tr>\n",
       "      <th>age_65_plus</th>\n",
       "      <td>84,575.0</td>\n",
       "      <td>14.6</td>\n",
       "      <td>5.7</td>\n",
       "      <td>0.0</td>\n",
       "      <td>11.6</td>\n",
       "      <td>14.6</td>\n",
       "      <td>15.8</td>\n",
       "      <td>100.1</td>\n",
       "    </tr>\n",
       "  </tbody>\n",
       "</table>\n",
       "</div>"
      ],
      "text/plain": [
       "                                        count     mean      std     min  \\\n",
       "unemployment_rate                    84,575.0      7.9      3.3     0.0   \n",
       "Commutes_to_work_drives_alone        84,575.0     73.5     15.2     0.0   \n",
       "Mean_travel_time                     84,575.0     27.1      5.5     6.3   \n",
       "Median_household_income              84,575.0 66,571.2 23,730.8 3,479.0   \n",
       "percent_with_earnings                84,575.0     79.2      7.4     0.0   \n",
       "percent_civil_pop_without_health_ins 84,575.0     11.4      5.7     0.0   \n",
       "percent_below_poverty_families       84,575.0      9.9      6.8     0.0   \n",
       "median_age                           84,575.0     38.9      5.5    15.5   \n",
       "age_0_19                             84,575.0     24.6      5.0     0.0   \n",
       "age_65_plus                          84,575.0     14.6      5.7     0.0   \n",
       "\n",
       "                                          25%      50%      75%       max  \n",
       "unemployment_rate                         6.0      7.9      8.6     100.0  \n",
       "Commutes_to_work_drives_alone            73.5     75.4     81.9     100.0  \n",
       "Mean_travel_time                         23.7     27.1     29.4     113.5  \n",
       "Median_household_income              51,079.0 66,571.2 73,856.0 236,500.0  \n",
       "percent_with_earnings                    77.3     79.2     83.2     100.0  \n",
       "percent_civil_pop_without_health_ins      7.7     11.4     13.1     100.0  \n",
       "percent_below_poverty_families            5.3      9.9     11.1     100.0  \n",
       "median_age                               36.0     38.9     41.1      91.8  \n",
       "age_0_19                                 23.0     24.6     26.9      91.9  \n",
       "age_65_plus                              11.6     14.6     15.8     100.1  "
      ]
     },
     "execution_count": 55,
     "metadata": {},
     "output_type": "execute_result"
    }
   ],
   "source": [
    "# Generate summary stats for all ACS (Census) variables\n",
    "df[census_vars].describe().T\n"
   ]
  },
  {
   "cell_type": "markdown",
   "metadata": {},
   "source": [
    "## Drivers of Monetary Relief in Credit Card Complaints"
   ]
  },
  {
   "cell_type": "markdown",
   "metadata": {},
   "source": [
    "So far, what have we learned about determinants of whether a credit card complaint will be met with monetary relief?\n",
    "\n",
    "- **Variable \"Issue\"** definitely seems to be the most important driver. When we tabulated the % of positive outcomes by Issue categories, fee- and billing-related complaints had a very high percentage of positive outcomes compared with complaints related to credit determination, etc. \n",
    "\n",
    "\n",
    "- **Companies** also seem to vary a great deal in the way they settle complaints, and preliminary analysis suggests that this is not necessarily entirely related to differences in the mix of credit card complaints handled by different companies. \n",
    "\n",
    "\n",
    "- **Year and month** the complaint was submitted to the CFPB also seem to add to the ability to predict positive outcomes. % of complaints with monetary relief ranges from 18% to 25% across years and from 19% to 24% across months (seasonality seems to matters).  \n",
    "\n",
    "\n",
    "The rest of the variables seem to matter less for predictions because:\n",
    "\n",
    "- The variable itself is dominated by one category (label) that drives the result, or\n",
    "       (Tags, Timely response)\n",
    "    \n",
    "\n",
    "- There is not much differences in Y across categories, or\n",
    "      (State, Presense of a complaint narrative, Tags, whether the consumer provided consent to share\n",
    "      information, the way the complaint was submitted to the CFPB)\n",
    "\n",
    "\n",
    "- Both \n",
    "      (Tags)\n",
    "      \n",
    "      \n",
    "**Next,** I fit a decision tree (DT) classifier to the whole CFPB dataset to check which variables are important (based on the entropy criterion). I display a bar chart showing feature importance, as measured by information gain or decrease in entropy associated with the given variable. The DT results are consistent with the analysis listed above.\n",
    "\n",
    "Note that I limit the depth of the tree to 10. This is completely arbitrary for now. I do this in order to avoid fitting the tree perfectly to data. This allows me to capture high-level patterns in data and minimize the influence of noise from overfitting."
   ]
  },
  {
   "cell_type": "markdown",
   "metadata": {},
   "source": [
    "## Decision tree-based feature importance"
   ]
  },
  {
   "cell_type": "markdown",
   "metadata": {},
   "source": [
    "Before fitting the decision tree, I first need to encode labels of categorical variables, so that instead of labels such as 'Citibank', 'Discover', and 'JP Morgan', we would have numeric labels such as 0, 1, and 2 instead."
   ]
  },
  {
   "cell_type": "code",
   "execution_count": 56,
   "metadata": {},
   "outputs": [],
   "source": [
    "# Define a new dataset and label encoder function\n",
    "df_encoded = df.astype('str')\n",
    "le = preprocessing.LabelEncoder()\n",
    "\n",
    "# Define variables to encode (note that these are original, un-recoded variables)\n",
    "X= ['Issue', 'Is_narrative', 'Tags', 'Consumer consent provided?', 'Submitted via',\n",
    "    'Timely response?', 'Company', 'State', 'Year', 'Month']\n",
    "\n",
    "# Apply le.fit_transform to X\n",
    "df_encoded[X] = df_encoded[X].apply(le.fit_transform)\n"
   ]
  },
  {
   "cell_type": "code",
   "execution_count": 57,
   "metadata": {},
   "outputs": [],
   "source": [
    "# Fit a decision tree classifier of arbitrary depth 10 on the whole CFPB dataset \n",
    "# using criterion 'entropy'\n",
    "clf = DecisionTreeClassifier(criterion='entropy', max_depth = 10)\n",
    "clf = clf.fit(df_encoded[X],df_encoded.Y)\n"
   ]
  },
  {
   "cell_type": "code",
   "execution_count": 58,
   "metadata": {},
   "outputs": [],
   "source": [
    "def feature_importance(clf, df):\n",
    "\n",
    "    \"\"\" This function produces a bar chart of feature importance and gives a list of \n",
    "    ranked features / variables \"\"\"\n",
    "    \n",
    "    fig, ax = plt.subplots(figsize=(10, 6))\n",
    "    width = 1\n",
    "    plt.title('Feature Importance', size=18)\n",
    "    ax.bar(np.arange(len(df.drop('Y',axis=1).columns)), clf.feature_importances_, width, \n",
    "           color='r', edgecolor='k')\n",
    "    ax.set_xticks(np.arange(len(clf.feature_importances_)))\n",
    "    ax.set_xticklabels(df.drop('Y',axis=1).columns.values, rotation = 90, size=15)\n",
    "    ax.set_ylabel(\"Feature's Information Gain\", size=14)\n",
    "    plt.show()\n",
    "\n",
    "    d = {}\n",
    "    for i in range(len(df.drop('Y',axis=1).columns)):\n",
    "        d[df.drop('Y',axis=1).columns[i]]=format(clf.feature_importances_[i], '.3f')\n",
    "    print('Features by Importance (Information gain or decrease in entropy)')\n",
    "\n",
    "    return sorted(d.items(), key=lambda x: x[1], reverse=True)\n",
    "    \n"
   ]
  },
  {
   "cell_type": "code",
   "execution_count": 59,
   "metadata": {
    "scrolled": true
   },
   "outputs": [
    {
     "name": "stdout",
     "output_type": "stream",
     "text": [
      "Feature Importance for DT trained on the whole CFPB dataset. Depth=10.\n"
     ]
    },
    {
     "data": {
      "image/png": "[encoded data removed]",
      "text/plain": [
       "<Figure size 720x432 with 1 Axes>"
      ]
     },
     "metadata": {
      "needs_background": "light"
     },
     "output_type": "display_data"
    },
    {
     "name": "stdout",
     "output_type": "stream",
     "text": [
      "Features by Importance (Information gain or decrease in entropy)\n"
     ]
    },
    {
     "data": {
      "text/plain": [
       "[('Issue', '0.423'),\n",
       " ('Company', '0.213'),\n",
       " ('Month', '0.126'),\n",
       " ('Year', '0.123'),\n",
       " ('State', '0.064'),\n",
       " ('Submitted via', '0.027'),\n",
       " ('Tags', '0.010'),\n",
       " ('Consumer consent provided?', '0.007'),\n",
       " ('Is_narrative', '0.005'),\n",
       " ('Timely response?', '0.001')]"
      ]
     },
     "execution_count": 59,
     "metadata": {},
     "output_type": "execute_result"
    }
   ],
   "source": [
    "print(\"Feature Importance for DT trained on the whole CFPB dataset. Depth=10.\")\n",
    "feature_importance(clf, df_encoded[X+['Y']])\n"
   ]
  },
  {
   "cell_type": "markdown",
   "metadata": {},
   "source": [
    "The decision tree results show that Issue is indeed a very important predictor of monetary relief, followed by Company, Month, Year, and State. \n",
    "\n",
    "Note that variable Issue continues to be the most important predictor in trees with length between 1 and 14. Things start to shift a bit, most likely due to extra noise, when we allow the decision tree grow longer (i.e., overfitting becomes a bigger concern).\n",
    "\n",
    "\n"
   ]
  },
  {
   "cell_type": "markdown",
   "metadata": {},
   "source": [
    "**Next,** I drop redundant variables and save the file to be used in the next IPython Notebook, where I run regularized logistic regression.\n",
    "\n",
    "\n",
    "- As was mentioned above, I decided to keep 'Date received' and drop 'Date sent to company.'\n",
    "\n",
    "\n",
    "- Whether the consumer disputed the company's resolution is reported in 'Consumer disputed?' variable (Yes/No). Since it captures information that occured following the complaint resolution (post-outcome), it is a so called leakage variable and I drop it. Same for 'Company public response.'\n",
    "\n",
    "\n",
    "- Drop redundant or re-coded variables such as:\n",
    "\n",
    "    - 'Sub-product' & 'Sub-issue' (all nulls)\n",
    "    - 'Complaint ID', 'ZIP code', 'Timely response?' (not used)\n",
    "    - 'Product' (one value since we consider credit cards only)\n",
    "    - 'Issue', 'Company', 'Date received', 'Consumer complaint narrative', 'Tags', 'Consumer   consent provided?', 'Submitted via', 'Timely response?'  (re-coded) "
   ]
  },
  {
   "cell_type": "code",
   "execution_count": 60,
   "metadata": {},
   "outputs": [],
   "source": [
    "# Drop redundant or recoded variables\n",
    "df = df.drop(columns = ['Sub-product', 'Sub-issue', 'Company', 'Issue', 'Issue_recoded',\n",
    "                        'Complaint ID', 'Product', 'Date sent to company',\n",
    "                        'Consumer complaint narrative', 'State', 'State_recoded', 'Tags',\n",
    "                        'Consumer consent provided?', 'Submitted via',\n",
    "                        'Date received', 'Year', 'Month', '_merge',\n",
    "                        'Company_recoded', 'Timely response?',\n",
    "                        'ZIP code', 'Company public response',\n",
    "                        'Consumer disputed?'], axis =1)\n"
   ]
  },
  {
   "cell_type": "code",
   "execution_count": 68,
   "metadata": {},
   "outputs": [
    {
     "data": {
      "text/plain": [
       "Index(['Y', 'APR or interest rate', 'Advertising and marketing',\n",
       "       'Billing disputes', 'Billing statement', 'Closing/Cancelling account',\n",
       "       'Credit card protection / Debt protection', 'Credit determination',\n",
       "       'Credit line increase/decrease',\n",
       "       'Customer service / Customer relations', 'Delinquent account',\n",
       "       'Identity theft / Fraud / Embezzlement', 'Issues - Other groupped',\n",
       "       'Late fee', 'Other fee', 'Payoff process', 'Rewards',\n",
       "       'Transaction issue', 'Unsolicited issuance of credit card',\n",
       "       'Is_narrative', 'AZ', 'CA', 'FL', 'GA', 'IL', 'MA', 'MD', 'MI', 'NC',\n",
       "       'NJ', 'NY', 'OH', 'PA', 'TX', 'VA', 'Older American',\n",
       "       'Consent provided', 'Submitted_Web', 'Submitted_Phone',\n",
       "       'Submitted_Referral', '2013', '2014', '2015', '2016', '2017', '01',\n",
       "       '02', '03', '05', '06', '07', '08', '09', '10', '11', '12',\n",
       "       'unemployment_rate', 'Commutes_to_work_drives_alone',\n",
       "       'Mean_travel_time', 'Median_household_income', 'percent_with_earnings',\n",
       "       'percent_civil_pop_without_health_ins',\n",
       "       'percent_below_poverty_families', 'median_age', 'age_0_19',\n",
       "       'age_65_plus', 'ACS_missing'],\n",
       "      dtype='object')"
      ]
     },
     "execution_count": 68,
     "metadata": {},
     "output_type": "execute_result"
    }
   ],
   "source": [
    "# List columns (variables)\n",
    "df.columns"
   ]
  },
  {
   "cell_type": "code",
   "execution_count": 70,
   "metadata": {},
   "outputs": [],
   "source": [
    "# Save the final dataset and continue working in the next Ipython Notebook, where I identify\n",
    "# the best regularized logitistic model\n",
    "with open(directory+'df.pickle', 'wb') as handle:\n",
    "    pickle.dump(df, handle, protocol=pickle.HIGHEST_PROTOCOL)\n",
    "    \n",
    "# to open, use this command:\n",
    "# df = pd.read_pickle(directory+\"df.pickle\")"
   ]
  },
  {
   "cell_type": "markdown",
   "metadata": {},
   "source": [
    "Continue to IPython Notebook #2"
   ]
  }
 ],
 "metadata": {
  "anaconda-cloud": {},
  "kernelspec": {
   "display_name": "Python [default]",
   "language": "python",
   "name": "python3"
  },
  "language_info": {
   "codemirror_mode": {
    "name": "ipython",
    "version": 3
   },
   "file_extension": ".py",
   "mimetype": "text/x-python",
   "name": "python",
   "nbconvert_exporter": "python",
   "pygments_lexer": "ipython3",
   "version": "3.5.6"
  }
 },
 "nbformat": 4,
 "nbformat_minor": 1
}
