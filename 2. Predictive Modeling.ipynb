{
 "cells": [
  {
   "cell_type": "markdown",
   "metadata": {},
   "source": [
    "Zhanna Zhanabekova"
   ]
  },
  {
   "cell_type": "markdown",
   "metadata": {},
   "source": [
    "IPython Notebook #2 of 3: (Preliminary) Modeling - Regularized Logistic Regression & Decision Tree"
   ]
  },
  {
   "cell_type": "markdown",
   "metadata": {},
   "source": [
    "**The goal of this project** is to predict the outcome of credit card-related consumer complaints filed with the Consumer Financial Protection Bureau (CFPB). Here, an outcome could result in monetary relief or be settled otherwise."
   ]
  },
  {
   "cell_type": "code",
   "execution_count": 107,
   "metadata": {
    "scrolled": true
   },
   "outputs": [
    {
     "name": "stdout",
     "output_type": "stream",
     "text": [
      "The autoreload extension is already loaded. To reload it, use:\n",
      "  %reload_ext autoreload\n"
     ]
    }
   ],
   "source": [
    "# Import useful packages\n",
    "%load_ext autoreload\n",
    "%autoreload 2\n",
    "%reload_ext autoreload\n",
    "\n",
    "import os\n",
    "import pandas as pd\n",
    "import numpy as np\n",
    "import csv\n",
    "import pickle\n",
    "from sklearn import preprocessing\n",
    "from sklearn.tree import DecisionTreeClassifier\n",
    "from sklearn import metrics\n",
    "from sklearn.metrics import confusion_matrix\n",
    "\n",
    "from sklearn.metrics import confusion_matrix, roc_auc_score\n",
    "from sklearn import linear_model\n",
    "from sklearn.linear_model import LogisticRegression\n",
    "import statsmodels.api as sm\n",
    "\n",
    "import matplotlib\n",
    "import matplotlib.pyplot as plt\n",
    "%matplotlib inline\n",
    "\n",
    "import df_processing as p  # contains functions to clean up and transform original CFPB data \n",
    "import functions as f"
   ]
  },
  {
   "cell_type": "code",
   "execution_count": 22,
   "metadata": {
    "scrolled": true
   },
   "outputs": [
    {
     "data": {
      "text/plain": [
       "(84575, 76)"
      ]
     },
     "execution_count": 22,
     "metadata": {},
     "output_type": "execute_result"
    }
   ],
   "source": [
    "# Load the cleaned CFPB data\n",
    "directory = os.getcwd() + '/Data/'\n",
    "df = pd.read_pickle(directory+\"df.pickle\")\n",
    "# Print size of the file\n",
    "df.shape"
   ]
  },
  {
   "cell_type": "code",
   "execution_count": 23,
   "metadata": {
    "scrolled": false
   },
   "outputs": [
    {
     "data": {
      "text/plain": [
       "Index(['Y', 'Issue_APR or interest rate', 'Issue_Advertising and marketing',\n",
       "       'Issue_Billing disputes', 'Issue_Billing statement',\n",
       "       'Issue_Closing/Cancelling account',\n",
       "       'Issue_Credit card protection / Debt protection',\n",
       "       'Issue_Credit determination', 'Issue_Credit line increase/decrease',\n",
       "       'Issue_Customer service / Customer relations',\n",
       "       'Issue_Delinquent account',\n",
       "       'Issue_Identity theft / Fraud / Embezzlement', 'Issue_Late fee',\n",
       "       'Issue_Other fee', 'Issue_Other groupped', 'Issue_Payoff process',\n",
       "       'Issue_Rewards', 'Issue_Transaction issue',\n",
       "       'Issue_Unsolicited issuance of credit card', 'Is_narrative',\n",
       "       'Company_Amex', 'Company_Bank of America', 'Company_Barclays PLC',\n",
       "       'Company_Capital One', 'Company_Citibank', 'Company_Discover',\n",
       "       'Company_JPMorgan Chase & Co.', 'Company_Synchrony Financial',\n",
       "       'Company_U.S. Bancorp', 'Company_Wells Fargo & Company', 'State_AZ',\n",
       "       'State_CA', 'State_FL', 'State_GA', 'State_IL', 'State_MA', 'State_MD',\n",
       "       'State_MI', 'State_NC', 'State_NJ', 'State_NY', 'State_OH', 'State_PA',\n",
       "       'State_TX', 'State_VA', 'Older American', 'Submitted_Web',\n",
       "       'Submitted_Phone', 'Submitted_Referral', 'Year_2013', 'Year_2014',\n",
       "       'Year_2015', 'Year_2016', 'Year_2017', 'Month_01', 'Month_02',\n",
       "       'Month_03', 'Month_05', 'Month_06', 'Month_07', 'Month_08', 'Month_09',\n",
       "       'Month_10', 'Month_11', 'Month_12', 'unemployment_rate',\n",
       "       'Commutes_to_work_drives_alone', 'Mean_travel_time',\n",
       "       'Median_household_income', 'percent_with_earnings',\n",
       "       'percent_civil_pop_without_health_ins',\n",
       "       'percent_below_poverty_families', 'median_age', 'age_0_19',\n",
       "       'age_65_plus', 'ACS_missing'],\n",
       "      dtype='object')"
      ]
     },
     "execution_count": 23,
     "metadata": {},
     "output_type": "execute_result"
    }
   ],
   "source": [
    "# List columns\n",
    "df.columns"
   ]
  },
  {
   "cell_type": "markdown",
   "metadata": {},
   "source": [
    "**Recap of variables:**\n",
    "\n",
    "- Outcome Y = 1 if a credit card complaint to the CFPB was resolved with monetary relief, and 0 otherwise.\n",
    "\n",
    "\n",
    "- \"APR or interest rate\" to \"Unsolicited issuance of credit card\" (with prefix \"Issue_\") are 18 recoded Issue dummy variables, based on original 32 Issue categories + the baseline category \"Other.\"\n",
    "\n",
    "\n",
    "- \"Is_narrative\" = 1 when a complaint includes complainant's comments, and 0 otherwise. Potentially, one could apply NLP modeling to these narratives.\n",
    "\n",
    "\n",
    "- \"Amex\" to \"Wells Fargo & Company\" (with prefix \"Company_\") are 10 Company dummies. The excluded category is a higher-level Company grouping.\n",
    "\n",
    "\n",
    "- \"AZ\" to \"VA\" (with prefix \"State_\") are 15 U.S. states. The excluded category is a higher-level grouping of states and territories, including missing values.\n",
    "\n",
    "\n",
    "- \"Older American\" = 1 whenever variable Tags identifies a complainant as such, and 0 otherwise (\"Older American, Servicemember\", \"Servicemember\", or nulls).\n",
    "\n",
    "\n",
    "- \"Consent provided\" = 1 if a complainant agreed to share the contents of his/her complaint publicly, and 0 otherwise.\n",
    "\n",
    "\n",
    "- Three submission method dummy variables - \"Submitted_Web,\" \"Submitted_Phone,\" and \"Submitted_Referral.\" The excluded category is submissions via mail, email, and fax. \n",
    "\n",
    "\n",
    "- The remaining variables include yearly dummies 2013-2017 (the excluded year is 2012), monthly dummies (the excluded month is April), socio-economic variables from the American Community Survey (ACS), and a dummy for zip codes in the CFPB dataset that could not be matched to ACS data."
   ]
  },
  {
   "cell_type": "markdown",
   "metadata": {},
   "source": [
    "### Create train, validation, and test sets"
   ]
  },
  {
   "cell_type": "code",
   "execution_count": 24,
   "metadata": {
    "scrolled": true
   },
   "outputs": [
    {
     "name": "stdout",
     "output_type": "stream",
     "text": [
      "Size of train, valid, and test files:  (50745, 78) (16915, 78) (16915, 78)\n"
     ]
    }
   ],
   "source": [
    "# Take natural log of ACS's household median income (more on this below)\n",
    "df['ln_median_income'] = np.log(df.Median_household_income)\n",
    "\n",
    "# Add a constant term to df\n",
    "df = sm.add_constant(df)\n",
    "#ref: http://geekwentfreak.com/posts/stats/statsmodels_add_constant\n",
    "\n",
    "#Create train, validation, and test sets \n",
    "train = df.sample(frac=0.6,replace = False, random_state=200)\n",
    "temp = df.drop(train.index)\n",
    "valid = temp.sample(frac=0.5,replace = False, random_state=100)\n",
    "test = temp.drop(valid.index)\n",
    "print(\"Size of train, valid, and test files: \", train.shape, valid.shape, test.shape)"
   ]
  },
  {
   "cell_type": "markdown",
   "metadata": {},
   "source": [
    "### 1. Unregularized logistic regression using \"as is\" ACS variables (except log-transformed median household income)"
   ]
  },
  {
   "cell_type": "markdown",
   "metadata": {},
   "source": [
    "I use statsmodels.api to fit a logistic regression model to train data. Unlike the sklearn logistic regression package, statsmodels.api allows us to examine the statistical significance of estimated coefficients."
   ]
  },
  {
   "cell_type": "code",
   "execution_count": 25,
   "metadata": {
    "scrolled": true
   },
   "outputs": [
    {
     "name": "stdout",
     "output_type": "stream",
     "text": [
      "Optimization terminated successfully.\n",
      "         Current function value: 0.458000\n",
      "         Iterations 8\n"
     ]
    }
   ],
   "source": [
    "# Fit the logistic regression to train data (un-preprocessed)\n",
    "logit_base = sm.Logit(train['Y'], train.drop(['Y', 'Median_household_income'], axis=1)) \n",
    "# include ln(Median household income) instead of Median household income\n",
    "logit_base = logit_base.fit()\n",
    "\n",
    "# Examine the fitted model's parameters\n",
    "#logit_sm_base.summary()"
   ]
  },
  {
   "cell_type": "code",
   "execution_count": 125,
   "metadata": {
    "scrolled": false
   },
   "outputs": [
    {
     "name": "stdout",
     "output_type": "stream",
     "text": [
      "# of coefficients with p-value of 0.05 or less:  44\n",
      "# of coefficients with p-value of 0.01 or less:  38\n"
     ]
    },
    {
     "data": {
      "text/html": [
       "<div>\n",
       "<style scoped>\n",
       "    .dataframe tbody tr th:only-of-type {\n",
       "        vertical-align: middle;\n",
       "    }\n",
       "\n",
       "    .dataframe tbody tr th {\n",
       "        vertical-align: top;\n",
       "    }\n",
       "\n",
       "    .dataframe thead th {\n",
       "        text-align: right;\n",
       "    }\n",
       "</style>\n",
       "<table border=\"1\" class=\"dataframe\">\n",
       "  <thead>\n",
       "    <tr style=\"text-align: right;\">\n",
       "      <th></th>\n",
       "      <th>coef</th>\n",
       "      <th>pvalue</th>\n",
       "    </tr>\n",
       "  </thead>\n",
       "  <tbody>\n",
       "    <tr>\n",
       "      <th>Issue_Late fee</th>\n",
       "      <td>2.109</td>\n",
       "      <td>0.000</td>\n",
       "    </tr>\n",
       "    <tr>\n",
       "      <th>Issue_Other fee</th>\n",
       "      <td>1.880</td>\n",
       "      <td>0.000</td>\n",
       "    </tr>\n",
       "    <tr>\n",
       "      <th>Issue_Billing disputes</th>\n",
       "      <td>1.179</td>\n",
       "      <td>0.000</td>\n",
       "    </tr>\n",
       "    <tr>\n",
       "      <th>Company_Citibank</th>\n",
       "      <td>0.960</td>\n",
       "      <td>0.000</td>\n",
       "    </tr>\n",
       "    <tr>\n",
       "      <th>Issue_Billing statement</th>\n",
       "      <td>0.957</td>\n",
       "      <td>0.000</td>\n",
       "    </tr>\n",
       "    <tr>\n",
       "      <th>Issue_Transaction issue</th>\n",
       "      <td>0.952</td>\n",
       "      <td>0.000</td>\n",
       "    </tr>\n",
       "    <tr>\n",
       "      <th>Issue_APR or interest rate</th>\n",
       "      <td>0.941</td>\n",
       "      <td>0.000</td>\n",
       "    </tr>\n",
       "    <tr>\n",
       "      <th>Issue_Credit card protection / Debt protection</th>\n",
       "      <td>0.899</td>\n",
       "      <td>0.000</td>\n",
       "    </tr>\n",
       "    <tr>\n",
       "      <th>Company_Barclays PLC</th>\n",
       "      <td>0.891</td>\n",
       "      <td>0.000</td>\n",
       "    </tr>\n",
       "    <tr>\n",
       "      <th>Company_Synchrony Financial</th>\n",
       "      <td>0.834</td>\n",
       "      <td>0.000</td>\n",
       "    </tr>\n",
       "    <tr>\n",
       "      <th>Issue_Payoff process</th>\n",
       "      <td>0.613</td>\n",
       "      <td>0.000</td>\n",
       "    </tr>\n",
       "    <tr>\n",
       "      <th>Year_2013</th>\n",
       "      <td>0.498</td>\n",
       "      <td>0.000</td>\n",
       "    </tr>\n",
       "    <tr>\n",
       "      <th>Issue_Identity theft / Fraud / Embezzlement</th>\n",
       "      <td>0.407</td>\n",
       "      <td>0.000</td>\n",
       "    </tr>\n",
       "    <tr>\n",
       "      <th>Year_2014</th>\n",
       "      <td>0.390</td>\n",
       "      <td>0.000</td>\n",
       "    </tr>\n",
       "    <tr>\n",
       "      <th>Issue_Customer service / Customer relations</th>\n",
       "      <td>0.352</td>\n",
       "      <td>0.000</td>\n",
       "    </tr>\n",
       "    <tr>\n",
       "      <th>Month_07</th>\n",
       "      <td>0.328</td>\n",
       "      <td>0.000</td>\n",
       "    </tr>\n",
       "    <tr>\n",
       "      <th>Company_Capital One</th>\n",
       "      <td>0.321</td>\n",
       "      <td>0.000</td>\n",
       "    </tr>\n",
       "    <tr>\n",
       "      <th>Issue_Rewards</th>\n",
       "      <td>0.316</td>\n",
       "      <td>0.000</td>\n",
       "    </tr>\n",
       "    <tr>\n",
       "      <th>Month_10</th>\n",
       "      <td>0.302</td>\n",
       "      <td>0.000</td>\n",
       "    </tr>\n",
       "    <tr>\n",
       "      <th>Month_08</th>\n",
       "      <td>0.269</td>\n",
       "      <td>0.000</td>\n",
       "    </tr>\n",
       "    <tr>\n",
       "      <th>Month_06</th>\n",
       "      <td>0.267</td>\n",
       "      <td>0.000</td>\n",
       "    </tr>\n",
       "    <tr>\n",
       "      <th>Submitted_Web</th>\n",
       "      <td>0.254</td>\n",
       "      <td>0.000</td>\n",
       "    </tr>\n",
       "    <tr>\n",
       "      <th>Company_Discover</th>\n",
       "      <td>0.252</td>\n",
       "      <td>0.000</td>\n",
       "    </tr>\n",
       "    <tr>\n",
       "      <th>Month_09</th>\n",
       "      <td>0.248</td>\n",
       "      <td>0.000</td>\n",
       "    </tr>\n",
       "    <tr>\n",
       "      <th>Year_2017</th>\n",
       "      <td>0.247</td>\n",
       "      <td>0.000</td>\n",
       "    </tr>\n",
       "    <tr>\n",
       "      <th>Issue_Other groupped</th>\n",
       "      <td>0.230</td>\n",
       "      <td>0.000</td>\n",
       "    </tr>\n",
       "    <tr>\n",
       "      <th>Month_11</th>\n",
       "      <td>0.192</td>\n",
       "      <td>0.001</td>\n",
       "    </tr>\n",
       "    <tr>\n",
       "      <th>Month_12</th>\n",
       "      <td>0.187</td>\n",
       "      <td>0.002</td>\n",
       "    </tr>\n",
       "    <tr>\n",
       "      <th>Company_Amex</th>\n",
       "      <td>0.179</td>\n",
       "      <td>0.003</td>\n",
       "    </tr>\n",
       "    <tr>\n",
       "      <th>Year_2016</th>\n",
       "      <td>0.179</td>\n",
       "      <td>0.000</td>\n",
       "    </tr>\n",
       "    <tr>\n",
       "      <th>Is_narrative</th>\n",
       "      <td>0.176</td>\n",
       "      <td>0.007</td>\n",
       "    </tr>\n",
       "    <tr>\n",
       "      <th>Issue_Closing/Cancelling account</th>\n",
       "      <td>0.174</td>\n",
       "      <td>0.007</td>\n",
       "    </tr>\n",
       "    <tr>\n",
       "      <th>Year_2015</th>\n",
       "      <td>0.161</td>\n",
       "      <td>0.000</td>\n",
       "    </tr>\n",
       "    <tr>\n",
       "      <th>Older American</th>\n",
       "      <td>0.155</td>\n",
       "      <td>0.000</td>\n",
       "    </tr>\n",
       "    <tr>\n",
       "      <th>Month_05</th>\n",
       "      <td>0.136</td>\n",
       "      <td>0.024</td>\n",
       "    </tr>\n",
       "    <tr>\n",
       "      <th>Submitted_Referral</th>\n",
       "      <td>0.124</td>\n",
       "      <td>0.027</td>\n",
       "    </tr>\n",
       "    <tr>\n",
       "      <th>unemployment_rate</th>\n",
       "      <td>-0.015</td>\n",
       "      <td>0.009</td>\n",
       "    </tr>\n",
       "    <tr>\n",
       "      <th>State_NY</th>\n",
       "      <td>-0.107</td>\n",
       "      <td>0.039</td>\n",
       "    </tr>\n",
       "    <tr>\n",
       "      <th>State_TX</th>\n",
       "      <td>-0.147</td>\n",
       "      <td>0.007</td>\n",
       "    </tr>\n",
       "    <tr>\n",
       "      <th>State_MD</th>\n",
       "      <td>-0.164</td>\n",
       "      <td>0.028</td>\n",
       "    </tr>\n",
       "    <tr>\n",
       "      <th>Issue_Unsolicited issuance of credit card</th>\n",
       "      <td>-0.290</td>\n",
       "      <td>0.010</td>\n",
       "    </tr>\n",
       "    <tr>\n",
       "      <th>Issue_Credit line increase/decrease</th>\n",
       "      <td>-0.937</td>\n",
       "      <td>0.000</td>\n",
       "    </tr>\n",
       "    <tr>\n",
       "      <th>const</th>\n",
       "      <td>-1.764</td>\n",
       "      <td>0.046</td>\n",
       "    </tr>\n",
       "    <tr>\n",
       "      <th>Issue_Credit determination</th>\n",
       "      <td>-1.854</td>\n",
       "      <td>0.000</td>\n",
       "    </tr>\n",
       "  </tbody>\n",
       "</table>\n",
       "</div>"
      ],
      "text/plain": [
       "                                                 coef  pvalue\n",
       "Issue_Late fee                                  2.109   0.000\n",
       "Issue_Other fee                                 1.880   0.000\n",
       "Issue_Billing disputes                          1.179   0.000\n",
       "Company_Citibank                                0.960   0.000\n",
       "Issue_Billing statement                         0.957   0.000\n",
       "Issue_Transaction issue                         0.952   0.000\n",
       "Issue_APR or interest rate                      0.941   0.000\n",
       "Issue_Credit card protection / Debt protection  0.899   0.000\n",
       "Company_Barclays PLC                            0.891   0.000\n",
       "Company_Synchrony Financial                     0.834   0.000\n",
       "Issue_Payoff process                            0.613   0.000\n",
       "Year_2013                                       0.498   0.000\n",
       "Issue_Identity theft / Fraud / Embezzlement     0.407   0.000\n",
       "Year_2014                                       0.390   0.000\n",
       "Issue_Customer service / Customer relations     0.352   0.000\n",
       "Month_07                                        0.328   0.000\n",
       "Company_Capital One                             0.321   0.000\n",
       "Issue_Rewards                                   0.316   0.000\n",
       "Month_10                                        0.302   0.000\n",
       "Month_08                                        0.269   0.000\n",
       "Month_06                                        0.267   0.000\n",
       "Submitted_Web                                   0.254   0.000\n",
       "Company_Discover                                0.252   0.000\n",
       "Month_09                                        0.248   0.000\n",
       "Year_2017                                       0.247   0.000\n",
       "Issue_Other groupped                            0.230   0.000\n",
       "Month_11                                        0.192   0.001\n",
       "Month_12                                        0.187   0.002\n",
       "Company_Amex                                    0.179   0.003\n",
       "Year_2016                                       0.179   0.000\n",
       "Is_narrative                                    0.176   0.007\n",
       "Issue_Closing/Cancelling account                0.174   0.007\n",
       "Year_2015                                       0.161   0.000\n",
       "Older American                                  0.155   0.000\n",
       "Month_05                                        0.136   0.024\n",
       "Submitted_Referral                              0.124   0.027\n",
       "unemployment_rate                              -0.015   0.009\n",
       "State_NY                                       -0.107   0.039\n",
       "State_TX                                       -0.147   0.007\n",
       "State_MD                                       -0.164   0.028\n",
       "Issue_Unsolicited issuance of credit card      -0.290   0.010\n",
       "Issue_Credit line increase/decrease            -0.937   0.000\n",
       "const                                          -1.764   0.046\n",
       "Issue_Credit determination                     -1.854   0.000"
      ]
     },
     "execution_count": 125,
     "metadata": {},
     "output_type": "execute_result"
    }
   ],
   "source": [
    "# Analyze estimated coefficients significant at least at 5% level\n",
    "pd.options.display.float_format = '{:,.3f}'.format\n",
    "results =   pd.concat([pd.DataFrame(logit_base.params,columns=['coef']),\\\n",
    "            pd.DataFrame(logit_base.pvalues, columns=['pvalue'])], axis=1)\n",
    "print('# of coefficients with p-value of 0.05 or less: ', \n",
    "            results[results.pvalue <= 0.05].shape[0])\n",
    "print('# of coefficients with p-value of 0.01 or less: ', \n",
    "            results[results.pvalue <= 0.01].shape[0])\n",
    "results[results.pvalue <= 0.05].sort_values(by = 'coef', ascending = False)\n",
    "        "
   ]
  },
  {
   "cell_type": "code",
   "execution_count": 27,
   "metadata": {
    "scrolled": false
   },
   "outputs": [
    {
     "name": "stdout",
     "output_type": "stream",
     "text": [
      "# of coefficients with p-value of greater than 0.05:  32\n"
     ]
    },
    {
     "data": {
      "text/html": [
       "<div>\n",
       "<style scoped>\n",
       "    .dataframe tbody tr th:only-of-type {\n",
       "        vertical-align: middle;\n",
       "    }\n",
       "\n",
       "    .dataframe tbody tr th {\n",
       "        vertical-align: top;\n",
       "    }\n",
       "\n",
       "    .dataframe thead th {\n",
       "        text-align: right;\n",
       "    }\n",
       "</style>\n",
       "<table border=\"1\" class=\"dataframe\">\n",
       "  <thead>\n",
       "    <tr style=\"text-align: right;\">\n",
       "      <th></th>\n",
       "      <th>coef</th>\n",
       "      <th>pvalue</th>\n",
       "    </tr>\n",
       "  </thead>\n",
       "  <tbody>\n",
       "    <tr>\n",
       "      <th>Company_Wells Fargo &amp; Company</th>\n",
       "      <td>0.080</td>\n",
       "      <td>0.256</td>\n",
       "    </tr>\n",
       "    <tr>\n",
       "      <th>Month_02</th>\n",
       "      <td>0.062</td>\n",
       "      <td>0.294</td>\n",
       "    </tr>\n",
       "    <tr>\n",
       "      <th>State_OH</th>\n",
       "      <td>0.061</td>\n",
       "      <td>0.349</td>\n",
       "    </tr>\n",
       "    <tr>\n",
       "      <th>Submitted_Phone</th>\n",
       "      <td>0.041</td>\n",
       "      <td>0.523</td>\n",
       "    </tr>\n",
       "    <tr>\n",
       "      <th>State_MI</th>\n",
       "      <td>0.040</td>\n",
       "      <td>0.624</td>\n",
       "    </tr>\n",
       "    <tr>\n",
       "      <th>Company_U.S. Bancorp</th>\n",
       "      <td>0.040</td>\n",
       "      <td>0.643</td>\n",
       "    </tr>\n",
       "    <tr>\n",
       "      <th>Month_01</th>\n",
       "      <td>0.036</td>\n",
       "      <td>0.550</td>\n",
       "    </tr>\n",
       "    <tr>\n",
       "      <th>median_age</th>\n",
       "      <td>0.003</td>\n",
       "      <td>0.654</td>\n",
       "    </tr>\n",
       "    <tr>\n",
       "      <th>percent_civil_pop_without_health_ins</th>\n",
       "      <td>0.002</td>\n",
       "      <td>0.502</td>\n",
       "    </tr>\n",
       "    <tr>\n",
       "      <th>Mean_travel_time</th>\n",
       "      <td>0.002</td>\n",
       "      <td>0.573</td>\n",
       "    </tr>\n",
       "    <tr>\n",
       "      <th>percent_with_earnings</th>\n",
       "      <td>0.001</td>\n",
       "      <td>0.776</td>\n",
       "    </tr>\n",
       "    <tr>\n",
       "      <th>age_0_19</th>\n",
       "      <td>0.001</td>\n",
       "      <td>0.784</td>\n",
       "    </tr>\n",
       "    <tr>\n",
       "      <th>Commutes_to_work_drives_alone</th>\n",
       "      <td>-0.001</td>\n",
       "      <td>0.547</td>\n",
       "    </tr>\n",
       "    <tr>\n",
       "      <th>age_65_plus</th>\n",
       "      <td>-0.002</td>\n",
       "      <td>0.704</td>\n",
       "    </tr>\n",
       "    <tr>\n",
       "      <th>Issue_Delinquent account</th>\n",
       "      <td>-0.005</td>\n",
       "      <td>0.949</td>\n",
       "    </tr>\n",
       "    <tr>\n",
       "      <th>percent_below_poverty_families</th>\n",
       "      <td>-0.006</td>\n",
       "      <td>0.171</td>\n",
       "    </tr>\n",
       "    <tr>\n",
       "      <th>State_CA</th>\n",
       "      <td>-0.008</td>\n",
       "      <td>0.840</td>\n",
       "    </tr>\n",
       "    <tr>\n",
       "      <th>Month_03</th>\n",
       "      <td>-0.008</td>\n",
       "      <td>0.887</td>\n",
       "    </tr>\n",
       "    <tr>\n",
       "      <th>ACS_missing</th>\n",
       "      <td>-0.023</td>\n",
       "      <td>0.700</td>\n",
       "    </tr>\n",
       "    <tr>\n",
       "      <th>State_IL</th>\n",
       "      <td>-0.023</td>\n",
       "      <td>0.729</td>\n",
       "    </tr>\n",
       "    <tr>\n",
       "      <th>State_VA</th>\n",
       "      <td>-0.028</td>\n",
       "      <td>0.689</td>\n",
       "    </tr>\n",
       "    <tr>\n",
       "      <th>Company_JPMorgan Chase &amp; Co.</th>\n",
       "      <td>-0.036</td>\n",
       "      <td>0.508</td>\n",
       "    </tr>\n",
       "    <tr>\n",
       "      <th>State_MA</th>\n",
       "      <td>-0.043</td>\n",
       "      <td>0.587</td>\n",
       "    </tr>\n",
       "    <tr>\n",
       "      <th>State_FL</th>\n",
       "      <td>-0.053</td>\n",
       "      <td>0.280</td>\n",
       "    </tr>\n",
       "    <tr>\n",
       "      <th>State_GA</th>\n",
       "      <td>-0.058</td>\n",
       "      <td>0.410</td>\n",
       "    </tr>\n",
       "    <tr>\n",
       "      <th>State_PA</th>\n",
       "      <td>-0.065</td>\n",
       "      <td>0.308</td>\n",
       "    </tr>\n",
       "    <tr>\n",
       "      <th>Company_Bank of America</th>\n",
       "      <td>-0.065</td>\n",
       "      <td>0.245</td>\n",
       "    </tr>\n",
       "    <tr>\n",
       "      <th>State_NJ</th>\n",
       "      <td>-0.081</td>\n",
       "      <td>0.194</td>\n",
       "    </tr>\n",
       "    <tr>\n",
       "      <th>State_AZ</th>\n",
       "      <td>-0.089</td>\n",
       "      <td>0.281</td>\n",
       "    </tr>\n",
       "    <tr>\n",
       "      <th>State_NC</th>\n",
       "      <td>-0.092</td>\n",
       "      <td>0.210</td>\n",
       "    </tr>\n",
       "    <tr>\n",
       "      <th>ln_median_income</th>\n",
       "      <td>-0.114</td>\n",
       "      <td>0.189</td>\n",
       "    </tr>\n",
       "    <tr>\n",
       "      <th>Issue_Advertising and marketing</th>\n",
       "      <td>-0.167</td>\n",
       "      <td>0.063</td>\n",
       "    </tr>\n",
       "  </tbody>\n",
       "</table>\n",
       "</div>"
      ],
      "text/plain": [
       "                                       coef  pvalue\n",
       "Company_Wells Fargo & Company         0.080   0.256\n",
       "Month_02                              0.062   0.294\n",
       "State_OH                              0.061   0.349\n",
       "Submitted_Phone                       0.041   0.523\n",
       "State_MI                              0.040   0.624\n",
       "Company_U.S. Bancorp                  0.040   0.643\n",
       "Month_01                              0.036   0.550\n",
       "median_age                            0.003   0.654\n",
       "percent_civil_pop_without_health_ins  0.002   0.502\n",
       "Mean_travel_time                      0.002   0.573\n",
       "percent_with_earnings                 0.001   0.776\n",
       "age_0_19                              0.001   0.784\n",
       "Commutes_to_work_drives_alone        -0.001   0.547\n",
       "age_65_plus                          -0.002   0.704\n",
       "Issue_Delinquent account             -0.005   0.949\n",
       "percent_below_poverty_families       -0.006   0.171\n",
       "State_CA                             -0.008   0.840\n",
       "Month_03                             -0.008   0.887\n",
       "ACS_missing                          -0.023   0.700\n",
       "State_IL                             -0.023   0.729\n",
       "State_VA                             -0.028   0.689\n",
       "Company_JPMorgan Chase & Co.         -0.036   0.508\n",
       "State_MA                             -0.043   0.587\n",
       "State_FL                             -0.053   0.280\n",
       "State_GA                             -0.058   0.410\n",
       "State_PA                             -0.065   0.308\n",
       "Company_Bank of America              -0.065   0.245\n",
       "State_NJ                             -0.081   0.194\n",
       "State_AZ                             -0.089   0.281\n",
       "State_NC                             -0.092   0.210\n",
       "ln_median_income                     -0.114   0.189\n",
       "Issue_Advertising and marketing      -0.167   0.063"
      ]
     },
     "execution_count": 27,
     "metadata": {},
     "output_type": "execute_result"
    }
   ],
   "source": [
    "# Take a look at statistically insignificant coefficient estimates (alpha > 0.05)\n",
    "print('# of coefficients with p-value of greater than 0.05: ', \n",
    "            results[results.pvalue > 0.05].shape[0])\n",
    "results[results.pvalue > 0.05].sort_values(by = 'coef', ascending = False)\n"
   ]
  },
  {
   "cell_type": "code",
   "execution_count": 127,
   "metadata": {
    "scrolled": true
   },
   "outputs": [
    {
     "name": "stdout",
     "output_type": "stream",
     "text": [
      "alpha <= 0.05: \n",
      "mean of abs coefficients 0.542, median 0.296\n",
      "\n",
      "alpha > 0.05: \n",
      "mean of abs coefficients 0.042, median 0.038\n",
      "\n"
     ]
    }
   ],
   "source": [
    "# Examine the average and median size of abs value of stats significant and insignificant coefficients\n",
    "print('alpha <= 0.05: ')\n",
    "print('mean of abs coefficients {}, median {}'.format(format(abs(results[results.pvalue <= 0.05].coef).mean(), '.3f'), \n",
    "            format(abs(results[results.pvalue <= 0.05].coef).median(), '.3f')))\n",
    "print()\n",
    "\n",
    "print('alpha > 0.05: ')\n",
    "print('mean of abs coefficients {}, median {}'.format(format(abs(results[results.pvalue > 0.05].coef).mean(), '.3f'), \n",
    "            format(abs(results[results.pvalue > 0.05].coef).median(), '.3f')))\n",
    "print()\n"
   ]
  },
  {
   "cell_type": "markdown",
   "metadata": {},
   "source": [
    "### **1.1 Unregularized logit. Comment on estimated coefficients:**\n",
    "\n",
    "To understand what factors are associated with (but don't necessarily cause!) monetary relief in credit card complaints, I examine the **coefficient estimates that are significant at least at the 5% level.** Consistent with my exploratory analysis in IPython Notebook #1, complaints related to fees, billing, transaction issues, and interest rates are more likely to be associated with a **positive** outcome than complaints in the baseline \"Issue_Other\" category and complaints regarding issues such as credit determination, credit line increase/decrease, or unsolicited issuance of credit cards that are more likely to result in non-monetary relief. \n",
    "\n",
    "\n",
    "Similarly, Citibank, Barclays, and Synchrony are more likely to offer monetary relief than the groupped (smaller) companies in the baseline category. The likelihood of a positive outcome was higher in years 2013 and 2014 relative to 2012 (baseline year) and in July relative to April (baseline month). \n",
    "\n",
    "In fact, if you look closely, the ordering of statistically significant coefficients shown above is essentially the same as the ordering of categories of variables 'Issue' and 'Company' by the % of positive outcomes reported in IPython Notebook #1 (marked as Tables 1 and 2). That reflects the nature of regressions with dummy variables where an estimated coefficient captures the incremental effect of a category encoded by the dummy relative to the baseline (reflected in the coefficient on the constant term).\n",
    "\n",
    "The probability of a **negative** outcome is higher in states with higher unemployment rate. Complaints originating from New York, Texas, and Maryland are less likely to be closed with monetary relief than complaints coming from smaller states and territories that I groupped in the baseline category. \n",
    "\n",
    "Finally, note that while **statistically insignificant coefficients** (e.g., on dummies for whether the consent to share info was provided, or whether complaint description was provided) do contribute to predicting the probability of Y=1, the average size of their absolute values is much smaller compared to that of statistically significant coefficients (0.042 vs 0.542, respectively). The majority of ACS variables and state dummies appear to be not as important in predicting the outcome as some of the Issue categories."
   ]
  },
  {
   "cell_type": "code",
   "execution_count": 128,
   "metadata": {},
   "outputs": [
    {
     "data": {
      "text/plain": [
       "{'base_no_preprocess': {'AUC': '0.713148',\n",
       "  'logloss_train': '0.458000',\n",
       "  'logloss_valid': '0.467460'}}"
      ]
     },
     "execution_count": 128,
     "metadata": {},
     "output_type": "execute_result"
    }
   ],
   "source": [
    "# Calculate AUC (on valid) and log-loss (on train & valid) for the fitted unregularized logit\n",
    "auc_and_logloss_results = {}\n",
    "auc_and_logloss_results = f.store_AUC_and_logloss_results(logit_base, \\\n",
    "            'base_no_preprocess', False, train, valid, \\\n",
    "            ['Y', 'Median_household_income'],auc_and_logloss_results)\n",
    "auc_and_logloss_results"
   ]
  },
  {
   "cell_type": "code",
   "execution_count": 30,
   "metadata": {
    "scrolled": true
   },
   "outputs": [
    {
     "data": {
      "text/plain": [
       "{'base_no_preprocess, threshold of 0.6': {'fpr': '0.008', 'fnr': '0.943'},\n",
       " 'base_no_preprocess, threshold of 0.55': {'fpr': '0.012', 'fnr': '0.927'},\n",
       " 'base_no_preprocess, threshold of 0.5': {'fpr': '0.021', 'fnr': '0.898'},\n",
       " 'base_no_preprocess, threshold of 0.45': {'fpr': '0.041', 'fnr': '0.836'},\n",
       " 'base_no_preprocess, threshold of 0.4': {'fpr': '0.070', 'fnr': '0.743'},\n",
       " 'base_no_preprocess, threshold of 0.35': {'fpr': '0.103', 'fnr': '0.661'},\n",
       " 'base_no_preprocess, threshold of 0.3': {'fpr': '0.150', 'fnr': '0.590'},\n",
       " 'base_no_preprocess, threshold of 0.25': {'fpr': '0.237', 'fnr': '0.473'},\n",
       " 'base_no_preprocess, threshold of 0.2': {'fpr': '0.366', 'fnr': '0.327'}}"
      ]
     },
     "execution_count": 30,
     "metadata": {},
     "output_type": "execute_result"
    }
   ],
   "source": [
    "# Calculate % of false positives and false negatives on the unregularized logit\n",
    "fpr_and_fnr_results_base = {}\n",
    "for i in  [i/100 for i in range(60,15,-5)]:\n",
    "    fpr_and_fnr_results_base = \\\n",
    "    f.store_fpr_and_fnr_results(logit_base, \\\n",
    "    'base_no_preprocess, threshold of {}'.format(i), False, \\\n",
    "    valid, ['Y', 'Median_household_income'], i, fpr_and_fnr_results_base)\n",
    "fpr_and_fnr_results_base"
   ]
  },
  {
   "cell_type": "code",
   "execution_count": 108,
   "metadata": {
    "scrolled": false
   },
   "outputs": [
    {
     "data": {
      "image/png": "[encoded data removed]",
      "text/plain": [
       "<Figure size 432x288 with 1 Axes>"
      ]
     },
     "metadata": {
      "needs_background": "light"
     },
     "output_type": "display_data"
    },
    {
     "data": {
      "image/png": "[encoded data removed]",
      "text/plain": [
       "<Figure size 432x288 with 1 Axes>"
      ]
     },
     "metadata": {
      "needs_background": "light"
     },
     "output_type": "display_data"
    }
   ],
   "source": [
    "# Plot Histograms of Predicted Probabilities when Y=1 and Y=1 using validation set\n",
    "Y_and_Y_hat = f.actual_and_predicted_values(logit_base, valid, False, \\\n",
    "              ['Y', 'Median_household_income'])\n",
    "f.predicted_proba_histograms_by_Y(Y_and_Y_hat)"
   ]
  },
  {
   "cell_type": "markdown",
   "metadata": {},
   "source": [
    "### 1.2 Unregularized logit. Comment on model performance:"
   ]
  },
  {
   "cell_type": "markdown",
   "metadata": {},
   "source": [
    "**Using training data:**\n",
    "\n",
    "The **log-loss** of unregularized logit is **0.458** (adjusted for N).  The log-loss on validation set is very close, at **0.467**. \n",
    "\n",
    "**Using validation data:**\n",
    "\n",
    "**AUC** is 0.713148.\n",
    "\n",
    "When we set the **decision threshold at 0.5**, the **false positive rate, or Pr(Type I error), or Pr(predict relief when none)** is relatively low at 0.021. But the false negative rate is quite high:\n",
    "\n",
    "**False negative rate, or Pr(Type II error), or Pr(predict no \\$ when compensation granted)** is 0.898. \n",
    "\n",
    "In short, the estimated unregularized logit model favors the negative, majority class. It fails to predict a positive label in the majority of cases with actual monetary relief with the given decision threshold. \n",
    "\n",
    "If we **lower the decision threshold to 0.2**, the false negative rate drops to 0.327 - that is, we are able to identify roughly 67\\% of all complaints with monetary relief correctly. However, we also end up with a lot of false positives - complaints that we label as settled with monetary compensation when, in reality, they were not (FPR = 0.366). \n",
    "\n",
    "Now take a look at **histograms:** \n",
    "\n",
    "- When I examine estimated probabilities for actual Y=0, the patterns looks good, meaning that the majority of predicted probabilities are less than 0.5 and are classified as Y-hat = 0. \n",
    "- For Y=1, again the bulk of estimated probabilities tend to lie **below** the 0.5 threshold, which leads to incorrect predictions of Y-hat=0. \n",
    "- **One solution** could be to lower the decision threshold from 0.5 to something smaller. This would lower the Pr(Type II error), but increase Pr(Type I error). The problem, however, is that with the current set of predictions, for us to minimize Pr(Type II error), the revised threshold would have to tend to zero, which would inflate Pr(Type I error) close to 1. The model will essentially continue being subpar.\n",
    "- So, **ideally**, we want to improve our model so that the first histogram would be skewed more to the right instead of the left - i.e., give higher probability estimates when Y=1 for the data points that are currently ranked below the decision threshold of 0.5.  \n"
   ]
  },
  {
   "cell_type": "markdown",
   "metadata": {},
   "source": [
    "Below I continue experimenting with various model enhancements to see if I can impprove its predictive power."
   ]
  },
  {
   "cell_type": "markdown",
   "metadata": {},
   "source": [
    "### 1.3 Comment on feature pre-processing "
   ]
  },
  {
   "cell_type": "markdown",
   "metadata": {},
   "source": [
    "Note that I log-transformed one of the ACS (Census) variables above: median household income. Log-transformation 'squeezes' the distribution of an otherwise skewed variable, susceptible to the influence of outliers. And, unlike in decision trees, outliers can really distort coefficient estimates in OLS and logit regression models."
   ]
  },
  {
   "cell_type": "code",
   "execution_count": 32,
   "metadata": {
    "scrolled": false
   },
   "outputs": [
    {
     "data": {
      "image/png": "[encoded data removed]",
      "text/plain": [
       "<Figure size 432x288 with 1 Axes>"
      ]
     },
     "metadata": {
      "needs_background": "light"
     },
     "output_type": "display_data"
    },
    {
     "data": {
      "image/png": "[encoded data removed]",
      "text/plain": [
       "<Figure size 432x288 with 1 Axes>"
      ]
     },
     "metadata": {
      "needs_background": "light"
     },
     "output_type": "display_data"
    }
   ],
   "source": [
    "# Plot histograms of median household income and its log transformed version\n",
    "\n",
    "# Median Household Income\n",
    "plt.hist(df['Median_household_income'])\n",
    "plt.title('Median household income (raw)')\n",
    "plt.show()\n",
    "\n",
    "# Ln(Median Household Income)\n",
    "plt.hist(df['ln_median_income'])\n",
    "plt.title('Log-transformed median household income')\n",
    "plt.show()\n",
    "\n"
   ]
  },
  {
   "cell_type": "markdown",
   "metadata": {},
   "source": [
    "The purpose of feature pre-processing is to ensure that the scale of variables included in the regression model is more or less the same. This helps minimize the risk of scenarios where estimation is dominated by a few large features. More on this here: https://scikit-learn.org/stable/modules/preprocessing.html. \n",
    "\n",
    "\n",
    "Below, I only pre-process ACS (Census) variables and do not demean and rescale dummy variables. First, dummy variables are already constrained to be either 0 or 1. Second, I also care about the interpretation of estimated coefficients on dummies, though this is not the regular practice or objective in a lot of machine learning projects. \n",
    "\n",
    "Moreover, as we will see below, preprocessing does not really change the fundamental results for as long as I do not use any higher-order polynomials. It changes coefficient estimates on the preprocessed variables and the constant term but does not affect the coefficients of unscaled dummy variables, predicted probabilities, and AUC. In addition, the logit results reported above show that coefficient estimates on un-preprocessed ACS variables are small and mostly statistically insignificant what assuages any possible concerns regarding misleading, scale-driven influence of continuous raw ACS variables relative to dummies.\n"
   ]
  },
  {
   "cell_type": "code",
   "execution_count": 33,
   "metadata": {
    "scrolled": false
   },
   "outputs": [],
   "source": [
    "# Define ACS variables\n",
    "ACS_vars = ['unemployment_rate', 'Commutes_to_work_drives_alone',\n",
    "       'Mean_travel_time', 'Median_household_income', 'percent_with_earnings',\n",
    "       'percent_civil_pop_without_health_ins',\n",
    "       'percent_below_poverty_families', 'median_age', 'age_0_19',\n",
    "       'age_65_plus', 'ln_median_income']"
   ]
  },
  {
   "cell_type": "code",
   "execution_count": 34,
   "metadata": {
    "scrolled": false
   },
   "outputs": [
    {
     "data": {
      "text/html": [
       "<div>\n",
       "<style scoped>\n",
       "    .dataframe tbody tr th:only-of-type {\n",
       "        vertical-align: middle;\n",
       "    }\n",
       "\n",
       "    .dataframe tbody tr th {\n",
       "        vertical-align: top;\n",
       "    }\n",
       "\n",
       "    .dataframe thead th {\n",
       "        text-align: right;\n",
       "    }\n",
       "</style>\n",
       "<table border=\"1\" class=\"dataframe\">\n",
       "  <thead>\n",
       "    <tr style=\"text-align: right;\">\n",
       "      <th></th>\n",
       "      <th>count</th>\n",
       "      <th>mean</th>\n",
       "      <th>std</th>\n",
       "      <th>min</th>\n",
       "      <th>25%</th>\n",
       "      <th>50%</th>\n",
       "      <th>75%</th>\n",
       "      <th>max</th>\n",
       "    </tr>\n",
       "  </thead>\n",
       "  <tbody>\n",
       "    <tr>\n",
       "      <th>unemployment_rate</th>\n",
       "      <td>84,575.000</td>\n",
       "      <td>7.942</td>\n",
       "      <td>3.344</td>\n",
       "      <td>0.000</td>\n",
       "      <td>6.000</td>\n",
       "      <td>7.942</td>\n",
       "      <td>8.600</td>\n",
       "      <td>100.000</td>\n",
       "    </tr>\n",
       "    <tr>\n",
       "      <th>Commutes_to_work_drives_alone</th>\n",
       "      <td>84,575.000</td>\n",
       "      <td>73.483</td>\n",
       "      <td>15.188</td>\n",
       "      <td>0.000</td>\n",
       "      <td>73.483</td>\n",
       "      <td>75.400</td>\n",
       "      <td>81.900</td>\n",
       "      <td>100.000</td>\n",
       "    </tr>\n",
       "    <tr>\n",
       "      <th>Mean_travel_time</th>\n",
       "      <td>84,575.000</td>\n",
       "      <td>27.106</td>\n",
       "      <td>5.528</td>\n",
       "      <td>6.300</td>\n",
       "      <td>23.700</td>\n",
       "      <td>27.106</td>\n",
       "      <td>29.400</td>\n",
       "      <td>113.500</td>\n",
       "    </tr>\n",
       "    <tr>\n",
       "      <th>Median_household_income</th>\n",
       "      <td>84,575.000</td>\n",
       "      <td>66,571.234</td>\n",
       "      <td>23,730.800</td>\n",
       "      <td>3,479.000</td>\n",
       "      <td>51,079.000</td>\n",
       "      <td>66,571.234</td>\n",
       "      <td>73,856.000</td>\n",
       "      <td>236,500.000</td>\n",
       "    </tr>\n",
       "    <tr>\n",
       "      <th>percent_with_earnings</th>\n",
       "      <td>84,575.000</td>\n",
       "      <td>79.200</td>\n",
       "      <td>7.387</td>\n",
       "      <td>0.000</td>\n",
       "      <td>77.300</td>\n",
       "      <td>79.200</td>\n",
       "      <td>83.200</td>\n",
       "      <td>100.000</td>\n",
       "    </tr>\n",
       "    <tr>\n",
       "      <th>percent_civil_pop_without_health_ins</th>\n",
       "      <td>84,575.000</td>\n",
       "      <td>11.434</td>\n",
       "      <td>5.738</td>\n",
       "      <td>0.000</td>\n",
       "      <td>7.700</td>\n",
       "      <td>11.434</td>\n",
       "      <td>13.100</td>\n",
       "      <td>100.000</td>\n",
       "    </tr>\n",
       "    <tr>\n",
       "      <th>percent_below_poverty_families</th>\n",
       "      <td>84,575.000</td>\n",
       "      <td>9.948</td>\n",
       "      <td>6.824</td>\n",
       "      <td>0.000</td>\n",
       "      <td>5.300</td>\n",
       "      <td>9.948</td>\n",
       "      <td>11.100</td>\n",
       "      <td>100.000</td>\n",
       "    </tr>\n",
       "    <tr>\n",
       "      <th>median_age</th>\n",
       "      <td>84,575.000</td>\n",
       "      <td>38.949</td>\n",
       "      <td>5.493</td>\n",
       "      <td>15.500</td>\n",
       "      <td>36.000</td>\n",
       "      <td>38.949</td>\n",
       "      <td>41.100</td>\n",
       "      <td>91.800</td>\n",
       "    </tr>\n",
       "    <tr>\n",
       "      <th>age_0_19</th>\n",
       "      <td>84,575.000</td>\n",
       "      <td>24.591</td>\n",
       "      <td>5.047</td>\n",
       "      <td>0.000</td>\n",
       "      <td>23.000</td>\n",
       "      <td>24.591</td>\n",
       "      <td>26.900</td>\n",
       "      <td>91.900</td>\n",
       "    </tr>\n",
       "    <tr>\n",
       "      <th>age_65_plus</th>\n",
       "      <td>84,575.000</td>\n",
       "      <td>14.565</td>\n",
       "      <td>5.721</td>\n",
       "      <td>0.000</td>\n",
       "      <td>11.600</td>\n",
       "      <td>14.565</td>\n",
       "      <td>15.800</td>\n",
       "      <td>100.100</td>\n",
       "    </tr>\n",
       "    <tr>\n",
       "      <th>ln_median_income</th>\n",
       "      <td>84,575.000</td>\n",
       "      <td>11.046</td>\n",
       "      <td>0.350</td>\n",
       "      <td>8.155</td>\n",
       "      <td>10.841</td>\n",
       "      <td>11.106</td>\n",
       "      <td>11.210</td>\n",
       "      <td>12.374</td>\n",
       "    </tr>\n",
       "  </tbody>\n",
       "</table>\n",
       "</div>"
      ],
      "text/plain": [
       "                                          count       mean        std  \\\n",
       "unemployment_rate                    84,575.000      7.942      3.344   \n",
       "Commutes_to_work_drives_alone        84,575.000     73.483     15.188   \n",
       "Mean_travel_time                     84,575.000     27.106      5.528   \n",
       "Median_household_income              84,575.000 66,571.234 23,730.800   \n",
       "percent_with_earnings                84,575.000     79.200      7.387   \n",
       "percent_civil_pop_without_health_ins 84,575.000     11.434      5.738   \n",
       "percent_below_poverty_families       84,575.000      9.948      6.824   \n",
       "median_age                           84,575.000     38.949      5.493   \n",
       "age_0_19                             84,575.000     24.591      5.047   \n",
       "age_65_plus                          84,575.000     14.565      5.721   \n",
       "ln_median_income                     84,575.000     11.046      0.350   \n",
       "\n",
       "                                           min        25%        50%  \\\n",
       "unemployment_rate                        0.000      6.000      7.942   \n",
       "Commutes_to_work_drives_alone            0.000     73.483     75.400   \n",
       "Mean_travel_time                         6.300     23.700     27.106   \n",
       "Median_household_income              3,479.000 51,079.000 66,571.234   \n",
       "percent_with_earnings                    0.000     77.300     79.200   \n",
       "percent_civil_pop_without_health_ins     0.000      7.700     11.434   \n",
       "percent_below_poverty_families           0.000      5.300      9.948   \n",
       "median_age                              15.500     36.000     38.949   \n",
       "age_0_19                                 0.000     23.000     24.591   \n",
       "age_65_plus                              0.000     11.600     14.565   \n",
       "ln_median_income                         8.155     10.841     11.106   \n",
       "\n",
       "                                            75%         max  \n",
       "unemployment_rate                         8.600     100.000  \n",
       "Commutes_to_work_drives_alone            81.900     100.000  \n",
       "Mean_travel_time                         29.400     113.500  \n",
       "Median_household_income              73,856.000 236,500.000  \n",
       "percent_with_earnings                    83.200     100.000  \n",
       "percent_civil_pop_without_health_ins     13.100     100.000  \n",
       "percent_below_poverty_families           11.100     100.000  \n",
       "median_age                               41.100      91.800  \n",
       "age_0_19                                 26.900      91.900  \n",
       "age_65_plus                              15.800     100.100  \n",
       "ln_median_income                         11.210      12.374  "
      ]
     },
     "execution_count": 34,
     "metadata": {},
     "output_type": "execute_result"
    }
   ],
   "source": [
    "# Summary of ACS variables\n",
    "df[ACS_vars].describe().T"
   ]
  },
  {
   "cell_type": "code",
   "execution_count": 35,
   "metadata": {
    "scrolled": true
   },
   "outputs": [],
   "source": [
    "# Calculate the scaler = means and standard deviations of ACS var in train data\n",
    "scaler = preprocessing.StandardScaler().fit(train[ACS_vars])\n",
    "\n",
    "#scaler.mean_     #estimated means\n",
    "#scaler.scale_   #estimated standard deviations\n",
    "\n",
    "#Preprocess train, valid, and test data:\n",
    "train_census_preprocessed = train.copy()\n",
    "valid_census_preprocessed = valid.copy()\n",
    "test_census_preprocessed = test.copy()\n",
    "\n",
    "for i, var in enumerate(ACS_vars):\n",
    "\n",
    "    train_census_preprocessed[var] =\\\n",
    "        (train_census_preprocessed[var] - scaler.mean_[i])/scaler.scale_[i]  \n",
    "    valid_census_preprocessed[var] = \\ \n",
    "        (valid_census_preprocessed[var] - scaler.mean_[i])/scaler.scale_[i]  \n",
    "    test_census_preprocessed[var] = \\\n",
    "        (test_census_preprocessed[var] - scaler.mean_[i])/scaler.scale_[i]  \n"
   ]
  },
  {
   "cell_type": "markdown",
   "metadata": {},
   "source": [
    "### 2. Unregularized logistic regression using preprocessed ACS variables "
   ]
  },
  {
   "cell_type": "code",
   "execution_count": 36,
   "metadata": {
    "scrolled": true
   },
   "outputs": [
    {
     "name": "stdout",
     "output_type": "stream",
     "text": [
      "Optimization terminated successfully.\n",
      "         Current function value: 0.458000\n",
      "         Iterations 8\n"
     ]
    }
   ],
   "source": [
    "# Fit the logistic regression to preprocessed train data\n",
    "logit_preprocess_unr = sm.Logit(train_census_preprocessed['Y'], train_census_preprocessed.drop(['Y', 'Median_household_income'], axis=1))\n",
    "logit_preprocess_unr = logit_preprocess_unr.fit()\n"
   ]
  },
  {
   "cell_type": "code",
   "execution_count": 37,
   "metadata": {},
   "outputs": [
    {
     "data": {
      "text/plain": [
       "{'base_no_preprocess': {'AUC': '0.713148',\n",
       "  'logloss_train': '0.458000',\n",
       "  'logloss_valid': '0.467460'},\n",
       " 'base_2_preprocess': {'AUC': '0.713148',\n",
       "  'logloss_train': '0.458000',\n",
       "  'logloss_valid': '0.467460'}}"
      ]
     },
     "execution_count": 37,
     "metadata": {},
     "output_type": "execute_result"
    }
   ],
   "source": [
    "# Calculate AUC (on valid) and log-loss (on train & valid) for fitted unregularized logit with preprocessed ACS data\n",
    "auc_and_logloss_results =\\\n",
    "    f.store_AUC_and_logloss_results(logit_preprocess_unr, 'base_2_preprocess', False, \\\n",
    "    train_census_preprocessed, valid_census_preprocessed, ['Y', 'Median_household_income'],auc_and_logloss_results)\n",
    "auc_and_logloss_results"
   ]
  },
  {
   "cell_type": "code",
   "execution_count": 38,
   "metadata": {},
   "outputs": [
    {
     "data": {
      "text/plain": [
       "{'base_2_preprocess, threshold of 0.5': {'fpr': '0.021', 'fnr': '0.898'}}"
      ]
     },
     "execution_count": 38,
     "metadata": {},
     "output_type": "execute_result"
    }
   ],
   "source": [
    "# Calculate % of false positives and false negatives on the unregularized logit with pre-processed ACS vars\n",
    "fpr_and_fnr_results = {}\n",
    "fpr_and_fnr_results = \\\n",
    "    f.store_fpr_and_fnr_results(logit_preprocess_unr, \\\n",
    "    'base_2_preprocess, threshold of {}'.format(0.5), False, \\\n",
    "    valid_census_preprocessed, ['Y', 'Median_household_income'], 0.5, fpr_and_fnr_results)\n",
    "fpr_and_fnr_results"
   ]
  },
  {
   "cell_type": "markdown",
   "metadata": {},
   "source": [
    "Note that in my model, preprocessing affects the estimated coefficients on the ACS (preprocessed) variables and the constant term only. Other coefficients and AUC remain the same. How pre-processing is 'un-done' in this particular case is shown below:\n",
    "\n",
    "\n",
    "- **Original equation (un-preprocessed train data):** \n",
    "\n",
    "\\begin{equation*}  \n",
    "y = a+bX + cZ \n",
    "\\end{equation*}\n",
    "\n",
    "- **Preprocess X (an ACS variable) and leave dummy Z \"as is\"**\n",
    "\n",
    "\\begin{equation}  \n",
    "\\hat{X} = \\frac{X - \\mu}{\\sigma} \n",
    "\\end{equation}\n",
    "\n",
    "- **Updated equation (preprocessed train data):**\n",
    "\n",
    "\\begin{equation}  \n",
    "y = \\alpha+\\beta \\hat{X} + \\gamma Z  =  \\alpha+\\beta (\\frac{X - \\mu}{\\sigma}) + \\gamma Z = \n",
    "(\\alpha - \\beta \\frac{\\mu}{\\sigma}) +\\frac{\\beta}{\\sigma} X + \\gamma Z\n",
    "\\end{equation}\n",
    "\n",
    "\n",
    "- **Hence, the relationship between unpreprocessed and preprocessed coefficients is as follows:**\n",
    "\n",
    "\\begin{equation}  \n",
    "a = \\alpha - \\beta \\frac{\\mu}{\\sigma}\n",
    "\\end{equation}\n",
    "\n",
    "\n",
    "\\begin{equation}  \n",
    "b = \\frac{\\mu}{\\sigma}\n",
    "\\end{equation}\n",
    "\n",
    "\n",
    "\\begin{equation}  \n",
    "c = \\gamma\n",
    "\\end{equation}"
   ]
  },
  {
   "cell_type": "markdown",
   "metadata": {},
   "source": [
    "In regressions below I continue using preprocessed train data for consistency."
   ]
  },
  {
   "cell_type": "markdown",
   "metadata": {},
   "source": [
    "### 3. L2 (Ridge) Regularized logistic regression using preprocessed ACS variables"
   ]
  },
  {
   "cell_type": "markdown",
   "metadata": {},
   "source": [
    "Now I introduce Ridge regularization to see if model performance can be improved on the validation set as measured by AUC."
   ]
  },
  {
   "cell_type": "code",
   "execution_count": 39,
   "metadata": {},
   "outputs": [],
   "source": [
    "# L2 regularized logit for several hyperparameter values\n",
    "for i in range(6,-7, -1):\n",
    "    logreg = LogisticRegression(C=10**i, fit_intercept = False, solver='liblinear')\n",
    "    logreg = logreg.fit(train_census_preprocessed.drop(['Y', 'Median_household_income'], axis=1), \n",
    "               train_census_preprocessed['Y'])\n",
    "    \n",
    "    # Calculate AUC (on valid) and log-loss (on train & valid) \n",
    "    auc_and_logloss_results = \\\n",
    "        f.store_AUC_and_logloss_results(logreg, \\\n",
    "        'L2 C={} {}'.format(10**i, (7-len(str(10**i)))*\" \"), True, \\\n",
    "        train_census_preprocessed, valid_census_preprocessed, \\\n",
    "        ['Y', 'Median_household_income'],auc_and_logloss_results)\n",
    "    "
   ]
  },
  {
   "cell_type": "code",
   "execution_count": 41,
   "metadata": {},
   "outputs": [
    {
     "data": {
      "text/html": [
       "<div>\n",
       "<style scoped>\n",
       "    .dataframe tbody tr th:only-of-type {\n",
       "        vertical-align: middle;\n",
       "    }\n",
       "\n",
       "    .dataframe tbody tr th {\n",
       "        vertical-align: top;\n",
       "    }\n",
       "\n",
       "    .dataframe thead th {\n",
       "        text-align: right;\n",
       "    }\n",
       "</style>\n",
       "<table border=\"1\" class=\"dataframe\">\n",
       "  <thead>\n",
       "    <tr style=\"text-align: right;\">\n",
       "      <th></th>\n",
       "      <th>AUC</th>\n",
       "      <th>logloss_train</th>\n",
       "      <th>logloss_valid</th>\n",
       "    </tr>\n",
       "  </thead>\n",
       "  <tbody>\n",
       "    <tr>\n",
       "      <th>base_no_preprocess</th>\n",
       "      <td>0.713148</td>\n",
       "      <td>0.458000</td>\n",
       "      <td>0.467460</td>\n",
       "    </tr>\n",
       "    <tr>\n",
       "      <th>base_2_preprocess</th>\n",
       "      <td>0.713148</td>\n",
       "      <td>0.458000</td>\n",
       "      <td>0.467460</td>\n",
       "    </tr>\n",
       "    <tr>\n",
       "      <th>L2 C=1000000</th>\n",
       "      <td>0.713147</td>\n",
       "      <td>0.458000</td>\n",
       "      <td>0.467460</td>\n",
       "    </tr>\n",
       "    <tr>\n",
       "      <th>L2 C=100000</th>\n",
       "      <td>0.713146</td>\n",
       "      <td>0.458000</td>\n",
       "      <td>0.467461</td>\n",
       "    </tr>\n",
       "    <tr>\n",
       "      <th>L2 C=10000</th>\n",
       "      <td>0.713147</td>\n",
       "      <td>0.458000</td>\n",
       "      <td>0.467460</td>\n",
       "    </tr>\n",
       "    <tr>\n",
       "      <th>L2 C=1000</th>\n",
       "      <td>0.713146</td>\n",
       "      <td>0.458000</td>\n",
       "      <td>0.467461</td>\n",
       "    </tr>\n",
       "    <tr>\n",
       "      <th>L2 C=100</th>\n",
       "      <td>0.713145</td>\n",
       "      <td>0.458000</td>\n",
       "      <td>0.467462</td>\n",
       "    </tr>\n",
       "    <tr>\n",
       "      <th>L2 C=10</th>\n",
       "      <td>0.713140</td>\n",
       "      <td>0.458000</td>\n",
       "      <td>0.467462</td>\n",
       "    </tr>\n",
       "    <tr>\n",
       "      <th>L2 C=1</th>\n",
       "      <td>0.713050</td>\n",
       "      <td>0.458005</td>\n",
       "      <td>0.467482</td>\n",
       "    </tr>\n",
       "    <tr>\n",
       "      <th>L2 C=0.1</th>\n",
       "      <td>0.712078</td>\n",
       "      <td>0.458313</td>\n",
       "      <td>0.467867</td>\n",
       "    </tr>\n",
       "    <tr>\n",
       "      <th>L2 C=0.01</th>\n",
       "      <td>0.704437</td>\n",
       "      <td>0.463651</td>\n",
       "      <td>0.472759</td>\n",
       "    </tr>\n",
       "    <tr>\n",
       "      <th>L2 C=0.001</th>\n",
       "      <td>0.675745</td>\n",
       "      <td>0.487834</td>\n",
       "      <td>0.494544</td>\n",
       "    </tr>\n",
       "    <tr>\n",
       "      <th>L2 C=0.0001</th>\n",
       "      <td>0.535649</td>\n",
       "      <td>0.532173</td>\n",
       "      <td>0.535842</td>\n",
       "    </tr>\n",
       "    <tr>\n",
       "      <th>L2 C=1e-05</th>\n",
       "      <td>0.486978</td>\n",
       "      <td>0.631810</td>\n",
       "      <td>0.632692</td>\n",
       "    </tr>\n",
       "    <tr>\n",
       "      <th>L2 C=1e-06</th>\n",
       "      <td>0.482504</td>\n",
       "      <td>0.684789</td>\n",
       "      <td>0.684894</td>\n",
       "    </tr>\n",
       "  </tbody>\n",
       "</table>\n",
       "</div>"
      ],
      "text/plain": [
       "                         AUC logloss_train logloss_valid\n",
       "base_no_preprocess  0.713148      0.458000      0.467460\n",
       "base_2_preprocess   0.713148      0.458000      0.467460\n",
       "L2 C=1000000        0.713147      0.458000      0.467460\n",
       "L2 C=100000         0.713146      0.458000      0.467461\n",
       "L2 C=10000          0.713147      0.458000      0.467460\n",
       "L2 C=1000           0.713146      0.458000      0.467461\n",
       "L2 C=100            0.713145      0.458000      0.467462\n",
       "L2 C=10             0.713140      0.458000      0.467462\n",
       "L2 C=1              0.713050      0.458005      0.467482\n",
       "L2 C=0.1            0.712078      0.458313      0.467867\n",
       "L2 C=0.01           0.704437      0.463651      0.472759\n",
       "L2 C=0.001          0.675745      0.487834      0.494544\n",
       "L2 C=0.0001         0.535649      0.532173      0.535842\n",
       "L2 C=1e-05          0.486978      0.631810      0.632692\n",
       "L2 C=1e-06          0.482504      0.684789      0.684894"
      ]
     },
     "execution_count": 41,
     "metadata": {},
     "output_type": "execute_result"
    }
   ],
   "source": [
    "view_results = pd.DataFrame(auc_and_logloss_results).T\n",
    "view_results"
   ]
  },
  {
   "cell_type": "code",
   "execution_count": 42,
   "metadata": {
    "scrolled": false
   },
   "outputs": [
    {
     "data": {
      "text/html": [
       "<div>\n",
       "<style scoped>\n",
       "    .dataframe tbody tr th:only-of-type {\n",
       "        vertical-align: middle;\n",
       "    }\n",
       "\n",
       "    .dataframe tbody tr th {\n",
       "        vertical-align: top;\n",
       "    }\n",
       "\n",
       "    .dataframe thead th {\n",
       "        text-align: right;\n",
       "    }\n",
       "</style>\n",
       "<table border=\"1\" class=\"dataframe\">\n",
       "  <thead>\n",
       "    <tr style=\"text-align: right;\">\n",
       "      <th></th>\n",
       "      <th>AUC</th>\n",
       "      <th>logloss_train</th>\n",
       "      <th>logloss_valid</th>\n",
       "    </tr>\n",
       "  </thead>\n",
       "  <tbody>\n",
       "    <tr>\n",
       "      <th>base_no_preprocess</th>\n",
       "      <td>0.713148</td>\n",
       "      <td>0.458000</td>\n",
       "      <td>0.467460</td>\n",
       "    </tr>\n",
       "    <tr>\n",
       "      <th>base_2_preprocess</th>\n",
       "      <td>0.713148</td>\n",
       "      <td>0.458000</td>\n",
       "      <td>0.467460</td>\n",
       "    </tr>\n",
       "  </tbody>\n",
       "</table>\n",
       "</div>"
      ],
      "text/plain": [
       "                         AUC logloss_train logloss_valid\n",
       "base_no_preprocess  0.713148      0.458000      0.467460\n",
       "base_2_preprocess   0.713148      0.458000      0.467460"
      ]
     },
     "execution_count": 42,
     "metadata": {},
     "output_type": "execute_result"
    }
   ],
   "source": [
    "# Print the model that gives the highest AUC\n",
    "view_results[view_results.AUC == view_results.AUC.max()]"
   ]
  },
  {
   "cell_type": "markdown",
   "metadata": {},
   "source": [
    "**Results of introducing regularization:**\n",
    "\n",
    "Despite trying several Ridge regularization hyperparameters, it is the baseline model that gives the highest AUC on the validation set. Below, I repeat the same exercise with L1 penalty function and obtain similar results. In short, it looks like regularization is not helping us with making the model developed on the train set more generalizable. **It could be that the original, unregularized model is already simple enough, overfitting is not a major concern, and hence regularization mostly just adds some noise without improving model performance.**\n",
    "\n",
    "**Remember that the baseline model was trained on an already transformed dataset where I tried to minimize the influence of noise by groupping smaller categories together (e.g., went from 33 Issue categories to only 19, from 400+ companies to 11, etc.).**\n",
    "\n",
    "In addition, it could be that there is not sufficient information in the data to understand how to separate classes into Y=1 and Y=0, and the original unregularized regression would be simple enough capturing only basic patterns in data, as suggested by the histograms of estimated probabilities for Y=1 vs Y=0 above."
   ]
  },
  {
   "cell_type": "markdown",
   "metadata": {},
   "source": [
    "### 4. L1 (Lasso) Regularized logistic regression using preprocessed ACS variables"
   ]
  },
  {
   "cell_type": "code",
   "execution_count": 43,
   "metadata": {},
   "outputs": [],
   "source": [
    "# L1 regularized logit for several hyperparameter values\n",
    "for i in range(6,-7, -1):\n",
    "    logreg = LogisticRegression(penalty='l1', C=10**i, fit_intercept = False, solver='liblinear')\n",
    "    logreg.fit(train_census_preprocessed.drop(['Y', 'Median_household_income'], axis=1), train_census_preprocessed['Y'])\n",
    "   \n",
    "    # Calculate AUC (on valid) and log-loss (on train & valid) \n",
    "    auc_and_logloss_results = \\\n",
    "        f.store_AUC_and_logloss_results(logreg, \\\n",
    "            'L1 C0={} {}'.format(10**i, (7-len(str(10**i)))*\" \"), True, \\\n",
    "            train_census_preprocessed, valid_census_preprocessed, \\\n",
    "            ['Y', 'Median_household_income'],auc_and_logloss_results)"
   ]
  },
  {
   "cell_type": "code",
   "execution_count": 44,
   "metadata": {},
   "outputs": [
    {
     "data": {
      "text/html": [
       "<div>\n",
       "<style scoped>\n",
       "    .dataframe tbody tr th:only-of-type {\n",
       "        vertical-align: middle;\n",
       "    }\n",
       "\n",
       "    .dataframe tbody tr th {\n",
       "        vertical-align: top;\n",
       "    }\n",
       "\n",
       "    .dataframe thead th {\n",
       "        text-align: right;\n",
       "    }\n",
       "</style>\n",
       "<table border=\"1\" class=\"dataframe\">\n",
       "  <thead>\n",
       "    <tr style=\"text-align: right;\">\n",
       "      <th></th>\n",
       "      <th>AUC</th>\n",
       "      <th>logloss_train</th>\n",
       "      <th>logloss_valid</th>\n",
       "    </tr>\n",
       "  </thead>\n",
       "  <tbody>\n",
       "    <tr>\n",
       "      <th>base_no_preprocess</th>\n",
       "      <td>0.713148</td>\n",
       "      <td>0.458000</td>\n",
       "      <td>0.467460</td>\n",
       "    </tr>\n",
       "    <tr>\n",
       "      <th>base_2_preprocess</th>\n",
       "      <td>0.713148</td>\n",
       "      <td>0.458000</td>\n",
       "      <td>0.467460</td>\n",
       "    </tr>\n",
       "    <tr>\n",
       "      <th>L2 C=1000000</th>\n",
       "      <td>0.713147</td>\n",
       "      <td>0.458000</td>\n",
       "      <td>0.467460</td>\n",
       "    </tr>\n",
       "    <tr>\n",
       "      <th>L2 C=100000</th>\n",
       "      <td>0.713146</td>\n",
       "      <td>0.458000</td>\n",
       "      <td>0.467461</td>\n",
       "    </tr>\n",
       "    <tr>\n",
       "      <th>L2 C=10000</th>\n",
       "      <td>0.713147</td>\n",
       "      <td>0.458000</td>\n",
       "      <td>0.467460</td>\n",
       "    </tr>\n",
       "    <tr>\n",
       "      <th>L2 C=1000</th>\n",
       "      <td>0.713146</td>\n",
       "      <td>0.458000</td>\n",
       "      <td>0.467461</td>\n",
       "    </tr>\n",
       "    <tr>\n",
       "      <th>L2 C=100</th>\n",
       "      <td>0.713145</td>\n",
       "      <td>0.458000</td>\n",
       "      <td>0.467462</td>\n",
       "    </tr>\n",
       "    <tr>\n",
       "      <th>L2 C=10</th>\n",
       "      <td>0.713140</td>\n",
       "      <td>0.458000</td>\n",
       "      <td>0.467462</td>\n",
       "    </tr>\n",
       "    <tr>\n",
       "      <th>L2 C=1</th>\n",
       "      <td>0.713050</td>\n",
       "      <td>0.458005</td>\n",
       "      <td>0.467482</td>\n",
       "    </tr>\n",
       "    <tr>\n",
       "      <th>L2 C=0.1</th>\n",
       "      <td>0.712078</td>\n",
       "      <td>0.458313</td>\n",
       "      <td>0.467867</td>\n",
       "    </tr>\n",
       "    <tr>\n",
       "      <th>L2 C=0.01</th>\n",
       "      <td>0.704437</td>\n",
       "      <td>0.463651</td>\n",
       "      <td>0.472759</td>\n",
       "    </tr>\n",
       "    <tr>\n",
       "      <th>L2 C=0.001</th>\n",
       "      <td>0.675745</td>\n",
       "      <td>0.487834</td>\n",
       "      <td>0.494544</td>\n",
       "    </tr>\n",
       "    <tr>\n",
       "      <th>L2 C=0.0001</th>\n",
       "      <td>0.535649</td>\n",
       "      <td>0.532173</td>\n",
       "      <td>0.535842</td>\n",
       "    </tr>\n",
       "    <tr>\n",
       "      <th>L2 C=1e-05</th>\n",
       "      <td>0.486978</td>\n",
       "      <td>0.631810</td>\n",
       "      <td>0.632692</td>\n",
       "    </tr>\n",
       "    <tr>\n",
       "      <th>L2 C=1e-06</th>\n",
       "      <td>0.482504</td>\n",
       "      <td>0.684789</td>\n",
       "      <td>0.684894</td>\n",
       "    </tr>\n",
       "    <tr>\n",
       "      <th>L1 C0=1000000</th>\n",
       "      <td>0.713145</td>\n",
       "      <td>0.458000</td>\n",
       "      <td>0.467462</td>\n",
       "    </tr>\n",
       "    <tr>\n",
       "      <th>L1 C0=100000</th>\n",
       "      <td>0.713145</td>\n",
       "      <td>0.458000</td>\n",
       "      <td>0.467462</td>\n",
       "    </tr>\n",
       "    <tr>\n",
       "      <th>L1 C0=10000</th>\n",
       "      <td>0.713145</td>\n",
       "      <td>0.458000</td>\n",
       "      <td>0.467462</td>\n",
       "    </tr>\n",
       "    <tr>\n",
       "      <th>L1 C0=1000</th>\n",
       "      <td>0.713146</td>\n",
       "      <td>0.458000</td>\n",
       "      <td>0.467462</td>\n",
       "    </tr>\n",
       "    <tr>\n",
       "      <th>L1 C0=100</th>\n",
       "      <td>0.713145</td>\n",
       "      <td>0.458000</td>\n",
       "      <td>0.467462</td>\n",
       "    </tr>\n",
       "    <tr>\n",
       "      <th>L1 C0=10</th>\n",
       "      <td>0.713138</td>\n",
       "      <td>0.458000</td>\n",
       "      <td>0.467462</td>\n",
       "    </tr>\n",
       "    <tr>\n",
       "      <th>L1 C0=1</th>\n",
       "      <td>0.713065</td>\n",
       "      <td>0.458009</td>\n",
       "      <td>0.467475</td>\n",
       "    </tr>\n",
       "    <tr>\n",
       "      <th>L1 C0=0.1</th>\n",
       "      <td>0.711620</td>\n",
       "      <td>0.458512</td>\n",
       "      <td>0.468075</td>\n",
       "    </tr>\n",
       "    <tr>\n",
       "      <th>L1 C0=0.01</th>\n",
       "      <td>0.696594</td>\n",
       "      <td>0.467747</td>\n",
       "      <td>0.477038</td>\n",
       "    </tr>\n",
       "    <tr>\n",
       "      <th>L1 C0=0.001</th>\n",
       "      <td>0.500000</td>\n",
       "      <td>0.513265</td>\n",
       "      <td>0.519024</td>\n",
       "    </tr>\n",
       "    <tr>\n",
       "      <th>L1 C0=0.0001</th>\n",
       "      <td>0.500000</td>\n",
       "      <td>0.600017</td>\n",
       "      <td>0.601822</td>\n",
       "    </tr>\n",
       "    <tr>\n",
       "      <th>L1 C0=1e-05</th>\n",
       "      <td>0.500000</td>\n",
       "      <td>0.693147</td>\n",
       "      <td>0.693147</td>\n",
       "    </tr>\n",
       "    <tr>\n",
       "      <th>L1 C0=1e-06</th>\n",
       "      <td>0.500000</td>\n",
       "      <td>0.693147</td>\n",
       "      <td>0.693147</td>\n",
       "    </tr>\n",
       "  </tbody>\n",
       "</table>\n",
       "</div>"
      ],
      "text/plain": [
       "                         AUC logloss_train logloss_valid\n",
       "base_no_preprocess  0.713148      0.458000      0.467460\n",
       "base_2_preprocess   0.713148      0.458000      0.467460\n",
       "L2 C=1000000        0.713147      0.458000      0.467460\n",
       "L2 C=100000         0.713146      0.458000      0.467461\n",
       "L2 C=10000          0.713147      0.458000      0.467460\n",
       "L2 C=1000           0.713146      0.458000      0.467461\n",
       "L2 C=100            0.713145      0.458000      0.467462\n",
       "L2 C=10             0.713140      0.458000      0.467462\n",
       "L2 C=1              0.713050      0.458005      0.467482\n",
       "L2 C=0.1            0.712078      0.458313      0.467867\n",
       "L2 C=0.01           0.704437      0.463651      0.472759\n",
       "L2 C=0.001          0.675745      0.487834      0.494544\n",
       "L2 C=0.0001         0.535649      0.532173      0.535842\n",
       "L2 C=1e-05          0.486978      0.631810      0.632692\n",
       "L2 C=1e-06          0.482504      0.684789      0.684894\n",
       "L1 C0=1000000       0.713145      0.458000      0.467462\n",
       "L1 C0=100000        0.713145      0.458000      0.467462\n",
       "L1 C0=10000         0.713145      0.458000      0.467462\n",
       "L1 C0=1000          0.713146      0.458000      0.467462\n",
       "L1 C0=100           0.713145      0.458000      0.467462\n",
       "L1 C0=10            0.713138      0.458000      0.467462\n",
       "L1 C0=1             0.713065      0.458009      0.467475\n",
       "L1 C0=0.1           0.711620      0.458512      0.468075\n",
       "L1 C0=0.01          0.696594      0.467747      0.477038\n",
       "L1 C0=0.001         0.500000      0.513265      0.519024\n",
       "L1 C0=0.0001        0.500000      0.600017      0.601822\n",
       "L1 C0=1e-05         0.500000      0.693147      0.693147\n",
       "L1 C0=1e-06         0.500000      0.693147      0.693147"
      ]
     },
     "execution_count": 44,
     "metadata": {},
     "output_type": "execute_result"
    }
   ],
   "source": [
    "view_results = pd.DataFrame(auc_and_logloss_results).T\n",
    "view_results"
   ]
  },
  {
   "cell_type": "code",
   "execution_count": 45,
   "metadata": {},
   "outputs": [
    {
     "data": {
      "text/html": [
       "<div>\n",
       "<style scoped>\n",
       "    .dataframe tbody tr th:only-of-type {\n",
       "        vertical-align: middle;\n",
       "    }\n",
       "\n",
       "    .dataframe tbody tr th {\n",
       "        vertical-align: top;\n",
       "    }\n",
       "\n",
       "    .dataframe thead th {\n",
       "        text-align: right;\n",
       "    }\n",
       "</style>\n",
       "<table border=\"1\" class=\"dataframe\">\n",
       "  <thead>\n",
       "    <tr style=\"text-align: right;\">\n",
       "      <th></th>\n",
       "      <th>AUC</th>\n",
       "      <th>logloss_train</th>\n",
       "      <th>logloss_valid</th>\n",
       "    </tr>\n",
       "  </thead>\n",
       "  <tbody>\n",
       "    <tr>\n",
       "      <th>base_no_preprocess</th>\n",
       "      <td>0.713148</td>\n",
       "      <td>0.458000</td>\n",
       "      <td>0.467460</td>\n",
       "    </tr>\n",
       "    <tr>\n",
       "      <th>base_2_preprocess</th>\n",
       "      <td>0.713148</td>\n",
       "      <td>0.458000</td>\n",
       "      <td>0.467460</td>\n",
       "    </tr>\n",
       "  </tbody>\n",
       "</table>\n",
       "</div>"
      ],
      "text/plain": [
       "                         AUC logloss_train logloss_valid\n",
       "base_no_preprocess  0.713148      0.458000      0.467460\n",
       "base_2_preprocess   0.713148      0.458000      0.467460"
      ]
     },
     "execution_count": 45,
     "metadata": {},
     "output_type": "execute_result"
    }
   ],
   "source": [
    "# Print the model that gives the highest AUC\n",
    "view_results[view_results.AUC == view_results.AUC.max()]"
   ]
  },
  {
   "cell_type": "markdown",
   "metadata": {},
   "source": [
    "## 5. Adding complexity: Retain the richness of categorical variables in the CFBP set"
   ]
  },
  {
   "cell_type": "markdown",
   "metadata": {},
   "source": [
    "Next, I want to see if my baseline model can be improved upon if I use the original set of categories/labels in the CFPB variables (e.g., the original set of all 33 Issue categories, 400+ companies, etc.). So, I go back to the downloaded CFPB data, skip the recoding step, and keep all original categories instead. I continue excluding the baseline categories. I also keep the Timely response variable and year 2011 observations that I previously dropped. I end up with a much larger set of dummy variables from the original set of CFPB features (N=555 vs N=76).\n",
    "\n",
    "**Aside note:** If I use statsmodels.api to train an unregularized (or any) logit model, I run into the problem that I initially mentioned in the IPython Notebook #1. Some dummy variables are too sparse: they contain only a few values of 1. This causes problems during estimation as the variance-covariance matrix becomes singular (non-invertible). \n",
    "In sklearn's logistic regression package, I probably do not run into this problem because of the way the objective function is defined there: it always comes with a penalty term. To mimic the unregularized regression using sklearn, we need to set a very high value for parameter C (e.g., 1e30). \n",
    "\n",
    "When I tried using statsmodels.api, after a few trials and errors, I was able to run a logistic regression by dropping dummies with fewer than 300 values of 1. Number of features is 131 vs 76 in the original set of models above. The results are very similar to the ones obtained below with sklearn and are not reported here.\n",
    "\n"
   ]
  },
  {
   "cell_type": "code",
   "execution_count": 7,
   "metadata": {
    "scrolled": true
   },
   "outputs": [
    {
     "name": "stdout",
     "output_type": "stream",
     "text": [
      "Size of original file:  (738832, 18)\n",
      "\n",
      "--- # of categories in variable 'Issue':  33\n",
      "\n",
      "--- 'Consumer complaint narrative' is either NUll or contains text of a complaint \n",
      "\n",
      "--- # of companies:  418\n",
      "\n",
      "--- # of U.S. states and territories:  62\n",
      "\n",
      "--- # of Tags:  3\n",
      "\n",
      "--- # of categories in 'Consumer consent provided?':  3\n",
      "\n",
      "--- # of Submission categories:  6\n",
      "\n",
      "--- Binary variable 'Timely_response'\n",
      "\n",
      "--- Varibale Year\n",
      "\n",
      "--- Variable Month\n",
      "\n",
      "--- Add constant term\n",
      "\n",
      "Done creating dummy variables\n",
      "______________________________________\n",
      "Done adding ACS (Census data)\n",
      "______________________________________\n",
      "Done dropping redundant columns\n",
      "______________________________________\n",
      "Size of transformed file: (85835, 555)\n"
     ]
    }
   ],
   "source": [
    "# Load the original CFPB data\n",
    "df_expanded =pd.read_csv(directory+'Consumer_Complaints_loaded_March20_2017.csv', header = 0, sep = ',', dtype = 'str')\n",
    "print('Size of original file: ', df_expanded.shape)\n",
    "print()\n",
    "\n",
    "# This function creates dummies and adds a constant term\n",
    "df_expanded = p.create_dummies_fn(df_expanded)\n",
    "\n",
    "# Load the ACS (Census) data\n",
    "socio_econ_data = pd.read_pickle(open(directory+'ACS_census_data.pickle', 'rb'))\n",
    "\n",
    "# This function adds ACS (Census) variables\n",
    "df_expanded = p.add_ACS_data_fn(df_expanded, socio_econ_data, ['ZIP code']+ACS_vars)\n",
    "\n",
    "# This function drops original CFPB variables (e.g., 'Issue', 'ZIP code', 'Company', etc.)\n",
    "df_expanded = p.drop_columns_for_logit(df_expanded)\n",
    "\n",
    "print('Size of transformed file:', df_expanded.shape)\n"
   ]
  },
  {
   "cell_type": "markdown",
   "metadata": {},
   "source": [
    "**df_expanded** contains the original categories of dummy variables, a constant term, and un-preprocessed ACS data. The number of rows in df_expanded (n=85,835) differs from the number of rows in df (n=84,575) due to the additional year 2011 observations.\n"
   ]
  },
  {
   "cell_type": "markdown",
   "metadata": {},
   "source": [
    "### 5.1 More complete data: Unregularized logistic regression using preprocessed ACS variables "
   ]
  },
  {
   "cell_type": "code",
   "execution_count": 10,
   "metadata": {
    "scrolled": true
   },
   "outputs": [
    {
     "name": "stdout",
     "output_type": "stream",
     "text": [
      "Size of expanded train, valid, and test files:  (51501, 555) (17167, 555) (17167, 555)\n",
      "\n"
     ]
    }
   ],
   "source": [
    "#Create train, validation, and test sets \n",
    "train_expanded = df_expanded.sample(frac=0.6,replace = False, random_state=200)\n",
    "temp_expanded = df_expanded.drop(train_expanded.index)\n",
    "valid_expanded = temp_expanded.sample(frac=0.5,replace = False, random_state=100)\n",
    "test_expanded = temp_expanded.drop(valid_expanded.index)\n",
    "print(\"Size of expanded train, valid, and test files: \", train_expanded.shape, \\\n",
    "      valid_expanded.shape, test_expanded.shape)\n",
    "print()   \n",
    "\n",
    "# Calculate the scaler = means and standard deviations of ACS var in train expanded data\n",
    "scaler_expanded = preprocessing.StandardScaler().fit(train_expanded[ACS_vars])\n",
    "\n",
    "#Preprocess train, valid, and test data:\n",
    "train_expanded_preprocessed = train_expanded.copy()\n",
    "valid_expanded_preprocessed = valid_expanded.copy()\n",
    "test_expanded_preprocessed = test_expanded.copy()\n",
    "\n",
    "for i, var in enumerate(ACS_vars):\n",
    "\n",
    "    train_expanded_preprocessed[var] =\\\n",
    "    (train_expanded_preprocessed[var] - scaler_expanded.mean_[i])/scaler_expanded.scale_[i]  \n",
    "    \n",
    "    valid_expanded_preprocessed[var] =\\\n",
    "    (valid_expanded_preprocessed[var] - scaler_expanded.mean_[i])/scaler_expanded.scale_[i]  \n",
    "    \n",
    "    test_expanded_preprocessed[var] =\\\n",
    "    (test_expanded_preprocessed[var] - scaler_expanded.mean_[i])/scaler_expanded.scale_[i]  \n"
   ]
  },
  {
   "cell_type": "code",
   "execution_count": 46,
   "metadata": {
    "scrolled": true
   },
   "outputs": [],
   "source": [
    "# Fit unregularized logistic regression to preprocessed expanded train data using sklearn's package\n",
    "logit_expanded_unr = LogisticRegression(C=1e30, fit_intercept = False, solver='liblinear')\n",
    "logit_expanded_unr.fit(train_expanded_preprocessed.drop(['Y', 'Median_household_income'], axis=1), \\\n",
    "                       train_expanded_preprocessed['Y'])\n",
    "\n",
    "#initiate new dictionary for auc & log-loss values (for expanded dataset)\n",
    "auc_logloss_expanded_results = {}\n",
    "#store the original baseline auc & log-loss (the best performer on the df set)\n",
    "auc_logloss_expanded_results['base_no_preprocess'] = auc_and_logloss_results['base_no_preprocess'] \n",
    "\n",
    "# Calculate AUC (on valid) and log-loss (on train & valid)\n",
    "auc_logloss_expanded_results = \\\n",
    "        f.store_AUC_and_logloss_results(logit_expanded_unr, \\\n",
    "        'base_expanded_unr_preprocessed', True, \\\n",
    "        train_expanded_preprocessed, valid_expanded_preprocessed, \\\n",
    "        ['Y', 'Median_household_income'],auc_logloss_expanded_results)    "
   ]
  },
  {
   "cell_type": "code",
   "execution_count": 47,
   "metadata": {},
   "outputs": [
    {
     "data": {
      "text/plain": [
       "{'base_2_preprocess, threshold of 0.5': {'fpr': '0.021', 'fnr': '0.898'},\n",
       " 'base_expanded_unr_preprocessed': {'fpr': '0.026', 'fnr': '0.876'}}"
      ]
     },
     "execution_count": 47,
     "metadata": {},
     "output_type": "execute_result"
    }
   ],
   "source": [
    "# Calculate % of false positives and false negatives on the unregularized logit on the expanded set\n",
    "fpr_and_fnr_results =\\\n",
    "        f.store_fpr_and_fnr_results(logit_expanded_unr, \\\n",
    "         'base_expanded_unr_preprocessed', True,\n",
    "        valid_expanded_preprocessed, ['Y', 'Median_household_income'], 0.5, fpr_and_fnr_results)\n",
    "fpr_and_fnr_results"
   ]
  },
  {
   "cell_type": "code",
   "execution_count": 48,
   "metadata": {
    "scrolled": true
   },
   "outputs": [],
   "source": [
    "# L2 regularized logit for several hyperparameter values on expanded, preprocessed data\n",
    "for i in range(6,-7, -1):\n",
    "    logreg = LogisticRegression(C=10**i, fit_intercept = False, solver='liblinear')\n",
    "    logreg.fit(train_expanded_preprocessed.drop(['Y', 'Median_household_income'], axis=1), \\\n",
    "               train_expanded_preprocessed['Y'])\n",
    "    \n",
    "    # Calculate AUC (on valid) and log-loss (on train & valid) \n",
    "    auc_logloss_expanded_results = \\\n",
    "        f.store_AUC_and_logloss_results(logreg, \\\n",
    "        'L2 C={} {}'.format(10**i, (7-len(str(10**i)))*\" \"), True, \\\n",
    "        train_expanded_preprocessed, valid_expanded_preprocessed, \\\n",
    "        ['Y', 'Median_household_income'],  auc_logloss_expanded_results)\n",
    " "
   ]
  },
  {
   "cell_type": "code",
   "execution_count": 49,
   "metadata": {},
   "outputs": [
    {
     "data": {
      "text/html": [
       "<div>\n",
       "<style scoped>\n",
       "    .dataframe tbody tr th:only-of-type {\n",
       "        vertical-align: middle;\n",
       "    }\n",
       "\n",
       "    .dataframe tbody tr th {\n",
       "        vertical-align: top;\n",
       "    }\n",
       "\n",
       "    .dataframe thead th {\n",
       "        text-align: right;\n",
       "    }\n",
       "</style>\n",
       "<table border=\"1\" class=\"dataframe\">\n",
       "  <thead>\n",
       "    <tr style=\"text-align: right;\">\n",
       "      <th></th>\n",
       "      <th>AUC</th>\n",
       "      <th>logloss_train</th>\n",
       "      <th>logloss_valid</th>\n",
       "    </tr>\n",
       "  </thead>\n",
       "  <tbody>\n",
       "    <tr>\n",
       "      <th>base_no_preprocess</th>\n",
       "      <td>0.713148</td>\n",
       "      <td>0.458000</td>\n",
       "      <td>0.467460</td>\n",
       "    </tr>\n",
       "    <tr>\n",
       "      <th>base_expanded_unr_preprocessed</th>\n",
       "      <td>0.740367</td>\n",
       "      <td>0.444814</td>\n",
       "      <td>0.451924</td>\n",
       "    </tr>\n",
       "    <tr>\n",
       "      <th>L2 C=1000000</th>\n",
       "      <td>0.740382</td>\n",
       "      <td>0.444820</td>\n",
       "      <td>0.451817</td>\n",
       "    </tr>\n",
       "    <tr>\n",
       "      <th>L2 C=100000</th>\n",
       "      <td>0.740367</td>\n",
       "      <td>0.444815</td>\n",
       "      <td>0.451908</td>\n",
       "    </tr>\n",
       "    <tr>\n",
       "      <th>L2 C=10000</th>\n",
       "      <td>0.740378</td>\n",
       "      <td>0.444821</td>\n",
       "      <td>0.451801</td>\n",
       "    </tr>\n",
       "    <tr>\n",
       "      <th>L2 C=1000</th>\n",
       "      <td>0.740396</td>\n",
       "      <td>0.444833</td>\n",
       "      <td>0.451667</td>\n",
       "    </tr>\n",
       "    <tr>\n",
       "      <th>L2 C=100</th>\n",
       "      <td>0.740464</td>\n",
       "      <td>0.444916</td>\n",
       "      <td>0.451376</td>\n",
       "    </tr>\n",
       "    <tr>\n",
       "      <th>L2 C=10</th>\n",
       "      <td>0.740462</td>\n",
       "      <td>0.445266</td>\n",
       "      <td>0.451179</td>\n",
       "    </tr>\n",
       "    <tr>\n",
       "      <th>L2 C=1</th>\n",
       "      <td>0.740409</td>\n",
       "      <td>0.446108</td>\n",
       "      <td>0.451118</td>\n",
       "    </tr>\n",
       "    <tr>\n",
       "      <th>L2 C=0.1</th>\n",
       "      <td>0.738987</td>\n",
       "      <td>0.448293</td>\n",
       "      <td>0.452567</td>\n",
       "    </tr>\n",
       "    <tr>\n",
       "      <th>L2 C=0.01</th>\n",
       "      <td>0.726783</td>\n",
       "      <td>0.457620</td>\n",
       "      <td>0.461948</td>\n",
       "    </tr>\n",
       "    <tr>\n",
       "      <th>L2 C=0.001</th>\n",
       "      <td>0.687019</td>\n",
       "      <td>0.485041</td>\n",
       "      <td>0.489665</td>\n",
       "    </tr>\n",
       "    <tr>\n",
       "      <th>L2 C=0.0001</th>\n",
       "      <td>0.524474</td>\n",
       "      <td>0.530278</td>\n",
       "      <td>0.533798</td>\n",
       "    </tr>\n",
       "    <tr>\n",
       "      <th>L2 C=1e-05</th>\n",
       "      <td>0.475048</td>\n",
       "      <td>0.630065</td>\n",
       "      <td>0.631076</td>\n",
       "    </tr>\n",
       "    <tr>\n",
       "      <th>L2 C=1e-06</th>\n",
       "      <td>0.470590</td>\n",
       "      <td>0.684456</td>\n",
       "      <td>0.684583</td>\n",
       "    </tr>\n",
       "  </tbody>\n",
       "</table>\n",
       "</div>"
      ],
      "text/plain": [
       "                                     AUC logloss_train logloss_valid\n",
       "base_no_preprocess              0.713148      0.458000      0.467460\n",
       "base_expanded_unr_preprocessed  0.740367      0.444814      0.451924\n",
       "L2 C=1000000                    0.740382      0.444820      0.451817\n",
       "L2 C=100000                     0.740367      0.444815      0.451908\n",
       "L2 C=10000                      0.740378      0.444821      0.451801\n",
       "L2 C=1000                       0.740396      0.444833      0.451667\n",
       "L2 C=100                        0.740464      0.444916      0.451376\n",
       "L2 C=10                         0.740462      0.445266      0.451179\n",
       "L2 C=1                          0.740409      0.446108      0.451118\n",
       "L2 C=0.1                        0.738987      0.448293      0.452567\n",
       "L2 C=0.01                       0.726783      0.457620      0.461948\n",
       "L2 C=0.001                      0.687019      0.485041      0.489665\n",
       "L2 C=0.0001                     0.524474      0.530278      0.533798\n",
       "L2 C=1e-05                      0.475048      0.630065      0.631076\n",
       "L2 C=1e-06                      0.470590      0.684456      0.684583"
      ]
     },
     "execution_count": 49,
     "metadata": {},
     "output_type": "execute_result"
    }
   ],
   "source": [
    "view_results_expanded = pd.DataFrame(auc_logloss_expanded_results).T\n",
    "view_results_expanded"
   ]
  },
  {
   "cell_type": "code",
   "execution_count": 50,
   "metadata": {
    "scrolled": true
   },
   "outputs": [
    {
     "data": {
      "text/html": [
       "<div>\n",
       "<style scoped>\n",
       "    .dataframe tbody tr th:only-of-type {\n",
       "        vertical-align: middle;\n",
       "    }\n",
       "\n",
       "    .dataframe tbody tr th {\n",
       "        vertical-align: top;\n",
       "    }\n",
       "\n",
       "    .dataframe thead th {\n",
       "        text-align: right;\n",
       "    }\n",
       "</style>\n",
       "<table border=\"1\" class=\"dataframe\">\n",
       "  <thead>\n",
       "    <tr style=\"text-align: right;\">\n",
       "      <th></th>\n",
       "      <th>AUC</th>\n",
       "      <th>logloss_train</th>\n",
       "      <th>logloss_valid</th>\n",
       "    </tr>\n",
       "  </thead>\n",
       "  <tbody>\n",
       "    <tr>\n",
       "      <th>L2 C=100</th>\n",
       "      <td>0.740464</td>\n",
       "      <td>0.444916</td>\n",
       "      <td>0.451376</td>\n",
       "    </tr>\n",
       "  </tbody>\n",
       "</table>\n",
       "</div>"
      ],
      "text/plain": [
       "                    AUC logloss_train logloss_valid\n",
       "L2 C=100       0.740464      0.444916      0.451376"
      ]
     },
     "execution_count": 50,
     "metadata": {},
     "output_type": "execute_result"
    }
   ],
   "source": [
    "# Print the model that gives the highest AUC\n",
    "view_results_expanded[view_results_expanded.AUC == view_results_expanded.AUC.max()]"
   ]
  },
  {
   "cell_type": "code",
   "execution_count": 51,
   "metadata": {
    "scrolled": true
   },
   "outputs": [],
   "source": [
    "# L1 regularized logit for several hyperparameter values on expanded, preprocessed data\n",
    "for i in range(6,-7, -1):\n",
    "    logreg = LogisticRegression(penalty='l1', C=10**i, fit_intercept = False, solver='liblinear')\n",
    "    logreg.fit(train_expanded_preprocessed.drop(['Y', 'Median_household_income'], axis=1), \\\n",
    "               train_expanded_preprocessed['Y'])\n",
    "    \n",
    "    # Calculate AUC (on valid) and log-loss (on train & valid) \n",
    "    auc_logloss_expanded_results = \\\n",
    "        f.store_AUC_and_logloss_results(logreg, \\\n",
    "        'L1 C0={} {}'.format(10**i, (7-len(str(10**i)))*\" \"), True, \\\n",
    "        train_expanded_preprocessed, valid_expanded_preprocessed, \\\n",
    "        ['Y', 'Median_household_income'],  auc_logloss_expanded_results)\n",
    " "
   ]
  },
  {
   "cell_type": "code",
   "execution_count": 52,
   "metadata": {},
   "outputs": [
    {
     "data": {
      "text/html": [
       "<div>\n",
       "<style scoped>\n",
       "    .dataframe tbody tr th:only-of-type {\n",
       "        vertical-align: middle;\n",
       "    }\n",
       "\n",
       "    .dataframe tbody tr th {\n",
       "        vertical-align: top;\n",
       "    }\n",
       "\n",
       "    .dataframe thead th {\n",
       "        text-align: right;\n",
       "    }\n",
       "</style>\n",
       "<table border=\"1\" class=\"dataframe\">\n",
       "  <thead>\n",
       "    <tr style=\"text-align: right;\">\n",
       "      <th></th>\n",
       "      <th>AUC</th>\n",
       "      <th>logloss_train</th>\n",
       "      <th>logloss_valid</th>\n",
       "    </tr>\n",
       "  </thead>\n",
       "  <tbody>\n",
       "    <tr>\n",
       "      <th>base_no_preprocess</th>\n",
       "      <td>0.713148</td>\n",
       "      <td>0.458000</td>\n",
       "      <td>0.467460</td>\n",
       "    </tr>\n",
       "    <tr>\n",
       "      <th>base_expanded_unr_preprocessed</th>\n",
       "      <td>0.740367</td>\n",
       "      <td>0.444814</td>\n",
       "      <td>0.451924</td>\n",
       "    </tr>\n",
       "    <tr>\n",
       "      <th>L2 C=1000000</th>\n",
       "      <td>0.740382</td>\n",
       "      <td>0.444820</td>\n",
       "      <td>0.451817</td>\n",
       "    </tr>\n",
       "    <tr>\n",
       "      <th>L2 C=100000</th>\n",
       "      <td>0.740367</td>\n",
       "      <td>0.444815</td>\n",
       "      <td>0.451908</td>\n",
       "    </tr>\n",
       "    <tr>\n",
       "      <th>L2 C=10000</th>\n",
       "      <td>0.740378</td>\n",
       "      <td>0.444821</td>\n",
       "      <td>0.451801</td>\n",
       "    </tr>\n",
       "    <tr>\n",
       "      <th>L2 C=1000</th>\n",
       "      <td>0.740396</td>\n",
       "      <td>0.444833</td>\n",
       "      <td>0.451667</td>\n",
       "    </tr>\n",
       "    <tr>\n",
       "      <th>L2 C=100</th>\n",
       "      <td>0.740464</td>\n",
       "      <td>0.444916</td>\n",
       "      <td>0.451376</td>\n",
       "    </tr>\n",
       "    <tr>\n",
       "      <th>L2 C=10</th>\n",
       "      <td>0.740462</td>\n",
       "      <td>0.445266</td>\n",
       "      <td>0.451179</td>\n",
       "    </tr>\n",
       "    <tr>\n",
       "      <th>L2 C=1</th>\n",
       "      <td>0.740409</td>\n",
       "      <td>0.446108</td>\n",
       "      <td>0.451118</td>\n",
       "    </tr>\n",
       "    <tr>\n",
       "      <th>L2 C=0.1</th>\n",
       "      <td>0.738987</td>\n",
       "      <td>0.448293</td>\n",
       "      <td>0.452567</td>\n",
       "    </tr>\n",
       "    <tr>\n",
       "      <th>L2 C=0.01</th>\n",
       "      <td>0.726783</td>\n",
       "      <td>0.457620</td>\n",
       "      <td>0.461948</td>\n",
       "    </tr>\n",
       "    <tr>\n",
       "      <th>L2 C=0.001</th>\n",
       "      <td>0.687019</td>\n",
       "      <td>0.485041</td>\n",
       "      <td>0.489665</td>\n",
       "    </tr>\n",
       "    <tr>\n",
       "      <th>L2 C=0.0001</th>\n",
       "      <td>0.524474</td>\n",
       "      <td>0.530278</td>\n",
       "      <td>0.533798</td>\n",
       "    </tr>\n",
       "    <tr>\n",
       "      <th>L2 C=1e-05</th>\n",
       "      <td>0.475048</td>\n",
       "      <td>0.630065</td>\n",
       "      <td>0.631076</td>\n",
       "    </tr>\n",
       "    <tr>\n",
       "      <th>L2 C=1e-06</th>\n",
       "      <td>0.470590</td>\n",
       "      <td>0.684456</td>\n",
       "      <td>0.684583</td>\n",
       "    </tr>\n",
       "    <tr>\n",
       "      <th>L1 C0=1000000</th>\n",
       "      <td>0.740324</td>\n",
       "      <td>0.444804</td>\n",
       "      <td>0.453692</td>\n",
       "    </tr>\n",
       "    <tr>\n",
       "      <th>L1 C0=100000</th>\n",
       "      <td>0.740325</td>\n",
       "      <td>0.444804</td>\n",
       "      <td>0.453156</td>\n",
       "    </tr>\n",
       "    <tr>\n",
       "      <th>L1 C0=10000</th>\n",
       "      <td>0.740327</td>\n",
       "      <td>0.444805</td>\n",
       "      <td>0.452621</td>\n",
       "    </tr>\n",
       "    <tr>\n",
       "      <th>L1 C0=1000</th>\n",
       "      <td>0.740338</td>\n",
       "      <td>0.444809</td>\n",
       "      <td>0.452086</td>\n",
       "    </tr>\n",
       "    <tr>\n",
       "      <th>L1 C0=100</th>\n",
       "      <td>0.740481</td>\n",
       "      <td>0.444853</td>\n",
       "      <td>0.451581</td>\n",
       "    </tr>\n",
       "    <tr>\n",
       "      <th>L1 C0=10</th>\n",
       "      <td>0.740327</td>\n",
       "      <td>0.445281</td>\n",
       "      <td>0.451376</td>\n",
       "    </tr>\n",
       "    <tr>\n",
       "      <th>L1 C0=1</th>\n",
       "      <td>0.740286</td>\n",
       "      <td>0.446345</td>\n",
       "      <td>0.451103</td>\n",
       "    </tr>\n",
       "    <tr>\n",
       "      <th>L1 C0=0.1</th>\n",
       "      <td>0.738293</td>\n",
       "      <td>0.449629</td>\n",
       "      <td>0.452836</td>\n",
       "    </tr>\n",
       "    <tr>\n",
       "      <th>L1 C0=0.01</th>\n",
       "      <td>0.712663</td>\n",
       "      <td>0.465628</td>\n",
       "      <td>0.469000</td>\n",
       "    </tr>\n",
       "    <tr>\n",
       "      <th>L1 C0=0.001</th>\n",
       "      <td>0.500000</td>\n",
       "      <td>0.510828</td>\n",
       "      <td>0.515650</td>\n",
       "    </tr>\n",
       "    <tr>\n",
       "      <th>L1 C0=0.0001</th>\n",
       "      <td>0.500000</td>\n",
       "      <td>0.595497</td>\n",
       "      <td>0.597071</td>\n",
       "    </tr>\n",
       "    <tr>\n",
       "      <th>L1 C0=1e-05</th>\n",
       "      <td>0.500000</td>\n",
       "      <td>0.693147</td>\n",
       "      <td>0.693147</td>\n",
       "    </tr>\n",
       "    <tr>\n",
       "      <th>L1 C0=1e-06</th>\n",
       "      <td>0.500000</td>\n",
       "      <td>0.693147</td>\n",
       "      <td>0.693147</td>\n",
       "    </tr>\n",
       "  </tbody>\n",
       "</table>\n",
       "</div>"
      ],
      "text/plain": [
       "                                     AUC logloss_train logloss_valid\n",
       "base_no_preprocess              0.713148      0.458000      0.467460\n",
       "base_expanded_unr_preprocessed  0.740367      0.444814      0.451924\n",
       "L2 C=1000000                    0.740382      0.444820      0.451817\n",
       "L2 C=100000                     0.740367      0.444815      0.451908\n",
       "L2 C=10000                      0.740378      0.444821      0.451801\n",
       "L2 C=1000                       0.740396      0.444833      0.451667\n",
       "L2 C=100                        0.740464      0.444916      0.451376\n",
       "L2 C=10                         0.740462      0.445266      0.451179\n",
       "L2 C=1                          0.740409      0.446108      0.451118\n",
       "L2 C=0.1                        0.738987      0.448293      0.452567\n",
       "L2 C=0.01                       0.726783      0.457620      0.461948\n",
       "L2 C=0.001                      0.687019      0.485041      0.489665\n",
       "L2 C=0.0001                     0.524474      0.530278      0.533798\n",
       "L2 C=1e-05                      0.475048      0.630065      0.631076\n",
       "L2 C=1e-06                      0.470590      0.684456      0.684583\n",
       "L1 C0=1000000                   0.740324      0.444804      0.453692\n",
       "L1 C0=100000                    0.740325      0.444804      0.453156\n",
       "L1 C0=10000                     0.740327      0.444805      0.452621\n",
       "L1 C0=1000                      0.740338      0.444809      0.452086\n",
       "L1 C0=100                       0.740481      0.444853      0.451581\n",
       "L1 C0=10                        0.740327      0.445281      0.451376\n",
       "L1 C0=1                         0.740286      0.446345      0.451103\n",
       "L1 C0=0.1                       0.738293      0.449629      0.452836\n",
       "L1 C0=0.01                      0.712663      0.465628      0.469000\n",
       "L1 C0=0.001                     0.500000      0.510828      0.515650\n",
       "L1 C0=0.0001                    0.500000      0.595497      0.597071\n",
       "L1 C0=1e-05                     0.500000      0.693147      0.693147\n",
       "L1 C0=1e-06                     0.500000      0.693147      0.693147"
      ]
     },
     "execution_count": 52,
     "metadata": {},
     "output_type": "execute_result"
    }
   ],
   "source": [
    "view_results_expanded = pd.DataFrame(auc_logloss_expanded_results).T\n",
    "view_results_expanded"
   ]
  },
  {
   "cell_type": "code",
   "execution_count": 53,
   "metadata": {
    "scrolled": true
   },
   "outputs": [
    {
     "data": {
      "text/html": [
       "<div>\n",
       "<style scoped>\n",
       "    .dataframe tbody tr th:only-of-type {\n",
       "        vertical-align: middle;\n",
       "    }\n",
       "\n",
       "    .dataframe tbody tr th {\n",
       "        vertical-align: top;\n",
       "    }\n",
       "\n",
       "    .dataframe thead th {\n",
       "        text-align: right;\n",
       "    }\n",
       "</style>\n",
       "<table border=\"1\" class=\"dataframe\">\n",
       "  <thead>\n",
       "    <tr style=\"text-align: right;\">\n",
       "      <th></th>\n",
       "      <th>AUC</th>\n",
       "      <th>logloss_train</th>\n",
       "      <th>logloss_valid</th>\n",
       "    </tr>\n",
       "  </thead>\n",
       "  <tbody>\n",
       "    <tr>\n",
       "      <th>L1 C0=100</th>\n",
       "      <td>0.740481</td>\n",
       "      <td>0.444853</td>\n",
       "      <td>0.451581</td>\n",
       "    </tr>\n",
       "  </tbody>\n",
       "</table>\n",
       "</div>"
      ],
      "text/plain": [
       "                     AUC logloss_train logloss_valid\n",
       "L1 C0=100       0.740481      0.444853      0.451581"
      ]
     },
     "execution_count": 53,
     "metadata": {},
     "output_type": "execute_result"
    }
   ],
   "source": [
    "# Print the model that gives the highest AUC\n",
    "view_results_expanded[view_results_expanded.AUC == view_results_expanded.AUC.max()]"
   ]
  },
  {
   "cell_type": "code",
   "execution_count": 54,
   "metadata": {},
   "outputs": [
    {
     "data": {
      "text/plain": [
       "{'base_2_preprocess, threshold of 0.5': {'fpr': '0.021', 'fnr': '0.898'},\n",
       " 'base_expanded_unr_preprocessed': {'fpr': '0.026', 'fnr': '0.876'},\n",
       " 'L1_C100_expanded_preprocessed': {'fpr': '0.026', 'fnr': '0.876'}}"
      ]
     },
     "execution_count": 54,
     "metadata": {},
     "output_type": "execute_result"
    }
   ],
   "source": [
    "# Calculate % of false positives and false negatives for L1 with C=100 on the expanded dataset\n",
    "logreg_L1_C100 = LogisticRegression(penalty='l1', C=100, fit_intercept = False, solver='liblinear')\n",
    "logreg_L1_C100.fit(train_expanded_preprocessed.drop(['Y', 'Median_household_income'], axis=1), \\\n",
    "               train_expanded_preprocessed['Y'])\n",
    "\n",
    "fpr_and_fnr_results = \\\n",
    "    f.store_fpr_and_fnr_results(logreg_L1_C100, \\\n",
    "    'L1_C100_expanded_preprocessed', True, \\\n",
    "    valid_expanded_preprocessed, ['Y', 'Median_household_income'], 0.5, fpr_and_fnr_results)\n",
    "fpr_and_fnr_results"
   ]
  },
  {
   "cell_type": "markdown",
   "metadata": {},
   "source": [
    "**Results of using all available categories/labels in categorical variables:**\n",
    "\n",
    "Overall, using a complete set of labels in categorical variables makes models more nuanced, increases AUC, and lowers log-loss (at least for as long as regularization is not too strong). The best performer (as measured by AUC) on the expanded dataset is L1 regularized model with hyperparamer C=100.\n",
    "\n",
    "- AUC on original dataset with groupped categories (unregularized, best perfomer on dataset with groupped categories): 0.713148\n",
    "- AUC on expanded dataset (unregularized): 0.740367\n",
    "- AUC on expanded dataset (best performer on expanded dataset, L1 with C=100): 0.74048\n",
    "\n",
    "\n",
    "- Log-loss on original dataset with groupped categories (unregularized, best perfomer on dataset with groupped categories): 0.458000 (on train)\n",
    "- Log-loss on expanded dataset (unregularized): 0.444814\n",
    "- Log-loss on expanded dataset (best performer on expanded dataset, L1 with C=100): 0.444853\n",
    "\n",
    "\n",
    "- **Additional, smaller categories that made it into the model this time added some valuable information as even the unregularized model's (most prone to overfitting due to noise) AUC went up from 0.7131 to 0.7404 and log-loss slightly declined.** \n",
    "- **However, these effects seem small, and the value-added to the predictive power of our model is very marginal. Note that FNR or Pr(Type II error)=87.6% is still pretty high on the expanded set that uses all categories and regularization (went down by only 2 percentage points for the decision threshold of 0.5!).** \n",
    "- **Noise and overfitting do not seem to be a big issue as the unregularized model performs very similarly to the best perfomer L1 with C=100 (on the expanded set). In addition, log-loss on train and validation datasets are very close, what indicates that the models are neither overfit nor underfit.** \n",
    "\n"
   ]
  },
  {
   "cell_type": "markdown",
   "metadata": {},
   "source": [
    "## 6. Balanced outcome"
   ]
  },
  {
   "cell_type": "markdown",
   "metadata": {},
   "source": [
    "One other issue that I explore is the unbalanced nature of the outcome variable. Even though the case here is not as extreme as 1:99, for example, the ratio of positive to negative outcomes is roughly 20:80, i.e., still quite unbalanced. This means that the model favors predicting the negative outcome, and we have very high Pr(Type II error). One could perform downsampling or upsampling to arrive at a more balanced distribution of labels in the outcome. I choose a simpler, more practical way to examine this issue by utilizing 'class_weight' option in the sklearn's logistic regression package."
   ]
  },
  {
   "cell_type": "code",
   "execution_count": 8,
   "metadata": {
    "scrolled": true
   },
   "outputs": [
    {
     "name": "stdout",
     "output_type": "stream",
     "text": [
      "% of negative and positive outcomes: \n"
     ]
    },
    {
     "data": {
      "text/plain": [
       "0    0.792637\n",
       "1    0.207363\n",
       "Name: Y, dtype: float64"
      ]
     },
     "execution_count": 8,
     "metadata": {},
     "output_type": "execute_result"
    }
   ],
   "source": [
    "print('% of negative and positive outcomes: ')\n",
    "df_expanded.Y.value_counts()/df_expanded.shape[0]"
   ]
  },
  {
   "cell_type": "code",
   "execution_count": 15,
   "metadata": {
    "scrolled": true
   },
   "outputs": [],
   "source": [
    "# L2 regularized logit with balanced class weight for several hyperparameter values on expanded, preprocessed data\n",
    "auc_logloss_balanced_results = {}\n",
    "for i in range(6,-7, -1):\n",
    "    logreg = LogisticRegression(C=10**i, fit_intercept = False, class_weight='balanced', \\\n",
    "            solver='liblinear')\n",
    "    logreg.fit(train_expanded_preprocessed.drop(['Y', 'Median_household_income'], axis=1), \\\n",
    "            train_expanded_preprocessed['Y'])\n",
    "    \n",
    "    # Calculate AUC (on valid) and log-loss (on train & valid) \n",
    "    auc_logloss_balanced_results = \\\n",
    "        f.store_AUC_and_logloss_results(logreg, \\\n",
    "        'L2 C={} {}'.format(10**i, (7-len(str(10**i)))*\" \"), True, \\\n",
    "        train_expanded_preprocessed, valid_expanded_preprocessed, \\\n",
    "        ['Y', 'Median_household_income'],  auc_logloss_balanced_results)\n",
    " "
   ]
  },
  {
   "cell_type": "code",
   "execution_count": 16,
   "metadata": {
    "scrolled": true
   },
   "outputs": [],
   "source": [
    "# L1 regularized logit with balanced class weight for several hyperparameter values on expanded, preprocessed data\n",
    "for i in range(6,-7, -1):\n",
    "    logreg = LogisticRegression(penalty='l1',C=10**i, fit_intercept=False, \\\n",
    "                                class_weight='balanced', solver='liblinear' )\n",
    "    logreg.fit(train_expanded_preprocessed.drop(['Y', 'Median_household_income'], axis=1), \\\n",
    "               train_expanded_preprocessed['Y'])\n",
    "    \n",
    "    # Calculate AUC (on valid) and log-loss (on train & valid) \n",
    "    auc_logloss_balanced_results = \\\n",
    "        f.store_AUC_and_logloss_results(logreg, \\\n",
    "        'L1 C0={} {}'.format(10**i, (7-len(str(10**i)))*\" \"), True, \\\n",
    "        train_expanded_preprocessed, valid_expanded_preprocessed, \\\n",
    "        ['Y', 'Median_household_income'],  auc_logloss_balanced_results)\n"
   ]
  },
  {
   "cell_type": "code",
   "execution_count": 55,
   "metadata": {},
   "outputs": [
    {
     "data": {
      "text/html": [
       "<div>\n",
       "<style scoped>\n",
       "    .dataframe tbody tr th:only-of-type {\n",
       "        vertical-align: middle;\n",
       "    }\n",
       "\n",
       "    .dataframe tbody tr th {\n",
       "        vertical-align: top;\n",
       "    }\n",
       "\n",
       "    .dataframe thead th {\n",
       "        text-align: right;\n",
       "    }\n",
       "</style>\n",
       "<table border=\"1\" class=\"dataframe\">\n",
       "  <thead>\n",
       "    <tr style=\"text-align: right;\">\n",
       "      <th></th>\n",
       "      <th>AUC</th>\n",
       "      <th>logloss_train</th>\n",
       "      <th>logloss_valid</th>\n",
       "    </tr>\n",
       "  </thead>\n",
       "  <tbody>\n",
       "    <tr>\n",
       "      <th>L2 C=1</th>\n",
       "      <td>0.740580</td>\n",
       "      <td>0.599034</td>\n",
       "      <td>0.599486</td>\n",
       "    </tr>\n",
       "  </tbody>\n",
       "</table>\n",
       "</div>"
      ],
      "text/plain": [
       "                    AUC logloss_train logloss_valid\n",
       "L2 C=1         0.740580      0.599034      0.599486"
      ]
     },
     "execution_count": 55,
     "metadata": {},
     "output_type": "execute_result"
    }
   ],
   "source": [
    "# Print the model that gives the highest AUC\n",
    "view_results_balanced = pd.DataFrame(auc_logloss_balanced_results).T\n",
    "view_results_balanced[view_results_balanced.AUC == view_results_balanced.AUC.max()]"
   ]
  },
  {
   "cell_type": "code",
   "execution_count": 56,
   "metadata": {},
   "outputs": [
    {
     "data": {
      "text/plain": [
       "{'base_2_preprocess, threshold of 0.5': {'fpr': '0.021', 'fnr': '0.898'},\n",
       " 'base_expanded_unr_preprocessed': {'fpr': '0.026', 'fnr': '0.876'},\n",
       " 'L1_C100_expanded_preprocessed': {'fpr': '0.026', 'fnr': '0.876'},\n",
       " 'L2_C1_expanded_balanced_w': {'fpr': '0.340', 'fnr': '0.317'}}"
      ]
     },
     "execution_count": 56,
     "metadata": {},
     "output_type": "execute_result"
    }
   ],
   "source": [
    "# Calculate % of false positives and false negatives for L2 with C=1 on the \n",
    "# expanded dataset with balanced weights\n",
    "logreg_L2_C1 = LogisticRegression(penalty='l2', C=1, fit_intercept = False, \\\n",
    "                                  class_weight='balanced', solver='liblinear')\n",
    "logreg_L2_C1.fit(train_expanded_preprocessed.drop(['Y', 'Median_household_income'], axis=1), \\\n",
    "               train_expanded_preprocessed['Y'])\n",
    "    \n",
    "fpr_and_fnr_results = \\\n",
    "    f.store_fpr_and_fnr_results(logreg_L2_C1, \\\n",
    "    'L2_C1_expanded_balanced_w', True, \\\n",
    "    valid_expanded_preprocessed, ['Y', 'Median_household_income'], 0.5, fpr_and_fnr_results)\n",
    "fpr_and_fnr_results"
   ]
  },
  {
   "cell_type": "code",
   "execution_count": 118,
   "metadata": {},
   "outputs": [
    {
     "data": {
      "image/png": "[encoded data removed]",
      "text/plain": [
       "<Figure size 432x288 with 1 Axes>"
      ]
     },
     "metadata": {
      "needs_background": "light"
     },
     "output_type": "display_data"
    },
    {
     "data": {
      "image/png": "[encoded data removed]",
      "text/plain": [
       "<Figure size 432x288 with 1 Axes>"
      ]
     },
     "metadata": {
      "needs_background": "light"
     },
     "output_type": "display_data"
    }
   ],
   "source": [
    "# Plot Histograms of Predicted Probabilities when Y=1 and Y=1 using validation set\n",
    "Y_and_Y_hat_balanced = f.actual_and_predicted_values(logreg_L2_C1, \\\n",
    "                        valid_expanded_preprocessed, True, \\\n",
    "                        ['Y', 'Median_household_income'])\n",
    "f.predicted_proba_histograms_by_Y(Y_and_Y_hat_balanced)"
   ]
  },
  {
   "cell_type": "code",
   "execution_count": 119,
   "metadata": {},
   "outputs": [
    {
     "data": {
      "text/plain": [
       "{'Balanced weights, threshold of 0.6': {'fpr': '0.186', 'fnr': '0.498'},\n",
       " 'Balanced weights, threshold of 0.55': {'fpr': '0.257', 'fnr': '0.400'},\n",
       " 'Balanced weights, threshold of 0.5': {'fpr': '0.340', 'fnr': '0.317'},\n",
       " 'Balanced weights, threshold of 0.45': {'fpr': '0.428', 'fnr': '0.228'},\n",
       " 'Balanced weights, threshold of 0.4': {'fpr': '0.517', 'fnr': '0.158'},\n",
       " 'Balanced weights, threshold of 0.35': {'fpr': '0.604', 'fnr': '0.107'},\n",
       " 'Balanced weights, threshold of 0.3': {'fpr': '0.696', 'fnr': '0.074'},\n",
       " 'Balanced weights, threshold of 0.25': {'fpr': '0.784', 'fnr': '0.041'},\n",
       " 'Balanced weights, threshold of 0.2': {'fpr': '0.853', 'fnr': '0.018'}}"
      ]
     },
     "execution_count": 119,
     "metadata": {},
     "output_type": "execute_result"
    }
   ],
   "source": [
    "# Calculate % of false positives and false negatives on the 'balanced weights best performer'\n",
    "fpr_and_fnr_results_balanced = {}\n",
    "for i in  [i/100 for i in range(60,15,-5)]:\n",
    "    fpr_and_fnr_results_balanced = \\\n",
    "    f.store_fpr_and_fnr_results(logreg_L2_C1, \\\n",
    "    'Balanced weights, threshold of {}'.format(i), True, valid_expanded_preprocessed, \\\n",
    "    ['Y', 'Median_household_income'], i, fpr_and_fnr_results_balanced)\n",
    "fpr_and_fnr_results_balanced"
   ]
  },
  {
   "cell_type": "code",
   "execution_count": 120,
   "metadata": {},
   "outputs": [
    {
     "data": {
      "text/plain": [
       "{'base_no_preprocess, threshold of 0.6': {'fpr': '0.008', 'fnr': '0.943'},\n",
       " 'base_no_preprocess, threshold of 0.55': {'fpr': '0.012', 'fnr': '0.927'},\n",
       " 'base_no_preprocess, threshold of 0.5': {'fpr': '0.021', 'fnr': '0.898'},\n",
       " 'base_no_preprocess, threshold of 0.45': {'fpr': '0.041', 'fnr': '0.836'},\n",
       " 'base_no_preprocess, threshold of 0.4': {'fpr': '0.070', 'fnr': '0.743'},\n",
       " 'base_no_preprocess, threshold of 0.35': {'fpr': '0.103', 'fnr': '0.661'},\n",
       " 'base_no_preprocess, threshold of 0.3': {'fpr': '0.150', 'fnr': '0.590'},\n",
       " 'base_no_preprocess, threshold of 0.25': {'fpr': '0.237', 'fnr': '0.473'},\n",
       " 'base_no_preprocess, threshold of 0.2': {'fpr': '0.366', 'fnr': '0.327'}}"
      ]
     },
     "execution_count": 120,
     "metadata": {},
     "output_type": "execute_result"
    }
   ],
   "source": [
    "# Print baseline fpr and fnr results from above\n",
    "fpr_and_fnr_results_base"
   ]
  },
  {
   "cell_type": "code",
   "execution_count": null,
   "metadata": {},
   "outputs": [],
   "source": [
    "AUC on expanded dataset (unregularized): 0.740367\n",
    "AUC on expanded dataset (best performer on expanded dataset, L1 with C=100): 0.74048"
   ]
  },
  {
   "cell_type": "markdown",
   "metadata": {},
   "source": [
    "**Results of using balanced weights:**\n",
    "\n",
    "- With balanced class weights, the L2 model with hyperparameter C=1 gives the highest AUC of 0.740580. This is a relatively minor improvement upon the L1 regularized model with C=100 and \"as is\" unbalanced class weights, where AUC is 0.74048. \n",
    "\n",
    "\n",
    "- The best performer with balanced weights has a much higher training-set log-loss of 0.599034. It is even higher than the training-set log-loss in the first, unregularized model on the dataset with groupped categories (0.458000). This is likely due to the higher weights on the minority class added to the loss function.\n",
    "\n",
    "\n",
    "- Histograms of predicted probabilities with balanced weights reveal a more desirable right-side skewness when Y=1 => a lower false negative rate at the majority of threshold values as more true positives are now correctly classified as positives.\n",
    "\n",
    "\n",
    "- However, for Y=0 the histogram of predicted probabilities is now more centered rather than left-skewed as before => more true negatives are now also identified as positives => higher false positive rate. \n",
    "\n",
    "\n",
    "- So, what do balanced weights achieve? A slightly higher AUC and a stronger bias towards the positive class than before but with a trade-off: the model is now predicting more positive outcomes, and we have a lower false negative rate (when Y=1) but a higher false positive rate (when Y=0). The model starts favoring the majority (negative) class less and starts predicting more of positive outcomes. As a result, for the given decision threshold of 0.5, the FNR falls from 0.898 to 0.317 (because we have more predicted positive labels now) but FPR increases from 0.021 to 0.340. Note that in an unbalanced model, we achieve a similar (FPR, FNR) = (0.366, 0.327) trade-off with a decision threshold of 0.2 that gives us more positive predictions than the decision threshold of 0.5.\n",
    "\n",
    "\n",
    "Next, instead of using zip code-level information captured in ACS (Census) prerocessed variables, I use zip code dummies instead. Remember that zip code dummies capture more or less permanent differences across zip codes (e.g., size, zip code's \"typical\" socio-economic ranking relative to other zip codes, etc.). \n",
    "\n",
    "Note that there are over 15,000 zip codes in the CFPB dataset. Some of the zip codes have been partially masked (e.g., the last two digits were replaced by 'XX'). So, I take 3-digit zip codes instead of 5-digit ones and include their dummies in the regression. The hope is that more granular geographic information could potentially give additional levers to correctly separate positive and negative outcomes. \n",
    "\n",
    "Because the model with balanced weights gave me the highest AUC so far, all models with zip codes will be trained with balanced weights as well.\n"
   ]
  },
  {
   "cell_type": "markdown",
   "metadata": {},
   "source": [
    "## 7. Including Zip Codes"
   ]
  },
  {
   "cell_type": "code",
   "execution_count": 123,
   "metadata": {
    "scrolled": true
   },
   "outputs": [
    {
     "name": "stdout",
     "output_type": "stream",
     "text": [
      "--- # of categories in variable 'Issue':  33\n",
      "\n",
      "--- 'Consumer complaint narrative' is either NUll or contains text of a complaint \n",
      "\n",
      "--- # of companies:  418\n",
      "\n",
      "--- # of U.S. states and territories:  62\n",
      "\n",
      "--- # of Tags:  3\n",
      "\n",
      "--- # of categories in 'Consumer consent provided?':  3\n",
      "\n",
      "--- # of Submission categories:  6\n",
      "\n",
      "--- Binary variable 'Timely_response'\n",
      "\n",
      "--- Varibale Year\n",
      "\n",
      "--- Variable Month\n",
      "\n",
      "--- Add constant term\n",
      "\n",
      "Done creating dummy variables\n",
      "______________________________________\n",
      "# of 3-digit zip codes:  939\n",
      "\n",
      "Done creating 3-digit ZIP code dummies\n",
      "______________________________________\n",
      "Done dropping redundant columns\n",
      "______________________________________\n",
      "Size of transformed file with zip code dummies: (85835, 1482)\n"
     ]
    }
   ],
   "source": [
    "# Load the original CFPB data\n",
    "df_zip =pd.read_csv(directory+'Consumer_Complaints_loaded_March20_2017.csv', header = 0, sep = ',', dtype = 'str')\n",
    "\n",
    "# This function creates non-zip code dummies and adds a constant term\n",
    "df_zip = p.create_dummies_fn(df_zip)\n",
    "\n",
    "# This function creates zip code dummies\n",
    "df_zip = p.zip_code_dummies(df_zip)\n",
    "\n",
    "# This function drops original CFPB variables (e.g., 'Issue', 'ZIP code', 'Company', etc.)\n",
    "df_zip= p.drop_columns_for_logit(df_zip)\n",
    "\n",
    "print('Size of transformed file with zip code dummies:', df_zip.shape)\n"
   ]
  },
  {
   "cell_type": "code",
   "execution_count": 124,
   "metadata": {
    "scrolled": true
   },
   "outputs": [
    {
     "name": "stdout",
     "output_type": "stream",
     "text": [
      "Size of zip train, valid, and test files:  (51501, 1482) (17167, 1482) (17167, 1482)\n",
      "\n"
     ]
    }
   ],
   "source": [
    "#Create train, validation, and test sets \n",
    "train_zip = df_zip.sample(frac=0.6,replace = False, random_state=200)\n",
    "temp_zip = df_zip.drop(train_zip.index)\n",
    "valid_zip = temp_zip.sample(frac=0.5,replace = False, random_state=100)\n",
    "test_zip = temp_zip.drop(valid_zip.index)\n",
    "print(\"Size of zip train, valid, and test files: \", train_zip.shape, \\\n",
    "      valid_zip.shape, test_zip.shape)\n",
    "print()   \n",
    "\n",
    "# No preprocessing is necessary as all features are dummy variables"
   ]
  },
  {
   "cell_type": "code",
   "execution_count": 142,
   "metadata": {
    "scrolled": false
   },
   "outputs": [],
   "source": [
    "auc_logloss_zip_results = {}\n",
    "# L2 regularized logit for several hyperparameter values on expanded data with \n",
    "# 3-digit zip code dummies\n",
    "for i in range(6,-7, -1):\n",
    "    logreg = LogisticRegression(C=10**i, fit_intercept = False, \\\n",
    "             class_weight='balanced', solver='liblinear')\n",
    "    logreg.fit(train_zip.drop(['Y'], axis=1), train_zip['Y'])\n",
    "    \n",
    "    # Calculate AUC (on valid) and log-loss (on train & valid) \n",
    "    auc_logloss_zip_results = \\\n",
    "        f.store_AUC_and_logloss_results(logreg, \\\n",
    "        'L2 C={} {}'.format(10**i, (7-len(str(10**i)))*\" \"), True, \\\n",
    "        train_zip, valid_zip, ['Y'],  auc_logloss_zip_results)\n"
   ]
  },
  {
   "cell_type": "code",
   "execution_count": 144,
   "metadata": {
    "scrolled": true
   },
   "outputs": [],
   "source": [
    "# L1 regularized logit with balanced class weight for several hyperparameter values on expanded data \n",
    "# with 3-digit zip code dummies\n",
    "for i in range(6,-7, -1):\n",
    "    logreg = LogisticRegression(penalty='l1',C=10**i, fit_intercept = False, \\\n",
    "             class_weight='balanced', solver='liblinear')\n",
    "    logreg.fit(train_zip.drop(['Y'], axis=1), train_zip['Y'])\n",
    "    \n",
    "    # Calculate AUC (on valid) and log-loss (on train & valid) \n",
    "    auc_logloss_zip_results = \\\n",
    "        f.store_AUC_and_logloss_results(logreg, \\\n",
    "        'L1 C0={} {}'.format(10**i, (7-len(str(10**i)))*\" \"), True, \\\n",
    "        train_zip, valid_zip, ['Y'],  auc_logloss_zip_results)"
   ]
  },
  {
   "cell_type": "code",
   "execution_count": 145,
   "metadata": {},
   "outputs": [
    {
     "data": {
      "text/html": [
       "<div>\n",
       "<style scoped>\n",
       "    .dataframe tbody tr th:only-of-type {\n",
       "        vertical-align: middle;\n",
       "    }\n",
       "\n",
       "    .dataframe tbody tr th {\n",
       "        vertical-align: top;\n",
       "    }\n",
       "\n",
       "    .dataframe thead th {\n",
       "        text-align: right;\n",
       "    }\n",
       "</style>\n",
       "<table border=\"1\" class=\"dataframe\">\n",
       "  <thead>\n",
       "    <tr style=\"text-align: right;\">\n",
       "      <th></th>\n",
       "      <th>AUC</th>\n",
       "      <th>logloss_train</th>\n",
       "      <th>logloss_valid</th>\n",
       "    </tr>\n",
       "  </thead>\n",
       "  <tbody>\n",
       "    <tr>\n",
       "      <th>L1 C0=0.1</th>\n",
       "      <td>0.740039</td>\n",
       "      <td>0.602398</td>\n",
       "      <td>0.600703</td>\n",
       "    </tr>\n",
       "  </tbody>\n",
       "</table>\n",
       "</div>"
      ],
      "text/plain": [
       "                     AUC logloss_train logloss_valid\n",
       "L1 C0=0.1       0.740039      0.602398      0.600703"
      ]
     },
     "execution_count": 145,
     "metadata": {},
     "output_type": "execute_result"
    }
   ],
   "source": [
    "# Print the model that gives the highest AUC\n",
    "view_results_zip = pd.DataFrame(auc_logloss_zip_results).T\n",
    "view_results_zip[view_results_zip.AUC == view_results_zip.AUC.max()]"
   ]
  },
  {
   "cell_type": "code",
   "execution_count": 148,
   "metadata": {},
   "outputs": [
    {
     "data": {
      "text/plain": [
       "{'base_2_preprocess, threshold of 0.5': {'fpr': '0.021', 'fnr': '0.898'},\n",
       " 'base_expanded_unr_preprocessed': {'fpr': '0.026', 'fnr': '0.876'},\n",
       " 'L1_C100_expanded_preprocessed': {'fpr': '0.026', 'fnr': '0.876'},\n",
       " 'L2_C1_expanded_balanced_w': {'fpr': '0.340', 'fnr': '0.317'},\n",
       " 'L1_C01_zip_balanced_w': {'fpr': '0.336', 'fnr': '0.318'}}"
      ]
     },
     "execution_count": 148,
     "metadata": {},
     "output_type": "execute_result"
    }
   ],
   "source": [
    "# Calculate % of false positives and false negatives for L1 with C=0.1 on \n",
    "# the dataset with 3-digit zip codes\n",
    "logreg_L1_C01 = LogisticRegression(penalty='l1', C=0.1, fit_intercept = False, \\\n",
    "                class_weight='balanced', solver='liblinear')\n",
    "logreg_L1_C01.fit(train_zip.drop(['Y'], axis=1), train_zip['Y'])\n",
    "    \n",
    "fpr_and_fnr_results = \\\n",
    "    f.store_fpr_and_fnr_results(logreg_L1_C01, 'L1_C01_zip_balanced_w', True, \\\n",
    "    valid_zip, ['Y'], 0.5, fpr_and_fnr_results)\n",
    "fpr_and_fnr_results\n"
   ]
  },
  {
   "cell_type": "code",
   "execution_count": 149,
   "metadata": {},
   "outputs": [
    {
     "name": "stdout",
     "output_type": "stream",
     "text": [
      "# of Issue dummies with zero coefficient:  4\n",
      "# of Company dummies with zero coefficient:  390\n",
      "# of State dummies with zero coefficient:  40\n",
      "# of Zip code dummies with zero coefficient:  903\n"
     ]
    }
   ],
   "source": [
    "# Count the number of dummies with estimates zero coefficients (L1 / Lasso regularization)\n",
    "f.count_zero_coefficients(logreg_L1_C01, valid_zip, [\"Y\"])"
   ]
  },
  {
   "cell_type": "code",
   "execution_count": 150,
   "metadata": {},
   "outputs": [
    {
     "data": {
      "text/html": [
       "<div>\n",
       "<style scoped>\n",
       "    .dataframe tbody tr th:only-of-type {\n",
       "        vertical-align: middle;\n",
       "    }\n",
       "\n",
       "    .dataframe tbody tr th {\n",
       "        vertical-align: top;\n",
       "    }\n",
       "\n",
       "    .dataframe thead th {\n",
       "        text-align: right;\n",
       "    }\n",
       "</style>\n",
       "<table border=\"1\" class=\"dataframe\">\n",
       "  <thead>\n",
       "    <tr style=\"text-align: right;\">\n",
       "      <th></th>\n",
       "      <th>0</th>\n",
       "    </tr>\n",
       "  </thead>\n",
       "  <tbody>\n",
       "    <tr>\n",
       "      <th>Issue_Late fee</th>\n",
       "      <td>1.961</td>\n",
       "    </tr>\n",
       "    <tr>\n",
       "      <th>Issue_Other fee</th>\n",
       "      <td>1.701</td>\n",
       "    </tr>\n",
       "    <tr>\n",
       "      <th>Issue_Cash advance fee</th>\n",
       "      <td>1.316</td>\n",
       "    </tr>\n",
       "    <tr>\n",
       "      <th>Issue_Billing disputes</th>\n",
       "      <td>1.094</td>\n",
       "    </tr>\n",
       "    <tr>\n",
       "      <th>Issue_Balance transfer fee</th>\n",
       "      <td>0.999</td>\n",
       "    </tr>\n",
       "    <tr>\n",
       "      <th>Issue_Balance transfer</th>\n",
       "      <td>0.988</td>\n",
       "    </tr>\n",
       "    <tr>\n",
       "      <th>Company_Citibank</th>\n",
       "      <td>0.966</td>\n",
       "    </tr>\n",
       "    <tr>\n",
       "      <th>Issue_Overlimit fee</th>\n",
       "      <td>0.940</td>\n",
       "    </tr>\n",
       "    <tr>\n",
       "      <th>Issue_Transaction issue</th>\n",
       "      <td>0.891</td>\n",
       "    </tr>\n",
       "    <tr>\n",
       "      <th>Company_Barclays PLC</th>\n",
       "      <td>0.871</td>\n",
       "    </tr>\n",
       "    <tr>\n",
       "      <th>Company_Synchrony Financial</th>\n",
       "      <td>0.837</td>\n",
       "    </tr>\n",
       "    <tr>\n",
       "      <th>Issue_Credit card protection / Debt protection</th>\n",
       "      <td>0.830</td>\n",
       "    </tr>\n",
       "    <tr>\n",
       "      <th>Issue_Billing statement</th>\n",
       "      <td>0.794</td>\n",
       "    </tr>\n",
       "    <tr>\n",
       "      <th>Issue_APR or interest rate</th>\n",
       "      <td>0.763</td>\n",
       "    </tr>\n",
       "    <tr>\n",
       "      <th>Issue_Convenience checks</th>\n",
       "      <td>0.690</td>\n",
       "    </tr>\n",
       "    <tr>\n",
       "      <th>Issue_Payoff process</th>\n",
       "      <td>0.622</td>\n",
       "    </tr>\n",
       "    <tr>\n",
       "      <th>Issue_Cash advance</th>\n",
       "      <td>0.602</td>\n",
       "    </tr>\n",
       "    <tr>\n",
       "      <th>Company_USAA Savings</th>\n",
       "      <td>0.582</td>\n",
       "    </tr>\n",
       "    <tr>\n",
       "      <th>Company_Alliance Data Card Services</th>\n",
       "      <td>0.561</td>\n",
       "    </tr>\n",
       "    <tr>\n",
       "      <th>Company_TD Bank US Holding Company</th>\n",
       "      <td>0.478</td>\n",
       "    </tr>\n",
       "    <tr>\n",
       "      <th>Year_2013</th>\n",
       "      <td>0.384</td>\n",
       "    </tr>\n",
       "    <tr>\n",
       "      <th>Company_PayPal Holdings, Inc.</th>\n",
       "      <td>0.372</td>\n",
       "    </tr>\n",
       "    <tr>\n",
       "      <th>Issue_Identity theft / Fraud / Embezzlement</th>\n",
       "      <td>0.367</td>\n",
       "    </tr>\n",
       "    <tr>\n",
       "      <th>Company_Regions Financial Corporation</th>\n",
       "      <td>0.366</td>\n",
       "    </tr>\n",
       "    <tr>\n",
       "      <th>Company_Discover</th>\n",
       "      <td>0.337</td>\n",
       "    </tr>\n",
       "    <tr>\n",
       "      <th>Submitted_Web</th>\n",
       "      <td>0.318</td>\n",
       "    </tr>\n",
       "    <tr>\n",
       "      <th>Company_Capital One</th>\n",
       "      <td>0.305</td>\n",
       "    </tr>\n",
       "    <tr>\n",
       "      <th>Company_Comerica</th>\n",
       "      <td>0.305</td>\n",
       "    </tr>\n",
       "    <tr>\n",
       "      <th>Issue_Rewards</th>\n",
       "      <td>0.282</td>\n",
       "    </tr>\n",
       "    <tr>\n",
       "      <th>ZIP_152</th>\n",
       "      <td>0.262</td>\n",
       "    </tr>\n",
       "    <tr>\n",
       "      <th>...</th>\n",
       "      <td>...</td>\n",
       "    </tr>\n",
       "    <tr>\n",
       "      <th>Company_JPMorgan Chase &amp; Co.</th>\n",
       "      <td>-0.085</td>\n",
       "    </tr>\n",
       "    <tr>\n",
       "      <th>Issue_Advertising and marketing</th>\n",
       "      <td>-0.090</td>\n",
       "    </tr>\n",
       "    <tr>\n",
       "      <th>Tags_Servicemember</th>\n",
       "      <td>-0.096</td>\n",
       "    </tr>\n",
       "    <tr>\n",
       "      <th>Month_03</th>\n",
       "      <td>-0.098</td>\n",
       "    </tr>\n",
       "    <tr>\n",
       "      <th>ZIP_334</th>\n",
       "      <td>-0.110</td>\n",
       "    </tr>\n",
       "    <tr>\n",
       "      <th>State_NV</th>\n",
       "      <td>-0.129</td>\n",
       "    </tr>\n",
       "    <tr>\n",
       "      <th>ZIP_117</th>\n",
       "      <td>-0.158</td>\n",
       "    </tr>\n",
       "    <tr>\n",
       "      <th>Month_02</th>\n",
       "      <td>-0.161</td>\n",
       "    </tr>\n",
       "    <tr>\n",
       "      <th>ZIP_925</th>\n",
       "      <td>-0.163</td>\n",
       "    </tr>\n",
       "    <tr>\n",
       "      <th>Consent_Consent not provided</th>\n",
       "      <td>-0.174</td>\n",
       "    </tr>\n",
       "    <tr>\n",
       "      <th>State_MS</th>\n",
       "      <td>-0.177</td>\n",
       "    </tr>\n",
       "    <tr>\n",
       "      <th>Timely_response</th>\n",
       "      <td>-0.232</td>\n",
       "    </tr>\n",
       "    <tr>\n",
       "      <th>Company_Portfolio Recovery Associates, Inc.</th>\n",
       "      <td>-0.240</td>\n",
       "    </tr>\n",
       "    <tr>\n",
       "      <th>ZIP_078</th>\n",
       "      <td>-0.246</td>\n",
       "    </tr>\n",
       "    <tr>\n",
       "      <th>Issue_Unsolicited issuance of credit card</th>\n",
       "      <td>-0.264</td>\n",
       "    </tr>\n",
       "    <tr>\n",
       "      <th>Company_PNC Bank N.A.</th>\n",
       "      <td>-0.299</td>\n",
       "    </tr>\n",
       "    <tr>\n",
       "      <th>Company_BB&amp;T Financial</th>\n",
       "      <td>-0.348</td>\n",
       "    </tr>\n",
       "    <tr>\n",
       "      <th>Company_Navy FCU</th>\n",
       "      <td>-0.348</td>\n",
       "    </tr>\n",
       "    <tr>\n",
       "      <th>Company_HSBC North America Holdings Inc.</th>\n",
       "      <td>-0.412</td>\n",
       "    </tr>\n",
       "    <tr>\n",
       "      <th>Consent_Other</th>\n",
       "      <td>-0.437</td>\n",
       "    </tr>\n",
       "    <tr>\n",
       "      <th>Issue_Credit reporting</th>\n",
       "      <td>-0.575</td>\n",
       "    </tr>\n",
       "    <tr>\n",
       "      <th>Company_Continental Finance Company, LLC</th>\n",
       "      <td>-0.712</td>\n",
       "    </tr>\n",
       "    <tr>\n",
       "      <th>Issue_Credit line increase/decrease</th>\n",
       "      <td>-0.825</td>\n",
       "    </tr>\n",
       "    <tr>\n",
       "      <th>Issue_Application processing delay</th>\n",
       "      <td>-0.919</td>\n",
       "    </tr>\n",
       "    <tr>\n",
       "      <th>Issue_Bankruptcy</th>\n",
       "      <td>-0.935</td>\n",
       "    </tr>\n",
       "    <tr>\n",
       "      <th>Issue_Privacy</th>\n",
       "      <td>-1.001</td>\n",
       "    </tr>\n",
       "    <tr>\n",
       "      <th>Company_Encore Capital Group</th>\n",
       "      <td>-1.098</td>\n",
       "    </tr>\n",
       "    <tr>\n",
       "      <th>const</th>\n",
       "      <td>-1.408</td>\n",
       "    </tr>\n",
       "    <tr>\n",
       "      <th>Issue_Credit determination</th>\n",
       "      <td>-1.826</td>\n",
       "    </tr>\n",
       "    <tr>\n",
       "      <th>Year_2011</th>\n",
       "      <td>-3.577</td>\n",
       "    </tr>\n",
       "  </tbody>\n",
       "</table>\n",
       "<p>141 rows × 1 columns</p>\n",
       "</div>"
      ],
      "text/plain": [
       "                                                    0\n",
       "Issue_Late fee                                  1.961\n",
       "Issue_Other fee                                 1.701\n",
       "Issue_Cash advance fee                          1.316\n",
       "Issue_Billing disputes                          1.094\n",
       "Issue_Balance transfer fee                      0.999\n",
       "Issue_Balance transfer                          0.988\n",
       "Company_Citibank                                0.966\n",
       "Issue_Overlimit fee                             0.940\n",
       "Issue_Transaction issue                         0.891\n",
       "Company_Barclays PLC                            0.871\n",
       "Company_Synchrony Financial                     0.837\n",
       "Issue_Credit card protection / Debt protection  0.830\n",
       "Issue_Billing statement                         0.794\n",
       "Issue_APR or interest rate                      0.763\n",
       "Issue_Convenience checks                        0.690\n",
       "Issue_Payoff process                            0.622\n",
       "Issue_Cash advance                              0.602\n",
       "Company_USAA Savings                            0.582\n",
       "Company_Alliance Data Card Services             0.561\n",
       "Company_TD Bank US Holding Company              0.478\n",
       "Year_2013                                       0.384\n",
       "Company_PayPal Holdings, Inc.                   0.372\n",
       "Issue_Identity theft / Fraud / Embezzlement     0.367\n",
       "Company_Regions Financial Corporation           0.366\n",
       "Company_Discover                                0.337\n",
       "Submitted_Web                                   0.318\n",
       "Company_Capital One                             0.305\n",
       "Company_Comerica                                0.305\n",
       "Issue_Rewards                                   0.282\n",
       "ZIP_152                                         0.262\n",
       "...                                               ...\n",
       "Company_JPMorgan Chase & Co.                   -0.085\n",
       "Issue_Advertising and marketing                -0.090\n",
       "Tags_Servicemember                             -0.096\n",
       "Month_03                                       -0.098\n",
       "ZIP_334                                        -0.110\n",
       "State_NV                                       -0.129\n",
       "ZIP_117                                        -0.158\n",
       "Month_02                                       -0.161\n",
       "ZIP_925                                        -0.163\n",
       "Consent_Consent not provided                   -0.174\n",
       "State_MS                                       -0.177\n",
       "Timely_response                                -0.232\n",
       "Company_Portfolio Recovery Associates, Inc.    -0.240\n",
       "ZIP_078                                        -0.246\n",
       "Issue_Unsolicited issuance of credit card      -0.264\n",
       "Company_PNC Bank N.A.                          -0.299\n",
       "Company_BB&T Financial                         -0.348\n",
       "Company_Navy FCU                               -0.348\n",
       "Company_HSBC North America Holdings Inc.       -0.412\n",
       "Consent_Other                                  -0.437\n",
       "Issue_Credit reporting                         -0.575\n",
       "Company_Continental Finance Company, LLC       -0.712\n",
       "Issue_Credit line increase/decrease            -0.825\n",
       "Issue_Application processing delay             -0.919\n",
       "Issue_Bankruptcy                               -0.935\n",
       "Issue_Privacy                                  -1.001\n",
       "Company_Encore Capital Group                   -1.098\n",
       "const                                          -1.408\n",
       "Issue_Credit determination                     -1.826\n",
       "Year_2011                                      -3.577\n",
       "\n",
       "[141 rows x 1 columns]"
      ]
     },
     "execution_count": 150,
     "metadata": {},
     "output_type": "execute_result"
    }
   ],
   "source": [
    "# Print estimated non-zero coefficients in descending order\n",
    "f.display_nonzero_coefficients(logreg_L1_C01,valid_zip, ['Y'])"
   ]
  },
  {
   "cell_type": "markdown",
   "metadata": {},
   "source": [
    "**Results of including zip codes weights:**\n",
    "\n",
    "So now I can compare 3 models:\n",
    "\n",
    "- (1) The best performer (L1 with C=100) on the expanded dataset with preprocessed ACS variables and unbalanced weights\n",
    "- (2) The best performer (L2 with C=1) on the expanded dataset with preprocessed ACS variables and balanced weights\n",
    "- (3) The best performer (L1 with C=0.1) on the expanded dataset with 3-digit zip codes and balanced weights\n",
    "\n",
    "\\#3 (with zip codes and balanced weights) is essentially the same as \\#2 (expanded set with ACS variables and balanced weights), with slightly worse performance: AUC is slightly lower:  0.740039 < 0.740580. And log-loss on train data is slightly higher: 0.602398 > 0.599034.\n",
    "\n",
    "Compared to \\#1, \\#2 is doing better in terms of slightly higher AUC: 0.740580 > 0.740481 but log-loss on the train set is also higher 0.599034 > 0.444853 likely because the weights are increasing the log-loss.\n",
    "\n",
    "Note that the majority of zip code dummy variables were dropped as a result of L1 regularization. Out of 999 zip code dummies, 903 were dropped by the model. In addition, out of 62 U.S. state and territories, coefficients on 40 state dummies were set to zero. 390 Company dummies were estimated with a coefficient of zero (out of 418).\n",
    "\n",
    "**Overall, despite my attempt to obtain more information from a richer set of categories related to State, Zip code, and Company, L1 regularization led me back to a simpler model with a set of predictors similar to those in my original model with category grouppings: for example, the top predictors of monetary relief include dummies related to Late fee, Other fee, Cash advance fee, Billing disputes, Citibank, Synchrony Financial, Barclays, etc.**\n",
    "\n",
    "**Perhaps that is why the performace of logistic models with more nuanced data has not been significantly better: the main predictive signals are well captured in the simpler model, and additional data related to Company, State, and Zip codes likely does not help to better differentiate between positive and negative classes.**\n",
    "\n",
    "**On the other hand, out of 32 included Issue dumies, only 4 were dropped, and some appear to be among 'top' predictors (at least by the coefficient size) (e.g., Cash advance fee). Hence, the inclusion of additional Issue categories seems to have contributed to improving model performance (from the baseline).**"
   ]
  },
  {
   "cell_type": "markdown",
   "metadata": {},
   "source": [
    "## 8. Decision tree modeling for comparison"
   ]
  },
  {
   "cell_type": "markdown",
   "metadata": {},
   "source": [
    "Below I fit a decision tree to the expanded data with preprocessed ACS variables - first, an unregularized tree and then a regularized one by constraining the tree's maximum depth. The purpose of this exercise is to compare the performance of a logistic regression vs a decision tree model. \n",
    "\n",
    "Remember that the performance of unregularized and regularized logit models above was not very different. \n",
    "- One reason for this could be due to data and limited signals in data that can help us differentiate between positive and negatives outcomes.\n",
    "\n",
    "\n",
    "- Another reason could be that the train and validation datasets are very similar. Under a different split of data, the train and validation sets could be sufficiently different and give rise to more overfitting.\n",
    "\n",
    "\n",
    "- Third, unregularized logistic regression is probably less prone to overfitting than unregularized decision trees that can fit training data perfectly. Hence, there should be a larger differential in AUCs between unregularized and regularized decision tree models. "
   ]
  },
  {
   "cell_type": "code",
   "execution_count": 151,
   "metadata": {
    "scrolled": true
   },
   "outputs": [],
   "source": [
    "# Fit an unregularized decision tree on the expanded dataset with 3-digit zip code dummies\n",
    "clf_base = DecisionTreeClassifier(criterion='entropy')\n",
    "clf_base = clf_base.fit(train_expanded_preprocessed.drop(['Y', 'Median_household_income'], \\\n",
    "         axis=1), train_expanded_preprocessed['Y'])"
   ]
  },
  {
   "cell_type": "code",
   "execution_count": 152,
   "metadata": {},
   "outputs": [
    {
     "data": {
      "text/plain": [
       "{'base': 0.5823647750537216}"
      ]
     },
     "execution_count": 152,
     "metadata": {},
     "output_type": "execute_result"
    }
   ],
   "source": [
    "# Calculate AUC\n",
    "y_score_base = clf_base.predict_proba(valid_expanded_preprocessed.drop(['Y', \\\n",
    "                'Median_household_income'], axis=1))[:,1]\n",
    "auc_dt = {}\n",
    "auc_dt['base'] = roc_auc_score(valid_expanded_preprocessed['Y'], y_score_base)\n",
    "auc_dt"
   ]
  },
  {
   "cell_type": "code",
   "execution_count": 153,
   "metadata": {
    "scrolled": true
   },
   "outputs": [
    {
     "data": {
      "text/plain": [
       "{'base': 0.5823647750537216,\n",
       " 'DT 5': 0.6631387391855477,\n",
       " 'DT 10': 0.6898505806229348,\n",
       " 'DT 15': 0.6656326558872102,\n",
       " 'DT 20': 0.6363239607638325,\n",
       " 'DT 25': 0.5979549036458011,\n",
       " 'DT 30': 0.5866328349559474,\n",
       " 'DT 35': 0.574702773027703,\n",
       " 'DT 40': 0.5658215307696516,\n",
       " 'DT 45': 0.5739172308311078,\n",
       " 'DT 50': 0.5698761280075868}"
      ]
     },
     "execution_count": 153,
     "metadata": {},
     "output_type": "execute_result"
    }
   ],
   "source": [
    "# Fit decision trees of various depths. Use validation set to identify the depth \n",
    "# that gives the highest AUC\n",
    "for i in range(5,51, 5):\n",
    "    clf = DecisionTreeClassifier(criterion='entropy', max_depth = i)\n",
    "    clf = clf.fit(train_expanded_preprocessed.drop(['Y', 'Median_household_income'], \\\n",
    "            axis=1), train_expanded_preprocessed['Y'])\n",
    "    y_score = \\\n",
    "        clf.predict_proba(valid_expanded_preprocessed.drop(['Y', 'Median_household_income'],\\\n",
    "        axis=1))[:,1]\n",
    "    auc_dt['DT {}'.format(i)] = roc_auc_score(valid_expanded_preprocessed.Y, y_score)\n",
    "auc_dt\n"
   ]
  },
  {
   "cell_type": "code",
   "execution_count": 155,
   "metadata": {},
   "outputs": [
    {
     "data": {
      "text/plain": [
       "'DT 10'"
      ]
     },
     "execution_count": 155,
     "metadata": {},
     "output_type": "execute_result"
    }
   ],
   "source": [
    "# Print the model that gives the highest AUC\n",
    "max(auc_dt,key=auc_dt.get)"
   ]
  },
  {
   "cell_type": "markdown",
   "metadata": {},
   "source": [
    "As expected, the differential in AUCs is much higher when I use decision tree models. In the unregularized decision tree, AUC is 0.582365. It is much lower than the AUCs in more regularized decision trees with depths of 5, 10, 15, and 20. The AUC in unregularized DT is also much lower than in unregularized logit, likely because of the perfect fit to training data (0.582365 vs 0.713148).\n",
    "\n",
    "The decision tree of depth 10 has the highest AUC of 0.689851. Again, this AUC is below the AUC of 0.740580 of the best logistic model trained on the expanded dataset with preprocessed ACS variables and balanaced weights. This could indicate that the logistic regression is a more suitable model to represent the relationship between predictors and the outcome.\n",
    "\n"
   ]
  },
  {
   "cell_type": "code",
   "execution_count": 156,
   "metadata": {},
   "outputs": [
    {
     "data": {
      "image/png": "[encoded data removed]",
      "text/plain": [
       "<Figure size 432x288 with 1 Axes>"
      ]
     },
     "metadata": {
      "needs_background": "light"
     },
     "output_type": "display_data"
    },
    {
     "data": {
      "image/png": "[encoded data removed]",
      "text/plain": [
       "<Figure size 432x288 with 1 Axes>"
      ]
     },
     "metadata": {
      "needs_background": "light"
     },
     "output_type": "display_data"
    }
   ],
   "source": [
    "# Plot Histograms of predicted probabilities when Y=1 and Y=1 using validation set\n",
    "# (unregularized decision tree)\n",
    "Y_and_Y_hat_dt_unr = f.actual_and_predicted_values(clf_base, \\\n",
    "                        valid_expanded_preprocessed, True, \\\n",
    "                        ['Y', 'Median_household_income'])\n",
    "f.predicted_proba_histograms_by_Y(Y_and_Y_hat_dt_unr)"
   ]
  },
  {
   "cell_type": "code",
   "execution_count": 157,
   "metadata": {
    "scrolled": true
   },
   "outputs": [],
   "source": [
    "# Fit a decision tree of depth 10.\n",
    "clf_d10 = DecisionTreeClassifier(criterion='entropy', max_depth = 10)\n",
    "clf_d10 = clf_d10.fit(train_expanded_preprocessed.drop(['Y', 'Median_household_income'], \\\n",
    "         axis=1), train_expanded_preprocessed['Y'])\n"
   ]
  },
  {
   "cell_type": "code",
   "execution_count": 160,
   "metadata": {},
   "outputs": [
    {
     "data": {
      "image/png": "[encoded data removed]",
      "text/plain": [
       "<Figure size 432x288 with 1 Axes>"
      ]
     },
     "metadata": {
      "needs_background": "light"
     },
     "output_type": "display_data"
    },
    {
     "data": {
      "image/png": "[encoded data removed]",
      "text/plain": [
       "<Figure size 432x288 with 1 Axes>"
      ]
     },
     "metadata": {
      "needs_background": "light"
     },
     "output_type": "display_data"
    }
   ],
   "source": [
    "# Plot histograms of predicted probabilities for Y=1 and Y=0 (decision tree of depth 10)\n",
    "Y_and_Y_hat_dt_d10 = f.actual_and_predicted_values(clf_d10, \\\n",
    "                        valid_expanded_preprocessed, True, \\\n",
    "                        ['Y', 'Median_household_income'])\n",
    "f.predicted_proba_histograms_by_Y(Y_and_Y_hat_dt_d10)"
   ]
  },
  {
   "cell_type": "code",
   "execution_count": 161,
   "metadata": {},
   "outputs": [
    {
     "data": {
      "text/plain": [
       "{'base_2_preprocess, threshold of 0.5': {'fpr': '0.021', 'fnr': '0.898'},\n",
       " 'base_expanded_unr_preprocessed': {'fpr': '0.026', 'fnr': '0.876'},\n",
       " 'L1_C100_expanded_preprocessed': {'fpr': '0.026', 'fnr': '0.876'},\n",
       " 'L2_C1_expanded_balanced_w': {'fpr': '0.340', 'fnr': '0.317'},\n",
       " 'L1_C01_zip_balanced_w': {'fpr': '0.336', 'fnr': '0.318'},\n",
       " 'DT unregularized': {'fpr': '0.181', 'fnr': '0.655'},\n",
       " 'DT of depth 10': {'fpr': '0.023', 'fnr': '0.886'}}"
      ]
     },
     "execution_count": 161,
     "metadata": {},
     "output_type": "execute_result"
    }
   ],
   "source": [
    "fpr_and_fnr_results = \\\n",
    "    f.store_fpr_and_fnr_results(clf_base, 'DT unregularized', True, \\\n",
    "    valid_expanded_preprocessed, ['Y', 'Median_household_income'], 0.5, fpr_and_fnr_results)\n",
    "\n",
    "fpr_and_fnr_results = \\\n",
    "    f.store_fpr_and_fnr_results(clf_d10, 'DT of depth 10', True, \\\n",
    "    valid_expanded_preprocessed, ['Y', 'Median_household_income'], 0.5, fpr_and_fnr_results)\n",
    "fpr_and_fnr_results"
   ]
  },
  {
   "cell_type": "markdown",
   "metadata": {
    "scrolled": false
   },
   "source": [
    "Judging by false positive and false negative rates, the unregularized DT tends to favor positive outcomes more than the regularized decision tree of depth 15. \n",
    "\n",
    "Overall, decision tree models are performing worse than the majority of logistic regression models tried above. If non-linearities do not play a significant role in predicting outcomes, and linear models are powerful enough to capture signals in data, then the subpar performance of decision trees relative to logistic regressions is not surprising.\n",
    "\n",
    "In the next IPython Notebook, I peform some additional data analyses and modeling, including taking a closer look at the data points where my logitic models make mistakes and trying models with interaction terms. \n",
    "\n"
   ]
  }
 ],
 "metadata": {
  "celltoolbar": "Raw Cell Format",
  "kernelspec": {
   "display_name": "Python 3",
   "language": "python",
   "name": "python3"
  },
  "language_info": {
   "codemirror_mode": {
    "name": "ipython",
    "version": 3
   },
   "file_extension": ".py",
   "mimetype": "text/x-python",
   "name": "python",
   "nbconvert_exporter": "python",
   "pygments_lexer": "ipython3",
   "version": "3.7.1"
  }
 },
 "nbformat": 4,
 "nbformat_minor": 2
}
